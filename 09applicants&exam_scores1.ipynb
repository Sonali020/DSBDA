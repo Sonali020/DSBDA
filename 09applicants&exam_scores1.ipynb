{
 "cells": [
  {
   "cell_type": "markdown",
   "id": "6d3dc813-c181-47a1-ba95-ee30e9eb1190",
   "metadata": {},
   "source": [
    "9.\tPerform the following operations in python on given dataset \n",
    "[applicants.csv: Students who applied and exam_scores.csv: Standardized test results]\n",
    "a.\tClean up inconsistent formatting in names and missing test scores.\n",
    "b.\tJoin on ApplicationID to combine personal data with scores.\n",
    "c.\tNormalize test scores.\n",
    "d.\tConvert Admission_Status to binary labels (1 = admitted).\n",
    "e.\tRemove duplicate applications and fix invalid test score entries."
   ]
  },
  {
   "cell_type": "code",
   "execution_count": 1,
   "id": "f6514e7c-b58e-4727-8d49-9377cc2686e0",
   "metadata": {},
   "outputs": [],
   "source": [
    "import pandas as pd\n",
    "from sklearn.preprocessing import MinMaxScaler"
   ]
  },
  {
   "cell_type": "code",
   "execution_count": 3,
   "id": "c1397006-ab57-47f3-ae43-52508318a983",
   "metadata": {},
   "outputs": [],
   "source": [
    "applicants_df = pd.read_csv('applicants.csv')\n",
    "scores_df = pd.read_csv('exam_scores.csv')"
   ]
  },
  {
   "cell_type": "code",
   "execution_count": 5,
   "id": "b74a41b5-789c-4abc-86df-a66526831b63",
   "metadata": {},
   "outputs": [
    {
     "data": {
      "text/html": [
       "<div>\n",
       "<style scoped>\n",
       "    .dataframe tbody tr th:only-of-type {\n",
       "        vertical-align: middle;\n",
       "    }\n",
       "\n",
       "    .dataframe tbody tr th {\n",
       "        vertical-align: top;\n",
       "    }\n",
       "\n",
       "    .dataframe thead th {\n",
       "        text-align: right;\n",
       "    }\n",
       "</style>\n",
       "<table border=\"1\" class=\"dataframe\">\n",
       "  <thead>\n",
       "    <tr style=\"text-align: right;\">\n",
       "      <th></th>\n",
       "      <th>ApplicationID</th>\n",
       "      <th>Name</th>\n",
       "      <th>GPA</th>\n",
       "      <th>Admission_Status</th>\n",
       "    </tr>\n",
       "  </thead>\n",
       "  <tbody>\n",
       "    <tr>\n",
       "      <th>0</th>\n",
       "      <td>501</td>\n",
       "      <td>Rita</td>\n",
       "      <td>3.6</td>\n",
       "      <td>Admitted</td>\n",
       "    </tr>\n",
       "    <tr>\n",
       "      <th>1</th>\n",
       "      <td>502</td>\n",
       "      <td>Sam</td>\n",
       "      <td>3.8</td>\n",
       "      <td>Rejected</td>\n",
       "    </tr>\n",
       "    <tr>\n",
       "      <th>2</th>\n",
       "      <td>503</td>\n",
       "      <td>Liam</td>\n",
       "      <td>3.0</td>\n",
       "      <td>Admitted</td>\n",
       "    </tr>\n",
       "    <tr>\n",
       "      <th>3</th>\n",
       "      <td>504</td>\n",
       "      <td>Nina</td>\n",
       "      <td>3.5</td>\n",
       "      <td>Rejected</td>\n",
       "    </tr>\n",
       "    <tr>\n",
       "      <th>4</th>\n",
       "      <td>505</td>\n",
       "      <td>Tom</td>\n",
       "      <td>NaN</td>\n",
       "      <td>Admitted</td>\n",
       "    </tr>\n",
       "  </tbody>\n",
       "</table>\n",
       "</div>"
      ],
      "text/plain": [
       "   ApplicationID  Name  GPA Admission_Status\n",
       "0            501  Rita  3.6         Admitted\n",
       "1            502   Sam  3.8         Rejected\n",
       "2            503  Liam  3.0         Admitted\n",
       "3            504  Nina  3.5         Rejected\n",
       "4            505   Tom  NaN         Admitted"
      ]
     },
     "execution_count": 5,
     "metadata": {},
     "output_type": "execute_result"
    }
   ],
   "source": [
    "applicants_df"
   ]
  },
  {
   "cell_type": "code",
   "execution_count": 7,
   "id": "8432d49a-e2a0-4bc6-b453-ca507f463d2c",
   "metadata": {},
   "outputs": [
    {
     "data": {
      "text/html": [
       "<div>\n",
       "<style scoped>\n",
       "    .dataframe tbody tr th:only-of-type {\n",
       "        vertical-align: middle;\n",
       "    }\n",
       "\n",
       "    .dataframe tbody tr th {\n",
       "        vertical-align: top;\n",
       "    }\n",
       "\n",
       "    .dataframe thead th {\n",
       "        text-align: right;\n",
       "    }\n",
       "</style>\n",
       "<table border=\"1\" class=\"dataframe\">\n",
       "  <thead>\n",
       "    <tr style=\"text-align: right;\">\n",
       "      <th></th>\n",
       "      <th>ApplicationID</th>\n",
       "      <th>SAT</th>\n",
       "      <th>ACT</th>\n",
       "    </tr>\n",
       "  </thead>\n",
       "  <tbody>\n",
       "    <tr>\n",
       "      <th>0</th>\n",
       "      <td>501</td>\n",
       "      <td>1350.0</td>\n",
       "      <td>29</td>\n",
       "    </tr>\n",
       "    <tr>\n",
       "      <th>1</th>\n",
       "      <td>502</td>\n",
       "      <td>1450.0</td>\n",
       "      <td>31</td>\n",
       "    </tr>\n",
       "    <tr>\n",
       "      <th>2</th>\n",
       "      <td>503</td>\n",
       "      <td>1250.0</td>\n",
       "      <td>27</td>\n",
       "    </tr>\n",
       "    <tr>\n",
       "      <th>3</th>\n",
       "      <td>504</td>\n",
       "      <td>NaN</td>\n",
       "      <td>30</td>\n",
       "    </tr>\n",
       "    <tr>\n",
       "      <th>4</th>\n",
       "      <td>506</td>\n",
       "      <td>1100.0</td>\n",
       "      <td>25</td>\n",
       "    </tr>\n",
       "  </tbody>\n",
       "</table>\n",
       "</div>"
      ],
      "text/plain": [
       "   ApplicationID     SAT  ACT\n",
       "0            501  1350.0   29\n",
       "1            502  1450.0   31\n",
       "2            503  1250.0   27\n",
       "3            504     NaN   30\n",
       "4            506  1100.0   25"
      ]
     },
     "execution_count": 7,
     "metadata": {},
     "output_type": "execute_result"
    }
   ],
   "source": [
    "scores_df"
   ]
  },
  {
   "cell_type": "markdown",
   "id": "ab801f40-615f-4212-bbb0-a08f55abd5b1",
   "metadata": {},
   "source": [
    "# a. Clean inconsistent formatting in names and missing test scores"
   ]
  },
  {
   "cell_type": "code",
   "execution_count": 15,
   "id": "1c0e4cee-1c33-4fba-887f-45b516dd0349",
   "metadata": {},
   "outputs": [],
   "source": [
    "applicants_df['Name'] = applicants_df['Name'].str.strip().str.title()"
   ]
  },
  {
   "cell_type": "code",
   "execution_count": 17,
   "id": "9a7d5d95-0710-4485-80dd-d414e725c783",
   "metadata": {},
   "outputs": [],
   "source": [
    "scores_df.dropna(subset=['SAT', 'ACT'], inplace=True)"
   ]
  },
  {
   "cell_type": "markdown",
   "id": "35db4b55-a59d-423d-9e35-b0f91c31c026",
   "metadata": {},
   "source": [
    "# b. Join on ApplicationID to combine personal data with scores"
   ]
  },
  {
   "cell_type": "code",
   "execution_count": 22,
   "id": "16c248f0-f932-4fb7-b88e-394e5c32d780",
   "metadata": {},
   "outputs": [],
   "source": [
    "merged_df = pd.merge(applicants_df, scores_df, on='ApplicationID', how='inner')"
   ]
  },
  {
   "cell_type": "code",
   "execution_count": 39,
   "id": "8f00af4b-164a-4e95-8eb6-edf133bc4b8f",
   "metadata": {},
   "outputs": [
    {
     "data": {
      "text/html": [
       "<div>\n",
       "<style scoped>\n",
       "    .dataframe tbody tr th:only-of-type {\n",
       "        vertical-align: middle;\n",
       "    }\n",
       "\n",
       "    .dataframe tbody tr th {\n",
       "        vertical-align: top;\n",
       "    }\n",
       "\n",
       "    .dataframe thead th {\n",
       "        text-align: right;\n",
       "    }\n",
       "</style>\n",
       "<table border=\"1\" class=\"dataframe\">\n",
       "  <thead>\n",
       "    <tr style=\"text-align: right;\">\n",
       "      <th></th>\n",
       "      <th>ApplicationID</th>\n",
       "      <th>Name</th>\n",
       "      <th>GPA</th>\n",
       "      <th>Admission_Status</th>\n",
       "      <th>SAT</th>\n",
       "      <th>ACT</th>\n",
       "      <th>SAT_Norm</th>\n",
       "      <th>ACT_Norm</th>\n",
       "      <th>Admission_Label</th>\n",
       "    </tr>\n",
       "  </thead>\n",
       "  <tbody>\n",
       "    <tr>\n",
       "      <th>0</th>\n",
       "      <td>501</td>\n",
       "      <td>Rita</td>\n",
       "      <td>3.6</td>\n",
       "      <td>Admitted</td>\n",
       "      <td>1350.0</td>\n",
       "      <td>29</td>\n",
       "      <td>0.5</td>\n",
       "      <td>0.5</td>\n",
       "      <td>1</td>\n",
       "    </tr>\n",
       "    <tr>\n",
       "      <th>1</th>\n",
       "      <td>502</td>\n",
       "      <td>Sam</td>\n",
       "      <td>3.8</td>\n",
       "      <td>Rejected</td>\n",
       "      <td>1450.0</td>\n",
       "      <td>31</td>\n",
       "      <td>1.0</td>\n",
       "      <td>1.0</td>\n",
       "      <td>0</td>\n",
       "    </tr>\n",
       "    <tr>\n",
       "      <th>2</th>\n",
       "      <td>503</td>\n",
       "      <td>Liam</td>\n",
       "      <td>3.0</td>\n",
       "      <td>Admitted</td>\n",
       "      <td>1250.0</td>\n",
       "      <td>27</td>\n",
       "      <td>0.0</td>\n",
       "      <td>0.0</td>\n",
       "      <td>1</td>\n",
       "    </tr>\n",
       "  </tbody>\n",
       "</table>\n",
       "</div>"
      ],
      "text/plain": [
       "   ApplicationID  Name  GPA Admission_Status     SAT  ACT  SAT_Norm  ACT_Norm  \\\n",
       "0            501  Rita  3.6         Admitted  1350.0   29       0.5       0.5   \n",
       "1            502   Sam  3.8         Rejected  1450.0   31       1.0       1.0   \n",
       "2            503  Liam  3.0         Admitted  1250.0   27       0.0       0.0   \n",
       "\n",
       "   Admission_Label  \n",
       "0                1  \n",
       "1                0  \n",
       "2                1  "
      ]
     },
     "execution_count": 39,
     "metadata": {},
     "output_type": "execute_result"
    }
   ],
   "source": [
    "merged_df"
   ]
  },
  {
   "cell_type": "markdown",
   "id": "d196db8a-7c69-49c0-965b-7d2a8f69429c",
   "metadata": {},
   "source": [
    "# c. Normalize test scores"
   ]
  },
  {
   "cell_type": "code",
   "execution_count": 25,
   "id": "c3be781d-1444-4f50-bd0b-8629e8bfb5b0",
   "metadata": {},
   "outputs": [],
   "source": [
    "scaler = MinMaxScaler()\n",
    "merged_df[['SAT_Norm', 'ACT_Norm']] = scaler.fit_transform(merged_df[['SAT', 'ACT']])"
   ]
  },
  {
   "cell_type": "markdown",
   "id": "5d87d048-bd4c-4d59-abdf-57f0d483ba42",
   "metadata": {},
   "source": [
    "# d. Convert Admission_Status to binary labels (1 = Admitted, 0 = Rejected)"
   ]
  },
  {
   "cell_type": "code",
   "execution_count": 28,
   "id": "1efa482a-7e33-4a28-b3c6-5c654d49dba4",
   "metadata": {},
   "outputs": [],
   "source": [
    "merged_df['Admission_Label'] = merged_df['Admission_Status'].str.strip().str.lower().map({'admitted': 1, 'rejected': 0})"
   ]
  },
  {
   "cell_type": "markdown",
   "id": "2ef04608-ba4f-4e83-9dd0-a5a873107e1e",
   "metadata": {},
   "source": [
    "# e. Remove duplicate applications and fix invalid score entries"
   ]
  },
  {
   "cell_type": "code",
   "execution_count": 31,
   "id": "9ede2d51-5144-4522-a728-734e282dcc3f",
   "metadata": {},
   "outputs": [],
   "source": [
    "merged_df.drop_duplicates(subset='ApplicationID', keep='first', inplace=True)"
   ]
  },
  {
   "cell_type": "code",
   "execution_count": 33,
   "id": "4fcff24b-1ffb-4021-9741-c7418f93d70a",
   "metadata": {},
   "outputs": [],
   "source": [
    "merged_df = merged_df[(merged_df['SAT'] >= 400) & (merged_df['SAT'] <= 1600)]\n",
    "merged_df = merged_df[(merged_df['ACT'] >= 1) & (merged_df['ACT'] <= 36)]"
   ]
  },
  {
   "cell_type": "code",
   "execution_count": 35,
   "id": "8844b3a0-d40d-48b1-a8f6-7135387bb09e",
   "metadata": {},
   "outputs": [
    {
     "name": "stdout",
     "output_type": "stream",
     "text": [
      "   ApplicationID  Name  GPA     SAT  ACT  SAT_Norm  ACT_Norm  Admission_Label\n",
      "0            501  Rita  3.6  1350.0   29       0.5       0.5                1\n",
      "1            502   Sam  3.8  1450.0   31       1.0       1.0                0\n",
      "2            503  Liam  3.0  1250.0   27       0.0       0.0                1\n"
     ]
    }
   ],
   "source": [
    "print(merged_df[['ApplicationID', 'Name', 'GPA', 'SAT', 'ACT', 'SAT_Norm', 'ACT_Norm', 'Admission_Label']])"
   ]
  },
  {
   "cell_type": "code",
   "execution_count": null,
   "id": "94da33b2-3c78-4da6-9e1d-06d7df02f2ed",
   "metadata": {},
   "outputs": [],
   "source": []
  },
  {
   "cell_type": "code",
   "execution_count": null,
   "id": "cc638492-f26b-4b9e-94b1-27764e33f67d",
   "metadata": {},
   "outputs": [],
   "source": []
  },
  {
   "cell_type": "code",
   "execution_count": null,
   "id": "e7d8d0cb-37af-49fb-9d32-24e74731d4cd",
   "metadata": {},
   "outputs": [],
   "source": []
  },
  {
   "cell_type": "code",
   "execution_count": null,
   "id": "71179162-9033-48ae-b68e-91d06b6dd75a",
   "metadata": {},
   "outputs": [],
   "source": []
  },
  {
   "cell_type": "code",
   "execution_count": null,
   "id": "8107de78-ef6b-4627-8511-2883f00bea7e",
   "metadata": {},
   "outputs": [],
   "source": []
  }
 ],
 "metadata": {
  "kernelspec": {
   "display_name": "Python 3 (ipykernel)",
   "language": "python",
   "name": "python3"
  },
  "language_info": {
   "codemirror_mode": {
    "name": "ipython",
    "version": 3
   },
   "file_extension": ".py",
   "mimetype": "text/x-python",
   "name": "python",
   "nbconvert_exporter": "python",
   "pygments_lexer": "ipython3",
   "version": "3.12.4"
  }
 },
 "nbformat": 4,
 "nbformat_minor": 5
}
