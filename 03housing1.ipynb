{
 "cells": [
  {
   "cell_type": "markdown",
   "id": "3e98fcb4-aab1-49da-80e1-83711aba09e3",
   "metadata": {},
   "source": [
    "3.\tPerform the following operations in python on given dataset [housing.csv]\n",
    "a.\tSubset houses with median income > 5 and average rooms < 6.\n",
    "b.\tMerge with a regional lookup table mapping latitude/longitude to regions.\n",
    "c.\tSort by median_house_value and population.\n",
    "d.\tTranspose statistics summary to compare features.\n",
    "e.\tReshape the data to view average house value across income and housing age bins."
   ]
  },
  {
   "cell_type": "code",
   "execution_count": 1,
   "id": "c8aeebf4-8b79-4f72-92fc-76ac9491d1dc",
   "metadata": {},
   "outputs": [],
   "source": [
    "import pandas as pd\n",
    "import numpy as np"
   ]
  },
  {
   "cell_type": "code",
   "execution_count": 3,
   "id": "66c9b3c1-ce8d-41e1-a394-b1b1296b4153",
   "metadata": {},
   "outputs": [],
   "source": [
    "df = pd.read_csv(\"housing.csv\")"
   ]
  },
  {
   "cell_type": "code",
   "execution_count": 5,
   "id": "faeeb1a6-1515-4ce3-9ac9-a634d84284bc",
   "metadata": {},
   "outputs": [
    {
     "data": {
      "text/html": [
       "<div>\n",
       "<style scoped>\n",
       "    .dataframe tbody tr th:only-of-type {\n",
       "        vertical-align: middle;\n",
       "    }\n",
       "\n",
       "    .dataframe tbody tr th {\n",
       "        vertical-align: top;\n",
       "    }\n",
       "\n",
       "    .dataframe thead th {\n",
       "        text-align: right;\n",
       "    }\n",
       "</style>\n",
       "<table border=\"1\" class=\"dataframe\">\n",
       "  <thead>\n",
       "    <tr style=\"text-align: right;\">\n",
       "      <th></th>\n",
       "      <th>longitude</th>\n",
       "      <th>latitude</th>\n",
       "      <th>housing_median_age</th>\n",
       "      <th>total_rooms</th>\n",
       "      <th>total_bedrooms</th>\n",
       "      <th>population</th>\n",
       "      <th>households</th>\n",
       "      <th>median_income</th>\n",
       "      <th>median_house_value</th>\n",
       "      <th>ocean_proximity</th>\n",
       "    </tr>\n",
       "  </thead>\n",
       "  <tbody>\n",
       "    <tr>\n",
       "      <th>0</th>\n",
       "      <td>-122.23</td>\n",
       "      <td>37.88</td>\n",
       "      <td>41.0</td>\n",
       "      <td>880.0</td>\n",
       "      <td>129.0</td>\n",
       "      <td>322.0</td>\n",
       "      <td>126.0</td>\n",
       "      <td>8.3252</td>\n",
       "      <td>452600.0</td>\n",
       "      <td>NEAR BAY</td>\n",
       "    </tr>\n",
       "    <tr>\n",
       "      <th>1</th>\n",
       "      <td>-122.22</td>\n",
       "      <td>37.86</td>\n",
       "      <td>21.0</td>\n",
       "      <td>7099.0</td>\n",
       "      <td>1106.0</td>\n",
       "      <td>2401.0</td>\n",
       "      <td>1138.0</td>\n",
       "      <td>8.3014</td>\n",
       "      <td>358500.0</td>\n",
       "      <td>NEAR BAY</td>\n",
       "    </tr>\n",
       "    <tr>\n",
       "      <th>2</th>\n",
       "      <td>-122.24</td>\n",
       "      <td>37.85</td>\n",
       "      <td>52.0</td>\n",
       "      <td>1467.0</td>\n",
       "      <td>190.0</td>\n",
       "      <td>496.0</td>\n",
       "      <td>177.0</td>\n",
       "      <td>7.2574</td>\n",
       "      <td>352100.0</td>\n",
       "      <td>NEAR BAY</td>\n",
       "    </tr>\n",
       "    <tr>\n",
       "      <th>3</th>\n",
       "      <td>-122.25</td>\n",
       "      <td>37.85</td>\n",
       "      <td>52.0</td>\n",
       "      <td>1274.0</td>\n",
       "      <td>235.0</td>\n",
       "      <td>558.0</td>\n",
       "      <td>219.0</td>\n",
       "      <td>5.6431</td>\n",
       "      <td>341300.0</td>\n",
       "      <td>NEAR BAY</td>\n",
       "    </tr>\n",
       "    <tr>\n",
       "      <th>4</th>\n",
       "      <td>-122.25</td>\n",
       "      <td>37.85</td>\n",
       "      <td>52.0</td>\n",
       "      <td>1627.0</td>\n",
       "      <td>280.0</td>\n",
       "      <td>565.0</td>\n",
       "      <td>259.0</td>\n",
       "      <td>3.8462</td>\n",
       "      <td>342200.0</td>\n",
       "      <td>NEAR BAY</td>\n",
       "    </tr>\n",
       "  </tbody>\n",
       "</table>\n",
       "</div>"
      ],
      "text/plain": [
       "   longitude  latitude  housing_median_age  total_rooms  total_bedrooms  \\\n",
       "0    -122.23     37.88                41.0        880.0           129.0   \n",
       "1    -122.22     37.86                21.0       7099.0          1106.0   \n",
       "2    -122.24     37.85                52.0       1467.0           190.0   \n",
       "3    -122.25     37.85                52.0       1274.0           235.0   \n",
       "4    -122.25     37.85                52.0       1627.0           280.0   \n",
       "\n",
       "   population  households  median_income  median_house_value ocean_proximity  \n",
       "0       322.0       126.0         8.3252            452600.0        NEAR BAY  \n",
       "1      2401.0      1138.0         8.3014            358500.0        NEAR BAY  \n",
       "2       496.0       177.0         7.2574            352100.0        NEAR BAY  \n",
       "3       558.0       219.0         5.6431            341300.0        NEAR BAY  \n",
       "4       565.0       259.0         3.8462            342200.0        NEAR BAY  "
      ]
     },
     "execution_count": 5,
     "metadata": {},
     "output_type": "execute_result"
    }
   ],
   "source": [
    "df.head()"
   ]
  },
  {
   "cell_type": "markdown",
   "id": "bc1de4dd-e513-41a4-9c2f-bb9c7b39a3bf",
   "metadata": {},
   "source": [
    "# a. Subset houses with median income > 5 and average rooms < 6"
   ]
  },
  {
   "cell_type": "code",
   "execution_count": 8,
   "id": "0c8c94cd-70eb-4884-9cff-8bb37706c3a5",
   "metadata": {},
   "outputs": [
    {
     "data": {
      "text/html": [
       "<div>\n",
       "<style scoped>\n",
       "    .dataframe tbody tr th:only-of-type {\n",
       "        vertical-align: middle;\n",
       "    }\n",
       "\n",
       "    .dataframe tbody tr th {\n",
       "        vertical-align: top;\n",
       "    }\n",
       "\n",
       "    .dataframe thead th {\n",
       "        text-align: right;\n",
       "    }\n",
       "</style>\n",
       "<table border=\"1\" class=\"dataframe\">\n",
       "  <thead>\n",
       "    <tr style=\"text-align: right;\">\n",
       "      <th></th>\n",
       "      <th>longitude</th>\n",
       "      <th>latitude</th>\n",
       "      <th>housing_median_age</th>\n",
       "      <th>total_rooms</th>\n",
       "      <th>total_bedrooms</th>\n",
       "      <th>population</th>\n",
       "      <th>households</th>\n",
       "      <th>median_income</th>\n",
       "      <th>median_house_value</th>\n",
       "      <th>ocean_proximity</th>\n",
       "    </tr>\n",
       "  </thead>\n",
       "  <tbody>\n",
       "    <tr>\n",
       "      <th>3</th>\n",
       "      <td>-122.25</td>\n",
       "      <td>37.85</td>\n",
       "      <td>52.0</td>\n",
       "      <td>1274.0</td>\n",
       "      <td>235.0</td>\n",
       "      <td>558.0</td>\n",
       "      <td>219.0</td>\n",
       "      <td>5.6431</td>\n",
       "      <td>341300.0</td>\n",
       "      <td>NEAR BAY</td>\n",
       "    </tr>\n",
       "    <tr>\n",
       "      <th>61</th>\n",
       "      <td>-122.29</td>\n",
       "      <td>37.82</td>\n",
       "      <td>49.0</td>\n",
       "      <td>135.0</td>\n",
       "      <td>29.0</td>\n",
       "      <td>86.0</td>\n",
       "      <td>23.0</td>\n",
       "      <td>6.1183</td>\n",
       "      <td>75000.0</td>\n",
       "      <td>NEAR BAY</td>\n",
       "    </tr>\n",
       "    <tr>\n",
       "      <th>110</th>\n",
       "      <td>-122.25</td>\n",
       "      <td>37.82</td>\n",
       "      <td>52.0</td>\n",
       "      <td>1424.0</td>\n",
       "      <td>289.0</td>\n",
       "      <td>550.0</td>\n",
       "      <td>253.0</td>\n",
       "      <td>5.0917</td>\n",
       "      <td>262500.0</td>\n",
       "      <td>NEAR BAY</td>\n",
       "    </tr>\n",
       "    <tr>\n",
       "      <th>125</th>\n",
       "      <td>-122.22</td>\n",
       "      <td>37.85</td>\n",
       "      <td>28.0</td>\n",
       "      <td>5287.0</td>\n",
       "      <td>1048.0</td>\n",
       "      <td>2031.0</td>\n",
       "      <td>956.0</td>\n",
       "      <td>5.4570</td>\n",
       "      <td>337300.0</td>\n",
       "      <td>NEAR BAY</td>\n",
       "    </tr>\n",
       "    <tr>\n",
       "      <th>127</th>\n",
       "      <td>-122.21</td>\n",
       "      <td>37.84</td>\n",
       "      <td>44.0</td>\n",
       "      <td>3424.0</td>\n",
       "      <td>597.0</td>\n",
       "      <td>1358.0</td>\n",
       "      <td>597.0</td>\n",
       "      <td>6.0194</td>\n",
       "      <td>292300.0</td>\n",
       "      <td>NEAR BAY</td>\n",
       "    </tr>\n",
       "  </tbody>\n",
       "</table>\n",
       "</div>"
      ],
      "text/plain": [
       "     longitude  latitude  housing_median_age  total_rooms  total_bedrooms  \\\n",
       "3      -122.25     37.85                52.0       1274.0           235.0   \n",
       "61     -122.29     37.82                49.0        135.0            29.0   \n",
       "110    -122.25     37.82                52.0       1424.0           289.0   \n",
       "125    -122.22     37.85                28.0       5287.0          1048.0   \n",
       "127    -122.21     37.84                44.0       3424.0           597.0   \n",
       "\n",
       "     population  households  median_income  median_house_value ocean_proximity  \n",
       "3         558.0       219.0         5.6431            341300.0        NEAR BAY  \n",
       "61         86.0        23.0         6.1183             75000.0        NEAR BAY  \n",
       "110       550.0       253.0         5.0917            262500.0        NEAR BAY  \n",
       "125      2031.0       956.0         5.4570            337300.0        NEAR BAY  \n",
       "127      1358.0       597.0         6.0194            292300.0        NEAR BAY  "
      ]
     },
     "execution_count": 8,
     "metadata": {},
     "output_type": "execute_result"
    }
   ],
   "source": [
    "subset_df = df[(df['median_income'] > 5) & (df['total_rooms'] / df['households'] < 6)]\n",
    "subset_df.head()"
   ]
  },
  {
   "cell_type": "markdown",
   "id": "d6383fa1-ad22-423d-9daa-a5add2b831de",
   "metadata": {},
   "source": [
    "# b. Merge with a regional lookup table (latitude/longitude → region)"
   ]
  },
  {
   "cell_type": "code",
   "execution_count": 11,
   "id": "56ab932e-6167-4243-99ba-cd1327ad326b",
   "metadata": {},
   "outputs": [],
   "source": [
    "region_lookup = pd.DataFrame({\n",
    "    'region': ['North', 'Central', 'South'],\n",
    "    'lat_min': [37, 34, 32],\n",
    "    'lat_max': [40, 37, 34]\n",
    "})"
   ]
  },
  {
   "cell_type": "code",
   "execution_count": 13,
   "id": "cd7995b5-c98d-4ecc-bc5b-1dd87d8e4574",
   "metadata": {},
   "outputs": [],
   "source": [
    "def map_region(lat):\n",
    "    for _, row in region_lookup.iterrows():\n",
    "        if row['lat_min'] <= lat < row['lat_max']:\n",
    "            return row['region']\n",
    "    return 'Other'"
   ]
  },
  {
   "cell_type": "code",
   "execution_count": 15,
   "id": "c273daa3-260a-41e4-84ea-aac743068113",
   "metadata": {},
   "outputs": [
    {
     "name": "stdout",
     "output_type": "stream",
     "text": [
      "    latitude region\n",
      "0      37.88  North\n",
      "1      37.86  North\n",
      "2      37.85  North\n",
      "6      37.84  North\n",
      "33     37.83  North\n"
     ]
    }
   ],
   "source": [
    "df['region'] = df['latitude'].apply(map_region)\n",
    "print(df[['latitude', 'region']].drop_duplicates().head())"
   ]
  },
  {
   "cell_type": "markdown",
   "id": "a29bd95d-e43b-43f9-a0c9-afe852b52500",
   "metadata": {},
   "source": [
    "# c. Sort by median_house_value and population"
   ]
  },
  {
   "cell_type": "code",
   "execution_count": 18,
   "id": "76c5858b-9df4-4b4a-82b9-c440613bf160",
   "metadata": {},
   "outputs": [
    {
     "name": "stdout",
     "output_type": "stream",
     "text": [
      "       median_house_value  population\n",
      "19802             14999.0        18.0\n",
      "2521              14999.0        85.0\n",
      "2799              14999.0       490.0\n",
      "9188              14999.0       628.0\n",
      "5887              17500.0       259.0\n"
     ]
    }
   ],
   "source": [
    "sorted_df = df.sort_values(by=['median_house_value', 'population'], ascending=[True, True])\n",
    "print(sorted_df[['median_house_value', 'population']].head())"
   ]
  },
  {
   "cell_type": "markdown",
   "id": "0c1edfb1-acec-4afc-977f-88d3467af528",
   "metadata": {},
   "source": [
    "# d. Transpose statistical summary to compare features"
   ]
  },
  {
   "cell_type": "code",
   "execution_count": 21,
   "id": "1850251f-b2a6-4e14-a802-7b6638d43995",
   "metadata": {},
   "outputs": [
    {
     "data": {
      "text/html": [
       "<div>\n",
       "<style scoped>\n",
       "    .dataframe tbody tr th:only-of-type {\n",
       "        vertical-align: middle;\n",
       "    }\n",
       "\n",
       "    .dataframe tbody tr th {\n",
       "        vertical-align: top;\n",
       "    }\n",
       "\n",
       "    .dataframe thead th {\n",
       "        text-align: right;\n",
       "    }\n",
       "</style>\n",
       "<table border=\"1\" class=\"dataframe\">\n",
       "  <thead>\n",
       "    <tr style=\"text-align: right;\">\n",
       "      <th></th>\n",
       "      <th>count</th>\n",
       "      <th>mean</th>\n",
       "      <th>std</th>\n",
       "      <th>min</th>\n",
       "      <th>25%</th>\n",
       "      <th>50%</th>\n",
       "      <th>75%</th>\n",
       "      <th>max</th>\n",
       "    </tr>\n",
       "  </thead>\n",
       "  <tbody>\n",
       "    <tr>\n",
       "      <th>longitude</th>\n",
       "      <td>20640.0</td>\n",
       "      <td>-119.569704</td>\n",
       "      <td>2.003532</td>\n",
       "      <td>-124.3500</td>\n",
       "      <td>-121.8000</td>\n",
       "      <td>-118.4900</td>\n",
       "      <td>-118.01000</td>\n",
       "      <td>-114.3100</td>\n",
       "    </tr>\n",
       "    <tr>\n",
       "      <th>latitude</th>\n",
       "      <td>20640.0</td>\n",
       "      <td>35.631861</td>\n",
       "      <td>2.135952</td>\n",
       "      <td>32.5400</td>\n",
       "      <td>33.9300</td>\n",
       "      <td>34.2600</td>\n",
       "      <td>37.71000</td>\n",
       "      <td>41.9500</td>\n",
       "    </tr>\n",
       "    <tr>\n",
       "      <th>housing_median_age</th>\n",
       "      <td>20640.0</td>\n",
       "      <td>28.639486</td>\n",
       "      <td>12.585558</td>\n",
       "      <td>1.0000</td>\n",
       "      <td>18.0000</td>\n",
       "      <td>29.0000</td>\n",
       "      <td>37.00000</td>\n",
       "      <td>52.0000</td>\n",
       "    </tr>\n",
       "    <tr>\n",
       "      <th>total_rooms</th>\n",
       "      <td>20640.0</td>\n",
       "      <td>2635.763081</td>\n",
       "      <td>2181.615252</td>\n",
       "      <td>2.0000</td>\n",
       "      <td>1447.7500</td>\n",
       "      <td>2127.0000</td>\n",
       "      <td>3148.00000</td>\n",
       "      <td>39320.0000</td>\n",
       "    </tr>\n",
       "    <tr>\n",
       "      <th>total_bedrooms</th>\n",
       "      <td>20433.0</td>\n",
       "      <td>537.870553</td>\n",
       "      <td>421.385070</td>\n",
       "      <td>1.0000</td>\n",
       "      <td>296.0000</td>\n",
       "      <td>435.0000</td>\n",
       "      <td>647.00000</td>\n",
       "      <td>6445.0000</td>\n",
       "    </tr>\n",
       "    <tr>\n",
       "      <th>population</th>\n",
       "      <td>20640.0</td>\n",
       "      <td>1425.476744</td>\n",
       "      <td>1132.462122</td>\n",
       "      <td>3.0000</td>\n",
       "      <td>787.0000</td>\n",
       "      <td>1166.0000</td>\n",
       "      <td>1725.00000</td>\n",
       "      <td>35682.0000</td>\n",
       "    </tr>\n",
       "    <tr>\n",
       "      <th>households</th>\n",
       "      <td>20640.0</td>\n",
       "      <td>499.539680</td>\n",
       "      <td>382.329753</td>\n",
       "      <td>1.0000</td>\n",
       "      <td>280.0000</td>\n",
       "      <td>409.0000</td>\n",
       "      <td>605.00000</td>\n",
       "      <td>6082.0000</td>\n",
       "    </tr>\n",
       "    <tr>\n",
       "      <th>median_income</th>\n",
       "      <td>20640.0</td>\n",
       "      <td>3.870671</td>\n",
       "      <td>1.899822</td>\n",
       "      <td>0.4999</td>\n",
       "      <td>2.5634</td>\n",
       "      <td>3.5348</td>\n",
       "      <td>4.74325</td>\n",
       "      <td>15.0001</td>\n",
       "    </tr>\n",
       "    <tr>\n",
       "      <th>median_house_value</th>\n",
       "      <td>20640.0</td>\n",
       "      <td>206855.816909</td>\n",
       "      <td>115395.615874</td>\n",
       "      <td>14999.0000</td>\n",
       "      <td>119600.0000</td>\n",
       "      <td>179700.0000</td>\n",
       "      <td>264725.00000</td>\n",
       "      <td>500001.0000</td>\n",
       "    </tr>\n",
       "  </tbody>\n",
       "</table>\n",
       "</div>"
      ],
      "text/plain": [
       "                      count           mean            std         min  \\\n",
       "longitude           20640.0    -119.569704       2.003532   -124.3500   \n",
       "latitude            20640.0      35.631861       2.135952     32.5400   \n",
       "housing_median_age  20640.0      28.639486      12.585558      1.0000   \n",
       "total_rooms         20640.0    2635.763081    2181.615252      2.0000   \n",
       "total_bedrooms      20433.0     537.870553     421.385070      1.0000   \n",
       "population          20640.0    1425.476744    1132.462122      3.0000   \n",
       "households          20640.0     499.539680     382.329753      1.0000   \n",
       "median_income       20640.0       3.870671       1.899822      0.4999   \n",
       "median_house_value  20640.0  206855.816909  115395.615874  14999.0000   \n",
       "\n",
       "                            25%          50%           75%          max  \n",
       "longitude             -121.8000    -118.4900    -118.01000    -114.3100  \n",
       "latitude                33.9300      34.2600      37.71000      41.9500  \n",
       "housing_median_age      18.0000      29.0000      37.00000      52.0000  \n",
       "total_rooms           1447.7500    2127.0000    3148.00000   39320.0000  \n",
       "total_bedrooms         296.0000     435.0000     647.00000    6445.0000  \n",
       "population             787.0000    1166.0000    1725.00000   35682.0000  \n",
       "households             280.0000     409.0000     605.00000    6082.0000  \n",
       "median_income            2.5634       3.5348       4.74325      15.0001  \n",
       "median_house_value  119600.0000  179700.0000  264725.00000  500001.0000  "
      ]
     },
     "execution_count": 21,
     "metadata": {},
     "output_type": "execute_result"
    }
   ],
   "source": [
    "summary = df.describe().transpose()\n",
    "summary"
   ]
  },
  {
   "cell_type": "markdown",
   "id": "1cb2786e-e7f7-48bc-98bc-b5a3f0256d61",
   "metadata": {},
   "source": [
    "# e. Reshape data to view average house value across income and housing age bins"
   ]
  },
  {
   "cell_type": "code",
   "execution_count": 24,
   "id": "7477787a-462f-4544-bb82-3da2972b0c31",
   "metadata": {},
   "outputs": [],
   "source": [
    "df['income_bin'] = pd.cut(df['median_income'], bins=[0, 2, 4, 6, 8, np.inf], labels=['0–2', '2–4', '4–6', '6–8', '8+'])\n",
    "df['age_bin'] = pd.cut(df['housing_median_age'], bins=[0, 15, 30, 45, 60, np.inf], labels=['0–15', '15–30', '30–45', '45–60', '60+'])"
   ]
  },
  {
   "cell_type": "code",
   "execution_count": 30,
   "id": "d54c411d-42be-45b1-abbf-42c71cc66531",
   "metadata": {},
   "outputs": [],
   "source": [
    "pivot_df = df.pivot_table(\n",
    "    index='income_bin',\n",
    "    columns='age_bin',\n",
    "    values='median_house_value',\n",
    "    aggfunc='mean',\n",
    "    observed=False  \n",
    ")"
   ]
  },
  {
   "cell_type": "code",
   "execution_count": 32,
   "id": "d10c085e-b6fc-4391-9ee4-21c3e6da5e85",
   "metadata": {},
   "outputs": [
    {
     "name": "stdout",
     "output_type": "stream",
     "text": [
      "age_bin              0–15          15–30          30–45          45–60\n",
      "income_bin                                                            \n",
      "0–2         115393.247748  111573.161074  106909.131282  127883.617486\n",
      "2–4         143417.951184  162149.903495  168882.955424  216381.252402\n",
      "4–6         201718.548303  236633.878615  258595.851740  324184.828512\n",
      "6–8         301106.979434  328649.874172  396455.830097  413614.181034\n",
      "8+          429610.044776  452121.240602  486480.336842  475778.810000\n"
     ]
    }
   ],
   "source": [
    "print(pivot_df)"
   ]
  },
  {
   "cell_type": "code",
   "execution_count": null,
   "id": "81d1871b-74e9-4cf3-806f-de573314cbd1",
   "metadata": {},
   "outputs": [],
   "source": []
  }
 ],
 "metadata": {
  "kernelspec": {
   "display_name": "Python 3 (ipykernel)",
   "language": "python",
   "name": "python3"
  },
  "language_info": {
   "codemirror_mode": {
    "name": "ipython",
    "version": 3
   },
   "file_extension": ".py",
   "mimetype": "text/x-python",
   "name": "python",
   "nbconvert_exporter": "python",
   "pygments_lexer": "ipython3",
   "version": "3.12.4"
  }
 },
 "nbformat": 4,
 "nbformat_minor": 5
}
