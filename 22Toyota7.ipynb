{
 "cells": [
  {
   "cell_type": "markdown",
   "id": "cefcc066-cecf-42fb-82f9-03bab2e36007",
   "metadata": {},
   "source": [
    "22.\tPerform following operations on the given data set (Toyota.csv)\n",
    "a.\tDisplay shape and summary and count of missing values in the dataset\n",
    "b.\tRemove duplicate records\n",
    "c.\tClean the data set- Replace the missing values in each column with appropriate value\n",
    "d.\tConvert the datatype of Metcolor and Automatic column in as object type"
   ]
  },
  {
   "cell_type": "code",
   "execution_count": 1,
   "id": "8003ace3-cb8f-45a9-b4fd-90ab74ac9ba6",
   "metadata": {},
   "outputs": [],
   "source": [
    "import pandas as pd"
   ]
  },
  {
   "cell_type": "code",
   "execution_count": 2,
   "id": "c679d38a-78cf-42fd-86ff-9252f29d2126",
   "metadata": {},
   "outputs": [],
   "source": [
    "# Load dataset\n",
    "df = pd.read_csv(\"Toyota.csv\")"
   ]
  },
  {
   "cell_type": "markdown",
   "id": "5e4f0446-98dc-4cad-986c-9575aa848fb8",
   "metadata": {},
   "source": [
    "# a. Display shape, summary, and count of missing values"
   ]
  },
  {
   "cell_type": "code",
   "execution_count": 4,
   "id": "e479f92c-c935-4ac2-94db-c97ec9758c2f",
   "metadata": {},
   "outputs": [
    {
     "name": "stdout",
     "output_type": "stream",
     "text": [
      "Dataset Shape: (1436, 11)\n"
     ]
    }
   ],
   "source": [
    "print(\"Dataset Shape:\", df.shape)"
   ]
  },
  {
   "cell_type": "code",
   "execution_count": 5,
   "id": "a9e0f286-f429-4937-a1be-bb6edf8a90d4",
   "metadata": {},
   "outputs": [
    {
     "name": "stdout",
     "output_type": "stream",
     "text": [
      "\n",
      "Summary:\n",
      "          Unnamed: 0         Price          Age    KM FuelType    HP  \\\n",
      "count   1436.000000   1436.000000  1336.000000  1436     1336  1436   \n",
      "unique          NaN           NaN          NaN  1256        3    13   \n",
      "top             NaN           NaN          NaN    ??   Petrol   110   \n",
      "freq            NaN           NaN          NaN    15     1177   833   \n",
      "mean     717.500000  10730.824513    55.672156   NaN      NaN   NaN   \n",
      "std      414.681806   3626.964585    18.589804   NaN      NaN   NaN   \n",
      "min        0.000000   4350.000000     1.000000   NaN      NaN   NaN   \n",
      "25%      358.750000   8450.000000    43.000000   NaN      NaN   NaN   \n",
      "50%      717.500000   9900.000000    60.000000   NaN      NaN   NaN   \n",
      "75%     1076.250000  11950.000000    70.000000   NaN      NaN   NaN   \n",
      "max     1435.000000  32500.000000    80.000000   NaN      NaN   NaN   \n",
      "\n",
      "           MetColor    Automatic           CC Doors      Weight  \n",
      "count   1286.000000  1436.000000  1436.000000  1436  1436.00000  \n",
      "unique          NaN          NaN          NaN     7         NaN  \n",
      "top             NaN          NaN          NaN     5         NaN  \n",
      "freq            NaN          NaN          NaN   673         NaN  \n",
      "mean       0.674961     0.055710  1566.827994   NaN  1072.45961  \n",
      "std        0.468572     0.229441   187.182436   NaN    52.64112  \n",
      "min        0.000000     0.000000  1300.000000   NaN  1000.00000  \n",
      "25%        0.000000     0.000000  1400.000000   NaN  1040.00000  \n",
      "50%        1.000000     0.000000  1600.000000   NaN  1070.00000  \n",
      "75%        1.000000     0.000000  1600.000000   NaN  1085.00000  \n",
      "max        1.000000     1.000000  2000.000000   NaN  1615.00000  \n"
     ]
    }
   ],
   "source": [
    "print(\"\\nSummary:\\n\", df.describe(include='all'))"
   ]
  },
  {
   "cell_type": "code",
   "execution_count": 8,
   "id": "90ee265b-9d13-4f60-b758-f2ef80dab7d4",
   "metadata": {},
   "outputs": [
    {
     "name": "stdout",
     "output_type": "stream",
     "text": [
      "\n",
      "Missing Values Count:\n",
      " Unnamed: 0      0\n",
      "Price           0\n",
      "Age           100\n",
      "KM              0\n",
      "FuelType      100\n",
      "HP              0\n",
      "MetColor      150\n",
      "Automatic       0\n",
      "CC              0\n",
      "Doors           0\n",
      "Weight          0\n",
      "dtype: int64\n"
     ]
    }
   ],
   "source": [
    "print(\"\\nMissing Values Count:\\n\", df.isnull().sum())"
   ]
  },
  {
   "cell_type": "markdown",
   "id": "e68e288d-32dc-4eb2-83d1-c122766a247d",
   "metadata": {},
   "source": [
    "# b. Remove duplicate records"
   ]
  },
  {
   "cell_type": "code",
   "execution_count": 13,
   "id": "e1375755-51a9-4825-bbfe-e17b3c1b0f57",
   "metadata": {},
   "outputs": [],
   "source": [
    "df = df.drop_duplicates()"
   ]
  },
  {
   "cell_type": "code",
   "execution_count": 15,
   "id": "f3824de6-dea5-413c-8a09-3f5c8d0698db",
   "metadata": {},
   "outputs": [
    {
     "name": "stdout",
     "output_type": "stream",
     "text": [
      "\n",
      "Shape after removing duplicates: (1436, 11)\n"
     ]
    }
   ],
   "source": [
    "print(\"\\nShape after removing duplicates:\", df.shape)"
   ]
  },
  {
   "cell_type": "markdown",
   "id": "432132cb-c548-4b2a-93c6-589b39ffc51c",
   "metadata": {},
   "source": [
    "# c. Clean the dataset - Replace missing values with appropriate values"
   ]
  },
  {
   "cell_type": "code",
   "execution_count": 18,
   "id": "84cf42fd-c78b-40f7-ae85-33a36f6442e1",
   "metadata": {},
   "outputs": [],
   "source": [
    "num_cols = df.select_dtypes(include=['float64', 'int64']).columns\n",
    "df[num_cols] = df[num_cols].fillna(df[num_cols].median())"
   ]
  },
  {
   "cell_type": "code",
   "execution_count": 20,
   "id": "4f3c76a5-e986-4d99-9e8e-ee7d3cd700e7",
   "metadata": {},
   "outputs": [],
   "source": [
    "cat_cols = df.select_dtypes(include='object').columns\n",
    "df[cat_cols] = df[cat_cols].fillna(df[cat_cols].mode().iloc[0])"
   ]
  },
  {
   "cell_type": "code",
   "execution_count": 22,
   "id": "5df43d83-2652-4933-864d-f44440d1241d",
   "metadata": {},
   "outputs": [
    {
     "name": "stdout",
     "output_type": "stream",
     "text": [
      "\n",
      "Missing Values after Imputation:\n",
      " Unnamed: 0    0\n",
      "Price         0\n",
      "Age           0\n",
      "KM            0\n",
      "FuelType      0\n",
      "HP            0\n",
      "MetColor      0\n",
      "Automatic     0\n",
      "CC            0\n",
      "Doors         0\n",
      "Weight        0\n",
      "dtype: int64\n"
     ]
    }
   ],
   "source": [
    "print(\"\\nMissing Values after Imputation:\\n\", df.isnull().sum())"
   ]
  },
  {
   "cell_type": "markdown",
   "id": "a895d29f-4ecf-42e5-95c7-2196658c3d72",
   "metadata": {},
   "source": [
    "# d. Convert datatype of MetColor and Automatic to object type"
   ]
  },
  {
   "cell_type": "code",
   "execution_count": 25,
   "id": "ea2dc41e-69d6-437d-93e0-89eaecc4e2d6",
   "metadata": {},
   "outputs": [],
   "source": [
    "df['MetColor'] = df['MetColor'].astype('object')\n",
    "df['Automatic'] = df['Automatic'].astype('object')"
   ]
  },
  {
   "cell_type": "code",
   "execution_count": 27,
   "id": "215e2af5-1f99-40a1-8d6f-65e7b5dcac1d",
   "metadata": {},
   "outputs": [
    {
     "name": "stdout",
     "output_type": "stream",
     "text": [
      "\n",
      "Data types after conversion:\n",
      " MetColor     object\n",
      "Automatic    object\n",
      "dtype: object\n"
     ]
    }
   ],
   "source": [
    "print(\"\\nData types after conversion:\\n\", df.dtypes[['MetColor', 'Automatic']])"
   ]
  },
  {
   "cell_type": "code",
   "execution_count": null,
   "id": "837517fa-f87c-40ba-aa75-a216887c7884",
   "metadata": {},
   "outputs": [],
   "source": []
  }
 ],
 "metadata": {
  "kernelspec": {
   "display_name": "Python 3 (ipykernel)",
   "language": "python",
   "name": "python3"
  },
  "language_info": {
   "codemirror_mode": {
    "name": "ipython",
    "version": 3
   },
   "file_extension": ".py",
   "mimetype": "text/x-python",
   "name": "python",
   "nbconvert_exporter": "python",
   "pygments_lexer": "ipython3",
   "version": "3.12.4"
  }
 },
 "nbformat": 4,
 "nbformat_minor": 5
}
