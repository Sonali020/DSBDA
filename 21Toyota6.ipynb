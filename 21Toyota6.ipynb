{
 "cells": [
  {
   "cell_type": "markdown",
   "id": "a1673c45-df8c-46b7-9c50-8f076fb0d25a",
   "metadata": {},
   "source": [
    "21.\tPerform following operations on the given data set (Toyota.csv)\n",
    "a.\tGet unique values of categorical ‘Doors’\n",
    "b.\tTransform of all values in same format\n",
    "c.\tApply Decimal scaling normalization on HP column"
   ]
  },
  {
   "cell_type": "code",
   "execution_count": 1,
   "id": "621c1da6-c6e3-4df6-8601-cf119d42c6f0",
   "metadata": {},
   "outputs": [],
   "source": [
    "import pandas as pd"
   ]
  },
  {
   "cell_type": "code",
   "execution_count": 2,
   "id": "f5c7a61a-258c-468d-a88a-e3e63c2a9d48",
   "metadata": {},
   "outputs": [],
   "source": [
    "df = pd.read_csv(\"Toyota.csv\")"
   ]
  },
  {
   "cell_type": "code",
   "execution_count": 3,
   "id": "9c51abe2-5701-4ead-be13-136a69bed401",
   "metadata": {},
   "outputs": [
    {
     "data": {
      "text/html": [
       "<div>\n",
       "<style scoped>\n",
       "    .dataframe tbody tr th:only-of-type {\n",
       "        vertical-align: middle;\n",
       "    }\n",
       "\n",
       "    .dataframe tbody tr th {\n",
       "        vertical-align: top;\n",
       "    }\n",
       "\n",
       "    .dataframe thead th {\n",
       "        text-align: right;\n",
       "    }\n",
       "</style>\n",
       "<table border=\"1\" class=\"dataframe\">\n",
       "  <thead>\n",
       "    <tr style=\"text-align: right;\">\n",
       "      <th></th>\n",
       "      <th>Unnamed: 0</th>\n",
       "      <th>Price</th>\n",
       "      <th>Age</th>\n",
       "      <th>KM</th>\n",
       "      <th>FuelType</th>\n",
       "      <th>HP</th>\n",
       "      <th>MetColor</th>\n",
       "      <th>Automatic</th>\n",
       "      <th>CC</th>\n",
       "      <th>Doors</th>\n",
       "      <th>Weight</th>\n",
       "    </tr>\n",
       "  </thead>\n",
       "  <tbody>\n",
       "    <tr>\n",
       "      <th>0</th>\n",
       "      <td>0</td>\n",
       "      <td>13500</td>\n",
       "      <td>23.0</td>\n",
       "      <td>46986</td>\n",
       "      <td>Diesel</td>\n",
       "      <td>90</td>\n",
       "      <td>1.0</td>\n",
       "      <td>0</td>\n",
       "      <td>2000</td>\n",
       "      <td>three</td>\n",
       "      <td>1165</td>\n",
       "    </tr>\n",
       "    <tr>\n",
       "      <th>1</th>\n",
       "      <td>1</td>\n",
       "      <td>13750</td>\n",
       "      <td>23.0</td>\n",
       "      <td>72937</td>\n",
       "      <td>Diesel</td>\n",
       "      <td>90</td>\n",
       "      <td>1.0</td>\n",
       "      <td>0</td>\n",
       "      <td>2000</td>\n",
       "      <td>3</td>\n",
       "      <td>1165</td>\n",
       "    </tr>\n",
       "    <tr>\n",
       "      <th>2</th>\n",
       "      <td>2</td>\n",
       "      <td>13950</td>\n",
       "      <td>24.0</td>\n",
       "      <td>41711</td>\n",
       "      <td>Diesel</td>\n",
       "      <td>90</td>\n",
       "      <td>NaN</td>\n",
       "      <td>0</td>\n",
       "      <td>2000</td>\n",
       "      <td>3</td>\n",
       "      <td>1165</td>\n",
       "    </tr>\n",
       "    <tr>\n",
       "      <th>3</th>\n",
       "      <td>3</td>\n",
       "      <td>14950</td>\n",
       "      <td>26.0</td>\n",
       "      <td>48000</td>\n",
       "      <td>Diesel</td>\n",
       "      <td>90</td>\n",
       "      <td>0.0</td>\n",
       "      <td>0</td>\n",
       "      <td>2000</td>\n",
       "      <td>3</td>\n",
       "      <td>1165</td>\n",
       "    </tr>\n",
       "    <tr>\n",
       "      <th>4</th>\n",
       "      <td>4</td>\n",
       "      <td>13750</td>\n",
       "      <td>30.0</td>\n",
       "      <td>38500</td>\n",
       "      <td>Diesel</td>\n",
       "      <td>90</td>\n",
       "      <td>0.0</td>\n",
       "      <td>0</td>\n",
       "      <td>2000</td>\n",
       "      <td>3</td>\n",
       "      <td>1170</td>\n",
       "    </tr>\n",
       "  </tbody>\n",
       "</table>\n",
       "</div>"
      ],
      "text/plain": [
       "   Unnamed: 0  Price   Age     KM FuelType  HP  MetColor  Automatic    CC  \\\n",
       "0           0  13500  23.0  46986   Diesel  90       1.0          0  2000   \n",
       "1           1  13750  23.0  72937   Diesel  90       1.0          0  2000   \n",
       "2           2  13950  24.0  41711   Diesel  90       NaN          0  2000   \n",
       "3           3  14950  26.0  48000   Diesel  90       0.0          0  2000   \n",
       "4           4  13750  30.0  38500   Diesel  90       0.0          0  2000   \n",
       "\n",
       "   Doors  Weight  \n",
       "0  three    1165  \n",
       "1      3    1165  \n",
       "2      3    1165  \n",
       "3      3    1165  \n",
       "4      3    1170  "
      ]
     },
     "execution_count": 3,
     "metadata": {},
     "output_type": "execute_result"
    }
   ],
   "source": [
    "df.head()"
   ]
  },
  {
   "cell_type": "markdown",
   "id": "103e9b7c-d8e8-4f51-92b4-ba86baccce4f",
   "metadata": {},
   "source": [
    "# a. Get unique values of categorical ‘Doors’"
   ]
  },
  {
   "cell_type": "code",
   "execution_count": 5,
   "id": "7aab996c-7b75-45b0-97dd-e5f886198341",
   "metadata": {},
   "outputs": [
    {
     "name": "stdout",
     "output_type": "stream",
     "text": [
      "Unique values in 'Doors' column before cleaning:\n",
      "['three' '3' '5' '4' 'four' 'five' '2']\n"
     ]
    }
   ],
   "source": [
    "print(\"Unique values in 'Doors' column before cleaning:\")\n",
    "print(df['Doors'].unique())"
   ]
  },
  {
   "cell_type": "markdown",
   "id": "17980aaf-8eea-4eb0-8a92-628d95bead82",
   "metadata": {},
   "source": [
    "# b. Transform all values in same format (e.g., convert to integers)"
   ]
  },
  {
   "cell_type": "code",
   "execution_count": 8,
   "id": "cba83e11-34bb-419a-b543-e7709a76df0f",
   "metadata": {},
   "outputs": [],
   "source": [
    "df['Doors'] = df['Doors'].replace({'three': 3, 'four': 4, 'Five': 5, 'Five ': 5})\n",
    "df['Doors'] = pd.to_numeric(df['Doors'], errors='coerce')  # convert to numeric"
   ]
  },
  {
   "cell_type": "code",
   "execution_count": 13,
   "id": "ec12c675-2985-4298-accc-471f42c3a8bc",
   "metadata": {},
   "outputs": [
    {
     "name": "stdout",
     "output_type": "stream",
     "text": [
      "\n",
      "Unique values in 'Doors' column after cleaning:\n",
      "[ 3.  5.  4. nan  2.]\n"
     ]
    }
   ],
   "source": [
    "print(\"\\nUnique values in 'Doors' column after cleaning:\")\n",
    "print(df['Doors'].unique())"
   ]
  },
  {
   "cell_type": "markdown",
   "id": "9036e4d7-c947-4ab8-8d99-fe054015f19e",
   "metadata": {},
   "source": [
    "# c. Apply Decimal scaling normalization on HP column"
   ]
  },
  {
   "cell_type": "code",
   "execution_count": 16,
   "id": "53a9afec-ec38-4014-9b5e-886199a140cb",
   "metadata": {},
   "outputs": [],
   "source": [
    "#    Formula: x' = x / (10^j), where j = number of digits in max(|x|)"
   ]
  },
  {
   "cell_type": "code",
   "execution_count": 18,
   "id": "01ffa231-6e6e-4cbb-9e1d-3f41156de8d9",
   "metadata": {},
   "outputs": [],
   "source": [
    "# Convert HP to numeric if needed\n",
    "df['HP'] = pd.to_numeric(df['HP'], errors='coerce')"
   ]
  },
  {
   "cell_type": "code",
   "execution_count": 20,
   "id": "125789c5-add9-40e4-8c51-029873a06dd0",
   "metadata": {},
   "outputs": [],
   "source": [
    "# Apply decimal scaling normalization\n",
    "max_abs = df['HP'].abs().max()\n",
    "j = len(str(int(max_abs)))\n",
    "df['HP_decimal_scaled'] = df['HP'] / (10 ** j)"
   ]
  },
  {
   "cell_type": "code",
   "execution_count": 22,
   "id": "8d6b714f-0a7c-4614-a8f8-ea4a8338d7a9",
   "metadata": {},
   "outputs": [
    {
     "name": "stdout",
     "output_type": "stream",
     "text": [
      "\n",
      "First few rows of HP after Decimal Scaling Normalization:\n",
      "     HP  HP_decimal_scaled\n",
      "0  90.0               0.09\n",
      "1  90.0               0.09\n",
      "2  90.0               0.09\n",
      "3  90.0               0.09\n",
      "4  90.0               0.09\n"
     ]
    }
   ],
   "source": [
    "print(\"\\nFirst few rows of HP after Decimal Scaling Normalization:\")\n",
    "print(df[['HP', 'HP_decimal_scaled']].head())"
   ]
  },
  {
   "cell_type": "code",
   "execution_count": null,
   "id": "f8586d4e-94da-4442-bce1-78413a11b4b1",
   "metadata": {},
   "outputs": [],
   "source": []
  },
  {
   "cell_type": "code",
   "execution_count": null,
   "id": "5f6e9e6a-6f29-4dd4-b946-60d0eb45e9f4",
   "metadata": {},
   "outputs": [],
   "source": []
  }
 ],
 "metadata": {
  "kernelspec": {
   "display_name": "Python 3 (ipykernel)",
   "language": "python",
   "name": "python3"
  },
  "language_info": {
   "codemirror_mode": {
    "name": "ipython",
    "version": 3
   },
   "file_extension": ".py",
   "mimetype": "text/x-python",
   "name": "python",
   "nbconvert_exporter": "python",
   "pygments_lexer": "ipython3",
   "version": "3.12.4"
  }
 },
 "nbformat": 4,
 "nbformat_minor": 5
}
