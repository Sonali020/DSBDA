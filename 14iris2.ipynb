{
 "cells": [
  {
   "cell_type": "markdown",
   "id": "023cedec-9365-4256-bbe5-72fa8868298e",
   "metadata": {},
   "source": [
    "14.\tPerform the following operations in python on given dataset [Iris.csv]\n",
    "a.\tCheck for and handle any duplicated rows or missing values (insert some intentionally for practice).\n",
    "b.\tCombine with an external species characteristics table (e.g., color, blooming time).\n",
    "c.\tNormalize petal/sepal measurements.\n",
    "d.\tAdd a size_ratio = petal_length / sepal_length column"
   ]
  },
  {
   "cell_type": "code",
   "execution_count": 1,
   "id": "177a6e02-2051-44b0-873e-e1cb9c0daf61",
   "metadata": {},
   "outputs": [],
   "source": [
    "import pandas as pd\n",
    "from sklearn.preprocessing import MinMaxScaler"
   ]
  },
  {
   "cell_type": "markdown",
   "id": "725414ae-345f-48d2-97fb-77d2c96f7009",
   "metadata": {},
   "source": [
    "# a. Load dataset and handle duplicates/missing values"
   ]
  },
  {
   "cell_type": "code",
   "execution_count": 3,
   "id": "6632da21-fe43-4c0b-a520-eed0f549a071",
   "metadata": {},
   "outputs": [],
   "source": [
    "df = pd.read_csv(\"Iris.csv\")"
   ]
  },
  {
   "cell_type": "code",
   "execution_count": 4,
   "id": "9b3aacbd-5f67-40c2-8732-6cb1b06640b5",
   "metadata": {},
   "outputs": [],
   "source": [
    "# Intentionally add some duplicates and missing values (for practice)\n",
    "df = pd.concat([df, df.iloc[0:2]], ignore_index=True)  # Add duplicates\n",
    "df.loc[5, 'PetalLengthCm'] = None  # Insert a missing value\n",
    "df.loc[10, 'SepalWidthCm'] = None"
   ]
  },
  {
   "cell_type": "code",
   "execution_count": 5,
   "id": "d3235d1e-daa5-4dfa-86a1-6cfee4d40cb7",
   "metadata": {},
   "outputs": [],
   "source": [
    "# Drop duplicates\n",
    "df = df.drop_duplicates()"
   ]
  },
  {
   "cell_type": "code",
   "execution_count": 6,
   "id": "8bdce4fb-a519-4fc1-9099-1abc1b8717e5",
   "metadata": {},
   "outputs": [],
   "source": [
    "# Fill missing values with column mean\n",
    "df.fillna(df.mean(numeric_only=True), inplace=True)"
   ]
  },
  {
   "cell_type": "markdown",
   "id": "b8357ed9-c754-45d8-a671-76a3c446860e",
   "metadata": {},
   "source": [
    "# b. Combine with external species characteristics table"
   ]
  },
  {
   "cell_type": "code",
   "execution_count": 8,
   "id": "0aebf3e9-0651-4a93-b6e8-1da705242977",
   "metadata": {},
   "outputs": [],
   "source": [
    "# Example species table (you can expand this with more realistic data)\n",
    "species_data = {\n",
    "    'Species': ['Iris-setosa', 'Iris-versicolor', 'Iris-virginica'],\n",
    "    'Color': ['White', 'Purple', 'Pink'],\n",
    "    'BloomingSeason': ['Spring', 'Summer', 'Autumn']\n",
    "}"
   ]
  },
  {
   "cell_type": "code",
   "execution_count": 9,
   "id": "60b931a8-4224-4762-ac57-64ea05ed895b",
   "metadata": {},
   "outputs": [],
   "source": [
    "species_df = pd.DataFrame(species_data)"
   ]
  },
  {
   "cell_type": "code",
   "execution_count": 10,
   "id": "2b3a25fd-6b91-4b2a-a525-db2ea82577cc",
   "metadata": {},
   "outputs": [],
   "source": [
    "# Merge with Iris dataset on 'Species'\n",
    "df = pd.merge(df, species_df, on='Species', how='left')"
   ]
  },
  {
   "cell_type": "markdown",
   "id": "25cbd1a8-8da5-408a-81bb-94b9c621df63",
   "metadata": {},
   "source": [
    "# c. Normalize petal/sepal measurements"
   ]
  },
  {
   "cell_type": "code",
   "execution_count": 12,
   "id": "127ca643-ba29-412e-873e-512ac83962f6",
   "metadata": {},
   "outputs": [],
   "source": [
    "scaler = MinMaxScaler()\n",
    "features_to_normalize = ['SepalLengthCm', 'SepalWidthCm', 'PetalLengthCm', 'PetalWidthCm']\n",
    "df[features_to_normalize] = scaler.fit_transform(df[features_to_normalize])"
   ]
  },
  {
   "cell_type": "markdown",
   "id": "39256aeb-26d7-4508-96eb-f1de2f21ace9",
   "metadata": {},
   "source": [
    "# d. Add a size_ratio = petal_length / sepal_length column"
   ]
  },
  {
   "cell_type": "code",
   "execution_count": 14,
   "id": "ca55212d-6a99-4259-a2d6-ec1fe574ed85",
   "metadata": {},
   "outputs": [],
   "source": [
    "df['Size_Ratio'] = df['PetalLengthCm'] / df['SepalLengthCm']"
   ]
  },
  {
   "cell_type": "code",
   "execution_count": 15,
   "id": "5568ca6f-86e2-4c64-81e6-535abd18aadf",
   "metadata": {},
   "outputs": [
    {
     "name": "stdout",
     "output_type": "stream",
     "text": [
      "   Id  SepalLengthCm  SepalWidthCm  PetalLengthCm  PetalWidthCm      Species  \\\n",
      "0   1       0.222222      0.625000       0.067797      0.041667  Iris-setosa   \n",
      "1   2       0.166667      0.416667       0.067797      0.041667  Iris-setosa   \n",
      "2   3       0.111111      0.500000       0.050847      0.041667  Iris-setosa   \n",
      "3   4       0.083333      0.458333       0.084746      0.041667  Iris-setosa   \n",
      "4   5       0.194444      0.666667       0.067797      0.041667  Iris-setosa   \n",
      "\n",
      "   Color BloomingSeason  Size_Ratio  \n",
      "0  White         Spring    0.305085  \n",
      "1  White         Spring    0.406780  \n",
      "2  White         Spring    0.457627  \n",
      "3  White         Spring    1.016949  \n",
      "4  White         Spring    0.348668  \n"
     ]
    }
   ],
   "source": [
    "# Final view\n",
    "print(df.head())"
   ]
  },
  {
   "cell_type": "code",
   "execution_count": null,
   "id": "43046584-b79e-4a17-b7a5-c863c5bce4c8",
   "metadata": {},
   "outputs": [],
   "source": []
  },
  {
   "cell_type": "code",
   "execution_count": null,
   "id": "cbab6837-2f39-4ce5-92b6-e5f38fb6ad9d",
   "metadata": {},
   "outputs": [],
   "source": []
  },
  {
   "cell_type": "code",
   "execution_count": null,
   "id": "03889b27-8669-47be-be4f-09c09a480b24",
   "metadata": {},
   "outputs": [],
   "source": []
  }
 ],
 "metadata": {
  "kernelspec": {
   "display_name": "Python 3 (ipykernel)",
   "language": "python",
   "name": "python3"
  },
  "language_info": {
   "codemirror_mode": {
    "name": "ipython",
    "version": 3
   },
   "file_extension": ".py",
   "mimetype": "text/x-python",
   "name": "python",
   "nbconvert_exporter": "python",
   "pygments_lexer": "ipython3",
   "version": "3.12.4"
  }
 },
 "nbformat": 4,
 "nbformat_minor": 5
}
