{
 "cells": [
  {
   "cell_type": "markdown",
   "id": "70eba07b-b5c3-4303-b2a5-59b402cdc9cb",
   "metadata": {},
   "source": [
    "15.\tPerform the following operations using Python on the given data sets (Toyota.csv)\n",
    "a.\tData cleaning\n",
    "b.\tData integration\n",
    "c.\tData transformation \n",
    "d.\tError correcting"
   ]
  },
  {
   "cell_type": "code",
   "execution_count": 35,
   "id": "2150c922-dfa7-4f5f-8e95-787ce7fc6af7",
   "metadata": {},
   "outputs": [],
   "source": [
    "import pandas as pd"
   ]
  },
  {
   "cell_type": "code",
   "execution_count": 37,
   "id": "86960d85-0e5f-4b77-bac5-3b78bf08fd25",
   "metadata": {},
   "outputs": [],
   "source": [
    "df=pd.read_csv('heart.csv')"
   ]
  },
  {
   "cell_type": "code",
   "execution_count": 39,
   "id": "48e90c52-6686-4d79-b33c-5d5a9f6d8060",
   "metadata": {},
   "outputs": [
    {
     "data": {
      "text/html": [
       "<div>\n",
       "<style scoped>\n",
       "    .dataframe tbody tr th:only-of-type {\n",
       "        vertical-align: middle;\n",
       "    }\n",
       "\n",
       "    .dataframe tbody tr th {\n",
       "        vertical-align: top;\n",
       "    }\n",
       "\n",
       "    .dataframe thead th {\n",
       "        text-align: right;\n",
       "    }\n",
       "</style>\n",
       "<table border=\"1\" class=\"dataframe\">\n",
       "  <thead>\n",
       "    <tr style=\"text-align: right;\">\n",
       "      <th></th>\n",
       "      <th>age</th>\n",
       "      <th>sex</th>\n",
       "      <th>cp</th>\n",
       "      <th>trestbps</th>\n",
       "      <th>chol</th>\n",
       "      <th>fbs</th>\n",
       "      <th>restecg</th>\n",
       "      <th>thalach</th>\n",
       "      <th>exang</th>\n",
       "      <th>oldpeak</th>\n",
       "      <th>slope</th>\n",
       "      <th>ca</th>\n",
       "      <th>thal</th>\n",
       "      <th>target</th>\n",
       "    </tr>\n",
       "  </thead>\n",
       "  <tbody>\n",
       "    <tr>\n",
       "      <th>0</th>\n",
       "      <td>52</td>\n",
       "      <td>1</td>\n",
       "      <td>0</td>\n",
       "      <td>125</td>\n",
       "      <td>212</td>\n",
       "      <td>0</td>\n",
       "      <td>1</td>\n",
       "      <td>168</td>\n",
       "      <td>0</td>\n",
       "      <td>1.0</td>\n",
       "      <td>2</td>\n",
       "      <td>2</td>\n",
       "      <td>3</td>\n",
       "      <td>0</td>\n",
       "    </tr>\n",
       "    <tr>\n",
       "      <th>1</th>\n",
       "      <td>53</td>\n",
       "      <td>1</td>\n",
       "      <td>0</td>\n",
       "      <td>140</td>\n",
       "      <td>203</td>\n",
       "      <td>1</td>\n",
       "      <td>0</td>\n",
       "      <td>155</td>\n",
       "      <td>1</td>\n",
       "      <td>3.1</td>\n",
       "      <td>0</td>\n",
       "      <td>0</td>\n",
       "      <td>3</td>\n",
       "      <td>0</td>\n",
       "    </tr>\n",
       "    <tr>\n",
       "      <th>2</th>\n",
       "      <td>70</td>\n",
       "      <td>1</td>\n",
       "      <td>0</td>\n",
       "      <td>145</td>\n",
       "      <td>174</td>\n",
       "      <td>0</td>\n",
       "      <td>1</td>\n",
       "      <td>125</td>\n",
       "      <td>1</td>\n",
       "      <td>2.6</td>\n",
       "      <td>0</td>\n",
       "      <td>0</td>\n",
       "      <td>3</td>\n",
       "      <td>0</td>\n",
       "    </tr>\n",
       "    <tr>\n",
       "      <th>3</th>\n",
       "      <td>61</td>\n",
       "      <td>1</td>\n",
       "      <td>0</td>\n",
       "      <td>148</td>\n",
       "      <td>203</td>\n",
       "      <td>0</td>\n",
       "      <td>1</td>\n",
       "      <td>161</td>\n",
       "      <td>0</td>\n",
       "      <td>0.0</td>\n",
       "      <td>2</td>\n",
       "      <td>1</td>\n",
       "      <td>3</td>\n",
       "      <td>0</td>\n",
       "    </tr>\n",
       "    <tr>\n",
       "      <th>4</th>\n",
       "      <td>62</td>\n",
       "      <td>0</td>\n",
       "      <td>0</td>\n",
       "      <td>138</td>\n",
       "      <td>294</td>\n",
       "      <td>1</td>\n",
       "      <td>1</td>\n",
       "      <td>106</td>\n",
       "      <td>0</td>\n",
       "      <td>1.9</td>\n",
       "      <td>1</td>\n",
       "      <td>3</td>\n",
       "      <td>2</td>\n",
       "      <td>0</td>\n",
       "    </tr>\n",
       "  </tbody>\n",
       "</table>\n",
       "</div>"
      ],
      "text/plain": [
       "   age  sex  cp  trestbps  chol  fbs  restecg  thalach  exang  oldpeak  slope  \\\n",
       "0   52    1   0       125   212    0        1      168      0      1.0      2   \n",
       "1   53    1   0       140   203    1        0      155      1      3.1      0   \n",
       "2   70    1   0       145   174    0        1      125      1      2.6      0   \n",
       "3   61    1   0       148   203    0        1      161      0      0.0      2   \n",
       "4   62    0   0       138   294    1        1      106      0      1.9      1   \n",
       "\n",
       "   ca  thal  target  \n",
       "0   2     3       0  \n",
       "1   0     3       0  \n",
       "2   0     3       0  \n",
       "3   1     3       0  \n",
       "4   3     2       0  "
      ]
     },
     "execution_count": 39,
     "metadata": {},
     "output_type": "execute_result"
    }
   ],
   "source": [
    "df.head()"
   ]
  },
  {
   "cell_type": "markdown",
   "id": "b887cc7c-cf85-4f09-973b-9f0c546b1612",
   "metadata": {},
   "source": [
    "#  a. Data Cleaning"
   ]
  },
  {
   "cell_type": "code",
   "execution_count": 42,
   "id": "db2359ef-238a-4919-a22f-1cf6ad110852",
   "metadata": {},
   "outputs": [
    {
     "name": "stdout",
     "output_type": "stream",
     "text": [
      "age         0\n",
      "sex         0\n",
      "cp          0\n",
      "trestbps    0\n",
      "chol        0\n",
      "fbs         0\n",
      "restecg     0\n",
      "thalach     0\n",
      "exang       0\n",
      "oldpeak     0\n",
      "slope       0\n",
      "ca          0\n",
      "thal        0\n",
      "target      0\n",
      "dtype: int64\n"
     ]
    }
   ],
   "source": [
    "# Check for missing values\n",
    "print(df.isnull().sum())"
   ]
  },
  {
   "cell_type": "code",
   "execution_count": 47,
   "id": "47412889-fd6b-4931-8739-9dad6b8394e2",
   "metadata": {},
   "outputs": [],
   "source": [
    "df = df.drop_duplicates()"
   ]
  },
  {
   "cell_type": "markdown",
   "id": "a81df8b5-a42b-41ff-b586-8780cce6f197",
   "metadata": {},
   "source": [
    "# b. Data Integration"
   ]
  },
  {
   "cell_type": "code",
   "execution_count": 49,
   "id": "d5e959f9-835a-4c54-9f33-3d57759412eb",
   "metadata": {},
   "outputs": [],
   "source": [
    "df[\"hospital_id\"] = np.random.randint(100, 105, size=len(df))  # random hospital ID assign kar rahe hain"
   ]
  },
  {
   "cell_type": "markdown",
   "id": "8d5e678a-7de5-4e27-8636-339ae6714271",
   "metadata": {},
   "source": [
    "# c. Data Transformation"
   ]
  },
  {
   "cell_type": "code",
   "execution_count": 52,
   "id": "68ca83af-85fd-4a13-920d-36d71b6cbc08",
   "metadata": {},
   "outputs": [],
   "source": [
    "# Normalize 'chol' and 'trestbps'\n",
    "df['chol_norm'] = (df['chol'] - df['chol'].min()) / (df['chol'].max() - df['chol'].min())\n",
    "df['trestbps_norm'] = (df['trestbps'] - df['trestbps'].min()) / (df['trestbps'].max() - df['trestbps'].min())"
   ]
  },
  {
   "cell_type": "code",
   "execution_count": 54,
   "id": "ce4889a0-2d18-4ef1-9c6a-13db32c456c3",
   "metadata": {},
   "outputs": [],
   "source": [
    "df['sex'] = df['sex'].map({0: 'female', 1: 'male'})"
   ]
  },
  {
   "cell_type": "markdown",
   "id": "adbe6e36-eece-451f-95cf-3c2ee1d7b7a5",
   "metadata": {},
   "source": [
    "# d. Error Correcting"
   ]
  },
  {
   "cell_type": "code",
   "execution_count": 57,
   "id": "1ddbfa33-0e09-4f3b-b24b-4f8183af85af",
   "metadata": {},
   "outputs": [],
   "source": [
    "# Correcting invalid blood pressure (assuming threshold)\n",
    "df.loc[df['trestbps'] < 50, 'trestbps'] = np.nan  # or some default/fixed value"
   ]
  },
  {
   "cell_type": "code",
   "execution_count": 59,
   "id": "b3467197-3091-4617-8c4e-0727aeb78c02",
   "metadata": {},
   "outputs": [],
   "source": [
    "# Remove entries where age is less than 1 or greater than 120\n",
    "df = df[(df['age'] > 0) & (df['age'] <= 120)]"
   ]
  },
  {
   "cell_type": "code",
   "execution_count": 61,
   "id": "dac067e5-c18e-4fac-a38b-5bea613bb74f",
   "metadata": {},
   "outputs": [
    {
     "name": "stdout",
     "output_type": "stream",
     "text": [
      "   age     sex  cp  trestbps  chol  fbs  restecg  thalach  exang  oldpeak  \\\n",
      "0   52    male   0     125.0   212    0        1      168      0      1.0   \n",
      "1   53    male   0     140.0   203    1        0      155      1      3.1   \n",
      "2   70    male   0     145.0   174    0        1      125      1      2.6   \n",
      "3   61    male   0     148.0   203    0        1      161      0      0.0   \n",
      "4   62  female   0     138.0   294    1        1      106      0      1.9   \n",
      "\n",
      "   slope  ca  thal  target  hospital_id  chol_norm  trestbps_norm  \n",
      "0      2   2     3       0          102   0.196347       0.292453  \n",
      "1      0   0     3       0          100   0.175799       0.433962  \n",
      "2      0   0     3       0          104   0.109589       0.481132  \n",
      "3      2   1     3       0          101   0.175799       0.509434  \n",
      "4      1   3     2       0          101   0.383562       0.415094  \n"
     ]
    }
   ],
   "source": [
    "print(df.head())"
   ]
  },
  {
   "cell_type": "code",
   "execution_count": null,
   "id": "a109edc1-c3e8-4e53-8d81-c83ca9b72f02",
   "metadata": {},
   "outputs": [],
   "source": []
  }
 ],
 "metadata": {
  "kernelspec": {
   "display_name": "Python 3 (ipykernel)",
   "language": "python",
   "name": "python3"
  },
  "language_info": {
   "codemirror_mode": {
    "name": "ipython",
    "version": 3
   },
   "file_extension": ".py",
   "mimetype": "text/x-python",
   "name": "python",
   "nbconvert_exporter": "python",
   "pygments_lexer": "ipython3",
   "version": "3.12.4"
  }
 },
 "nbformat": 4,
 "nbformat_minor": 5
}
