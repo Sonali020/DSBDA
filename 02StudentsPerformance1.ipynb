{
 "cells": [
  {
   "cell_type": "markdown",
   "id": "605fa5a5-36da-4544-8c63-67be3f72bafe",
   "metadata": {},
   "source": [
    "2.\tPerform the following operations in python on given dataset [StudentsPerformance.csv]\n",
    "a.\tSubset the dataset to find students with math score > 80 and who completed the test preparation course.\n",
    "b.\tMerge this dataset with a demographic table (Subset) that includes socioeconomic status.\n",
    "c.\tSort by reading score and then writing score in descending order.\n",
    "d.\tTranspose average scores by gender across all subjects.\n",
    "e.\tReshape the data to compare average scores across lunch types and test prep status using a pivot table."
   ]
  },
  {
   "cell_type": "code",
   "execution_count": 23,
   "id": "92995ed4-2aaa-4ee4-ab1a-0d5468718fc7",
   "metadata": {},
   "outputs": [],
   "source": [
    "import pandas as pd"
   ]
  },
  {
   "cell_type": "code",
   "execution_count": 2,
   "id": "61c761a7-a94c-4755-88b4-628e863944ac",
   "metadata": {},
   "outputs": [],
   "source": [
    "df = pd.read_csv(\"StudentsPerformance.csv\")"
   ]
  },
  {
   "cell_type": "code",
   "execution_count": 5,
   "id": "3fcb3d1e-b0b9-4ee5-bd95-9c6ed0ca1234",
   "metadata": {},
   "outputs": [
    {
     "data": {
      "text/html": [
       "<div>\n",
       "<style scoped>\n",
       "    .dataframe tbody tr th:only-of-type {\n",
       "        vertical-align: middle;\n",
       "    }\n",
       "\n",
       "    .dataframe tbody tr th {\n",
       "        vertical-align: top;\n",
       "    }\n",
       "\n",
       "    .dataframe thead th {\n",
       "        text-align: right;\n",
       "    }\n",
       "</style>\n",
       "<table border=\"1\" class=\"dataframe\">\n",
       "  <thead>\n",
       "    <tr style=\"text-align: right;\">\n",
       "      <th></th>\n",
       "      <th>gender</th>\n",
       "      <th>race/ethnicity</th>\n",
       "      <th>parental level of education</th>\n",
       "      <th>lunch</th>\n",
       "      <th>test preparation course</th>\n",
       "      <th>math score</th>\n",
       "      <th>reading score</th>\n",
       "      <th>writing score</th>\n",
       "    </tr>\n",
       "  </thead>\n",
       "  <tbody>\n",
       "    <tr>\n",
       "      <th>0</th>\n",
       "      <td>female</td>\n",
       "      <td>group B</td>\n",
       "      <td>bachelor's degree</td>\n",
       "      <td>standard</td>\n",
       "      <td>none</td>\n",
       "      <td>72</td>\n",
       "      <td>72</td>\n",
       "      <td>74</td>\n",
       "    </tr>\n",
       "    <tr>\n",
       "      <th>1</th>\n",
       "      <td>female</td>\n",
       "      <td>group C</td>\n",
       "      <td>some college</td>\n",
       "      <td>standard</td>\n",
       "      <td>completed</td>\n",
       "      <td>69</td>\n",
       "      <td>90</td>\n",
       "      <td>88</td>\n",
       "    </tr>\n",
       "    <tr>\n",
       "      <th>2</th>\n",
       "      <td>female</td>\n",
       "      <td>group B</td>\n",
       "      <td>master's degree</td>\n",
       "      <td>standard</td>\n",
       "      <td>none</td>\n",
       "      <td>90</td>\n",
       "      <td>95</td>\n",
       "      <td>93</td>\n",
       "    </tr>\n",
       "    <tr>\n",
       "      <th>3</th>\n",
       "      <td>male</td>\n",
       "      <td>group A</td>\n",
       "      <td>associate's degree</td>\n",
       "      <td>free/reduced</td>\n",
       "      <td>none</td>\n",
       "      <td>47</td>\n",
       "      <td>57</td>\n",
       "      <td>44</td>\n",
       "    </tr>\n",
       "    <tr>\n",
       "      <th>4</th>\n",
       "      <td>male</td>\n",
       "      <td>group C</td>\n",
       "      <td>some college</td>\n",
       "      <td>standard</td>\n",
       "      <td>none</td>\n",
       "      <td>76</td>\n",
       "      <td>78</td>\n",
       "      <td>75</td>\n",
       "    </tr>\n",
       "  </tbody>\n",
       "</table>\n",
       "</div>"
      ],
      "text/plain": [
       "   gender race/ethnicity parental level of education         lunch  \\\n",
       "0  female        group B           bachelor's degree      standard   \n",
       "1  female        group C                some college      standard   \n",
       "2  female        group B             master's degree      standard   \n",
       "3    male        group A          associate's degree  free/reduced   \n",
       "4    male        group C                some college      standard   \n",
       "\n",
       "  test preparation course  math score  reading score  writing score  \n",
       "0                    none          72             72             74  \n",
       "1               completed          69             90             88  \n",
       "2                    none          90             95             93  \n",
       "3                    none          47             57             44  \n",
       "4                    none          76             78             75  "
      ]
     },
     "execution_count": 5,
     "metadata": {},
     "output_type": "execute_result"
    }
   ],
   "source": [
    "df.head()"
   ]
  },
  {
   "cell_type": "markdown",
   "id": "cfba92bc-4814-424e-bc57-abcc374ad13e",
   "metadata": {},
   "source": [
    "# a. Subset students with math score > 80 and who completed the test preparation course"
   ]
  },
  {
   "cell_type": "code",
   "execution_count": 8,
   "id": "8551496c-286f-40e0-ba29-1750498dbf9e",
   "metadata": {},
   "outputs": [
    {
     "name": "stdout",
     "output_type": "stream",
     "text": [
      "     gender race/ethnicity parental level of education     lunch  \\\n",
      "6    female        group B                some college  standard   \n",
      "35     male        group E          associate's degree  standard   \n",
      "49     male        group C                 high school  standard   \n",
      "56   female        group E          associate's degree  standard   \n",
      "104    male        group C                some college  standard   \n",
      "\n",
      "    test preparation course  math score  reading score  writing score  \n",
      "6                 completed          88             95             92  \n",
      "35                completed          81             81             79  \n",
      "49                completed          82             84             82  \n",
      "56                completed          82             85             86  \n",
      "104               completed          98             86             90  \n"
     ]
    }
   ],
   "source": [
    "subset_df = df[(df['math score'] > 80) & (df['test preparation course'] == 'completed')]\n",
    "print(subset_df.head())"
   ]
  },
  {
   "cell_type": "markdown",
   "id": "ecf60f6b-7561-4dac-8ac1-c711bcfeb65a",
   "metadata": {},
   "source": [
    "# b. Merge with a demographic table (socioeconomic status info)"
   ]
  },
  {
   "cell_type": "code",
   "execution_count": 11,
   "id": "6518367d-095f-45c1-b2a7-b46495e5c72e",
   "metadata": {},
   "outputs": [],
   "source": [
    "demographics = pd.DataFrame({\n",
    "    'parental level of education': [\n",
    "        'bachelor\\'s degree', 'some college', 'master\\'s degree',\n",
    "        'associate\\'s degree', 'high school', 'some high school'],\n",
    "    'socioeconomic status': ['high', 'medium', 'high', 'medium', 'low', 'low']\n",
    "})"
   ]
  },
  {
   "cell_type": "code",
   "execution_count": 13,
   "id": "f7e79e0b-2349-4f02-8025-32284b6cd116",
   "metadata": {},
   "outputs": [
    {
     "name": "stdout",
     "output_type": "stream",
     "text": [
      "   parental level of education socioeconomic status\n",
      "0            bachelor's degree                 high\n",
      "1                 some college               medium\n",
      "2              master's degree                 high\n",
      "3           associate's degree               medium\n",
      "8                  high school                  low\n",
      "15            some high school                  low\n"
     ]
    }
   ],
   "source": [
    "merged_df = pd.merge(df, demographics, on='parental level of education', how='left')\n",
    "print(merged_df[['parental level of education', 'socioeconomic status']].drop_duplicates())"
   ]
  },
  {
   "cell_type": "markdown",
   "id": "f5ead5ac-507e-45a8-93ec-1e4073e576f5",
   "metadata": {},
   "source": [
    "# d. Transpose average scores by gender across all subjects"
   ]
  },
  {
   "cell_type": "code",
   "execution_count": 16,
   "id": "1ad7b3c1-af8d-4fa8-bdb6-1681d46b850a",
   "metadata": {},
   "outputs": [
    {
     "name": "stdout",
     "output_type": "stream",
     "text": [
      "gender            female       male\n",
      "math score     63.633205  68.728216\n",
      "reading score  72.608108  65.473029\n",
      "writing score  72.467181  63.311203\n"
     ]
    }
   ],
   "source": [
    "avg_scores = df.groupby('gender')[['math score', 'reading score', 'writing score']].mean().transpose()\n",
    "print(avg_scores)"
   ]
  },
  {
   "cell_type": "markdown",
   "id": "b5762c97-f48b-46d9-aacb-9e22448ded56",
   "metadata": {},
   "source": [
    "# e. Reshape using pivot to compare average scores across lunch and test prep"
   ]
  },
  {
   "cell_type": "code",
   "execution_count": 19,
   "id": "03225eee-58d4-45a0-8bc4-4c9ad46edb90",
   "metadata": {},
   "outputs": [],
   "source": [
    "pivot_df = df.pivot_table(\n",
    "    index='lunch',\n",
    "    columns='test preparation course',\n",
    "    values=['math score', 'reading score', 'writing score'],\n",
    "    aggfunc='mean'\n",
    ")"
   ]
  },
  {
   "cell_type": "code",
   "execution_count": 21,
   "id": "a7a232f6-034d-44b8-8ae3-90cacb518362",
   "metadata": {},
   "outputs": [
    {
     "name": "stdout",
     "output_type": "stream",
     "text": [
      "                        math score            reading score             \\\n",
      "test preparation course  completed       none     completed       none   \n",
      "lunch                                                                    \n",
      "free/reduced             63.045802  56.508929     69.870229  61.602679   \n",
      "standard                 73.533040  68.133971     76.215859  69.177033   \n",
      "\n",
      "                        writing score             \n",
      "test preparation course     completed       none  \n",
      "lunch                                             \n",
      "free/reduced                70.351145  58.736607  \n",
      "standard                    76.766520  67.595694  \n"
     ]
    }
   ],
   "source": [
    "print(pivot_df)"
   ]
  },
  {
   "cell_type": "code",
   "execution_count": null,
   "id": "57bc675e-f4f7-4d9f-88d6-4020b92775e8",
   "metadata": {},
   "outputs": [],
   "source": []
  }
 ],
 "metadata": {
  "kernelspec": {
   "display_name": "Python 3 (ipykernel)",
   "language": "python",
   "name": "python3"
  },
  "language_info": {
   "codemirror_mode": {
    "name": "ipython",
    "version": 3
   },
   "file_extension": ".py",
   "mimetype": "text/x-python",
   "name": "python",
   "nbconvert_exporter": "python",
   "pygments_lexer": "ipython3",
   "version": "3.12.4"
  }
 },
 "nbformat": 4,
 "nbformat_minor": 5
}
