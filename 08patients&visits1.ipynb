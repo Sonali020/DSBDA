{
 "cells": [
  {
   "cell_type": "markdown",
   "id": "31525f2c-61cb-45b0-8d45-7ee07c233e37",
   "metadata": {},
   "source": [
    "8.\tPerform the following operations in python on given dataset\n",
    "[patients.csv: \tPatient demographic info and visits.csv: Doctor visits and diagnosis codes]\n",
    "a.\tFill or drop missing diagnosis codes and ages.\n",
    "b.\tStandardize gender values (e.g., “M”, “Male”, “F” → “Male”, “Female”).\n",
    "c.\tMerge patient info with visits\n",
    "d.\tGroup data to get total visits and unique diagnoses per patient.\n",
    "e.\tCorrect out-of-range values (e.g., age > 120).\n"
   ]
  },
  {
   "cell_type": "code",
   "execution_count": 20,
   "id": "24828adb-69de-43e2-ad82-c8f7141faaf4",
   "metadata": {},
   "outputs": [],
   "source": [
    "import pandas as pd"
   ]
  },
  {
   "cell_type": "code",
   "execution_count": 22,
   "id": "2887ffac-36ae-4765-b400-71171fa3b1c9",
   "metadata": {},
   "outputs": [],
   "source": [
    "patients_df = pd.read_csv(\"patients.csv\")\n",
    "visits_df = pd.read_csv(\"visits.csv\")"
   ]
  },
  {
   "cell_type": "code",
   "execution_count": 24,
   "id": "be41a72a-900b-4f22-8134-018c63deb535",
   "metadata": {},
   "outputs": [
    {
     "data": {
      "text/html": [
       "<div>\n",
       "<style scoped>\n",
       "    .dataframe tbody tr th:only-of-type {\n",
       "        vertical-align: middle;\n",
       "    }\n",
       "\n",
       "    .dataframe tbody tr th {\n",
       "        vertical-align: top;\n",
       "    }\n",
       "\n",
       "    .dataframe thead th {\n",
       "        text-align: right;\n",
       "    }\n",
       "</style>\n",
       "<table border=\"1\" class=\"dataframe\">\n",
       "  <thead>\n",
       "    <tr style=\"text-align: right;\">\n",
       "      <th></th>\n",
       "      <th>VisitID</th>\n",
       "      <th>PatientID</th>\n",
       "      <th>VisitDate</th>\n",
       "      <th>Diagnosis</th>\n",
       "    </tr>\n",
       "  </thead>\n",
       "  <tbody>\n",
       "    <tr>\n",
       "      <th>0</th>\n",
       "      <td>201</td>\n",
       "      <td>1001</td>\n",
       "      <td>2023-02-01</td>\n",
       "      <td>Flu</td>\n",
       "    </tr>\n",
       "    <tr>\n",
       "      <th>1</th>\n",
       "      <td>202</td>\n",
       "      <td>1002</td>\n",
       "      <td>2023-02-10</td>\n",
       "      <td>NaN</td>\n",
       "    </tr>\n",
       "    <tr>\n",
       "      <th>2</th>\n",
       "      <td>203</td>\n",
       "      <td>1003</td>\n",
       "      <td>2023-02-12</td>\n",
       "      <td>Diabetes</td>\n",
       "    </tr>\n",
       "    <tr>\n",
       "      <th>3</th>\n",
       "      <td>204</td>\n",
       "      <td>1006</td>\n",
       "      <td>2023-03-01</td>\n",
       "      <td>Cold</td>\n",
       "    </tr>\n",
       "    <tr>\n",
       "      <th>4</th>\n",
       "      <td>205</td>\n",
       "      <td>1005</td>\n",
       "      <td>2023-03-05</td>\n",
       "      <td>Allergy</td>\n",
       "    </tr>\n",
       "  </tbody>\n",
       "</table>\n",
       "</div>"
      ],
      "text/plain": [
       "   VisitID  PatientID   VisitDate Diagnosis\n",
       "0      201       1001  2023-02-01       Flu\n",
       "1      202       1002  2023-02-10       NaN\n",
       "2      203       1003  2023-02-12  Diabetes\n",
       "3      204       1006  2023-03-01      Cold\n",
       "4      205       1005  2023-03-05   Allergy"
      ]
     },
     "execution_count": 24,
     "metadata": {},
     "output_type": "execute_result"
    }
   ],
   "source": [
    "visits_df"
   ]
  },
  {
   "cell_type": "code",
   "execution_count": 26,
   "id": "515c256a-9ba3-42ae-b490-9ef0d1f93f9c",
   "metadata": {},
   "outputs": [
    {
     "data": {
      "text/html": [
       "<div>\n",
       "<style scoped>\n",
       "    .dataframe tbody tr th:only-of-type {\n",
       "        vertical-align: middle;\n",
       "    }\n",
       "\n",
       "    .dataframe tbody tr th {\n",
       "        vertical-align: top;\n",
       "    }\n",
       "\n",
       "    .dataframe thead th {\n",
       "        text-align: right;\n",
       "    }\n",
       "</style>\n",
       "<table border=\"1\" class=\"dataframe\">\n",
       "  <thead>\n",
       "    <tr style=\"text-align: right;\">\n",
       "      <th></th>\n",
       "      <th>PatientID</th>\n",
       "      <th>Name</th>\n",
       "      <th>Age</th>\n",
       "      <th>Gender</th>\n",
       "    </tr>\n",
       "  </thead>\n",
       "  <tbody>\n",
       "    <tr>\n",
       "      <th>0</th>\n",
       "      <td>1001</td>\n",
       "      <td>Tom</td>\n",
       "      <td>30.0</td>\n",
       "      <td>M</td>\n",
       "    </tr>\n",
       "    <tr>\n",
       "      <th>1</th>\n",
       "      <td>1002</td>\n",
       "      <td>Jerry</td>\n",
       "      <td>122.0</td>\n",
       "      <td>F</td>\n",
       "    </tr>\n",
       "    <tr>\n",
       "      <th>2</th>\n",
       "      <td>1003</td>\n",
       "      <td>Anna</td>\n",
       "      <td>28.0</td>\n",
       "      <td>Male</td>\n",
       "    </tr>\n",
       "    <tr>\n",
       "      <th>3</th>\n",
       "      <td>1004</td>\n",
       "      <td>Sam</td>\n",
       "      <td>NaN</td>\n",
       "      <td>female</td>\n",
       "    </tr>\n",
       "    <tr>\n",
       "      <th>4</th>\n",
       "      <td>1005</td>\n",
       "      <td>Kate</td>\n",
       "      <td>25.0</td>\n",
       "      <td>F</td>\n",
       "    </tr>\n",
       "  </tbody>\n",
       "</table>\n",
       "</div>"
      ],
      "text/plain": [
       "   PatientID   Name    Age  Gender\n",
       "0       1001    Tom   30.0       M\n",
       "1       1002  Jerry  122.0       F\n",
       "2       1003   Anna   28.0    Male\n",
       "3       1004    Sam    NaN  female\n",
       "4       1005   Kate   25.0       F"
      ]
     },
     "execution_count": 26,
     "metadata": {},
     "output_type": "execute_result"
    }
   ],
   "source": [
    "patients_df"
   ]
  },
  {
   "cell_type": "markdown",
   "id": "16d64ecf-5272-4a8c-a2f8-04189b323d39",
   "metadata": {},
   "source": [
    "# a. Fill or drop missing diagnosis codes and ages"
   ]
  },
  {
   "cell_type": "code",
   "execution_count": 29,
   "id": "6bf05709-9a16-403f-b9ec-afc23c637765",
   "metadata": {},
   "outputs": [],
   "source": [
    "patients_df = patients_df.dropna(subset=['Age'])\n",
    "visits_df = visits_df.dropna(subset=['Diagnosis'])"
   ]
  },
  {
   "cell_type": "markdown",
   "id": "0cf08cd7-8887-4e8a-b2b7-3abf78bb0a59",
   "metadata": {},
   "source": [
    "# b. Standardize gender values"
   ]
  },
  {
   "cell_type": "code",
   "execution_count": 32,
   "id": "e36efd1e-0611-45a5-9b6b-da36e1ffcaed",
   "metadata": {},
   "outputs": [],
   "source": [
    "def standardize_gender(g):\n",
    "    g = str(g).strip().lower()\n",
    "    if g in ['m', 'male']:\n",
    "        return 'Male'\n",
    "    elif g in ['f', 'female']:\n",
    "        return 'Female'\n",
    "    else:\n",
    "        return 'Other'"
   ]
  },
  {
   "cell_type": "code",
   "execution_count": 37,
   "id": "e741d32f-c625-43be-80ac-eb1883121844",
   "metadata": {},
   "outputs": [
    {
     "name": "stderr",
     "output_type": "stream",
     "text": [
      "C:\\Users\\Sonali\\AppData\\Local\\Temp\\ipykernel_32912\\111407066.py:1: SettingWithCopyWarning: \n",
      "A value is trying to be set on a copy of a slice from a DataFrame.\n",
      "Try using .loc[row_indexer,col_indexer] = value instead\n",
      "\n",
      "See the caveats in the documentation: https://pandas.pydata.org/pandas-docs/stable/user_guide/indexing.html#returning-a-view-versus-a-copy\n",
      "  patients_df['Gender'] = patients_df['Gender'].apply(standardize_gender)\n"
     ]
    }
   ],
   "source": [
    "patients_df['Gender'] = patients_df['Gender'].apply(standardize_gender)"
   ]
  },
  {
   "cell_type": "markdown",
   "id": "0fa87a6f-ac18-403b-abad-37c910c5f5cd",
   "metadata": {},
   "source": [
    "# c. Merge patient info with visits"
   ]
  },
  {
   "cell_type": "code",
   "execution_count": 45,
   "id": "0fc4e47b-7fe3-4ce3-8222-d9ce98cfd8a0",
   "metadata": {},
   "outputs": [],
   "source": [
    "merged_df = pd.merge(visits_df, patients_df, on='PatientID', how='inner')"
   ]
  },
  {
   "cell_type": "markdown",
   "id": "f0d50aba-2db0-40aa-9bd6-5e27a6920324",
   "metadata": {},
   "source": [
    "# d. Group data: total visits and unique diagnoses per patient"
   ]
  },
  {
   "cell_type": "code",
   "execution_count": 57,
   "id": "bf011cf3-d9c7-4707-b5cd-13e790988caf",
   "metadata": {},
   "outputs": [],
   "source": [
    "visit_counts = merged_df.groupby('PatientID').agg(\n",
    "    total_visits=pd.NamedAgg(column='VisitID', aggfunc='count'),\n",
    "    unique_diagnoses=pd.NamedAgg(column='Diagnosis', aggfunc=lambda x: x.nunique())\n",
    ").reset_index()"
   ]
  },
  {
   "cell_type": "code",
   "execution_count": 59,
   "id": "e28ff3a6-2991-400a-bad7-f1da6c5cba7e",
   "metadata": {},
   "outputs": [
    {
     "name": "stdout",
     "output_type": "stream",
     "text": [
      "   PatientID  total_visits  unique_diagnoses\n",
      "0       1001             1                 1\n",
      "1       1003             1                 1\n",
      "2       1005             1                 1\n"
     ]
    }
   ],
   "source": [
    "print(visit_counts.head())"
   ]
  },
  {
   "cell_type": "markdown",
   "id": "c9813c0a-a9c6-4757-b489-de001be2f57c",
   "metadata": {},
   "source": [
    "# e. Correct out-of-range values (e.g., age > 120)"
   ]
  },
  {
   "cell_type": "code",
   "execution_count": 73,
   "id": "8c9f1b03-d091-4cb2-90c0-a8c1ab67bd28",
   "metadata": {},
   "outputs": [],
   "source": [
    "patients_df.loc[patients_df['Age'] > 120, 'Age'] = 120  # cap age"
   ]
  },
  {
   "cell_type": "code",
   "execution_count": 75,
   "id": "63992808-13bb-4629-9662-9b736ecc3b58",
   "metadata": {},
   "outputs": [
    {
     "data": {
      "text/html": [
       "<div>\n",
       "<style scoped>\n",
       "    .dataframe tbody tr th:only-of-type {\n",
       "        vertical-align: middle;\n",
       "    }\n",
       "\n",
       "    .dataframe tbody tr th {\n",
       "        vertical-align: top;\n",
       "    }\n",
       "\n",
       "    .dataframe thead th {\n",
       "        text-align: right;\n",
       "    }\n",
       "</style>\n",
       "<table border=\"1\" class=\"dataframe\">\n",
       "  <thead>\n",
       "    <tr style=\"text-align: right;\">\n",
       "      <th></th>\n",
       "      <th>PatientID</th>\n",
       "      <th>Name</th>\n",
       "      <th>Age</th>\n",
       "      <th>Gender</th>\n",
       "    </tr>\n",
       "  </thead>\n",
       "  <tbody>\n",
       "    <tr>\n",
       "      <th>0</th>\n",
       "      <td>1001</td>\n",
       "      <td>Tom</td>\n",
       "      <td>30.0</td>\n",
       "      <td>Male</td>\n",
       "    </tr>\n",
       "    <tr>\n",
       "      <th>1</th>\n",
       "      <td>1002</td>\n",
       "      <td>Jerry</td>\n",
       "      <td>120.0</td>\n",
       "      <td>Female</td>\n",
       "    </tr>\n",
       "    <tr>\n",
       "      <th>2</th>\n",
       "      <td>1003</td>\n",
       "      <td>Anna</td>\n",
       "      <td>28.0</td>\n",
       "      <td>Male</td>\n",
       "    </tr>\n",
       "    <tr>\n",
       "      <th>4</th>\n",
       "      <td>1005</td>\n",
       "      <td>Kate</td>\n",
       "      <td>25.0</td>\n",
       "      <td>Female</td>\n",
       "    </tr>\n",
       "  </tbody>\n",
       "</table>\n",
       "</div>"
      ],
      "text/plain": [
       "   PatientID   Name    Age  Gender\n",
       "0       1001    Tom   30.0    Male\n",
       "1       1002  Jerry  120.0  Female\n",
       "2       1003   Anna   28.0    Male\n",
       "4       1005   Kate   25.0  Female"
      ]
     },
     "execution_count": 75,
     "metadata": {},
     "output_type": "execute_result"
    }
   ],
   "source": [
    "patients_df"
   ]
  },
  {
   "cell_type": "code",
   "execution_count": null,
   "id": "30d3f4ad-4275-4205-a0b4-0104fa1e4172",
   "metadata": {},
   "outputs": [],
   "source": []
  },
  {
   "cell_type": "code",
   "execution_count": null,
   "id": "ecb89b9c-8b4d-4840-9538-26fe67b4d547",
   "metadata": {},
   "outputs": [],
   "source": []
  }
 ],
 "metadata": {
  "kernelspec": {
   "display_name": "Python 3 (ipykernel)",
   "language": "python",
   "name": "python3"
  },
  "language_info": {
   "codemirror_mode": {
    "name": "ipython",
    "version": 3
   },
   "file_extension": ".py",
   "mimetype": "text/x-python",
   "name": "python",
   "nbconvert_exporter": "python",
   "pygments_lexer": "ipython3",
   "version": "3.12.4"
  }
 },
 "nbformat": 4,
 "nbformat_minor": 5
}
