{
 "cells": [
  {
   "cell_type": "markdown",
   "id": "82053ef9-c0d8-4971-bb3f-a26d0f49e10b",
   "metadata": {},
   "source": [
    "29.\tPerform the following operations using Python (Dataset: Salaries.csv) \n",
    "a.\tget the rank and salary of all staff that does not belong to discipline A\n",
    "b.\tget rank salary and years of service of all male staff and only female professor\n",
    "c.\tget all Female staff who are either professor or earning more than 75000\n",
    "d.\tget the rank and salary of all staff other than professors and who are serving from at least 10 years\n"
   ]
  },
  {
   "cell_type": "code",
   "execution_count": 1,
   "id": "e6e6dae4-f447-4721-a27e-a340615fad6f",
   "metadata": {},
   "outputs": [],
   "source": [
    "import pandas as pd"
   ]
  },
  {
   "cell_type": "code",
   "execution_count": 2,
   "id": "160b8896-cbf7-4ff5-92db-84cf31100181",
   "metadata": {},
   "outputs": [],
   "source": [
    "df = pd.read_csv('Salaries.csv')"
   ]
  },
  {
   "cell_type": "code",
   "execution_count": 5,
   "id": "57eff841-9350-44d4-b032-120d5d6f36d7",
   "metadata": {},
   "outputs": [
    {
     "data": {
      "text/html": [
       "<div>\n",
       "<style scoped>\n",
       "    .dataframe tbody tr th:only-of-type {\n",
       "        vertical-align: middle;\n",
       "    }\n",
       "\n",
       "    .dataframe tbody tr th {\n",
       "        vertical-align: top;\n",
       "    }\n",
       "\n",
       "    .dataframe thead th {\n",
       "        text-align: right;\n",
       "    }\n",
       "</style>\n",
       "<table border=\"1\" class=\"dataframe\">\n",
       "  <thead>\n",
       "    <tr style=\"text-align: right;\">\n",
       "      <th></th>\n",
       "      <th>rank</th>\n",
       "      <th>discipline</th>\n",
       "      <th>phd</th>\n",
       "      <th>service</th>\n",
       "      <th>sex</th>\n",
       "      <th>salary</th>\n",
       "    </tr>\n",
       "  </thead>\n",
       "  <tbody>\n",
       "    <tr>\n",
       "      <th>0</th>\n",
       "      <td>Prof</td>\n",
       "      <td>B</td>\n",
       "      <td>56</td>\n",
       "      <td>49</td>\n",
       "      <td>Male</td>\n",
       "      <td>186960</td>\n",
       "    </tr>\n",
       "    <tr>\n",
       "      <th>1</th>\n",
       "      <td>Prof</td>\n",
       "      <td>A</td>\n",
       "      <td>12</td>\n",
       "      <td>6</td>\n",
       "      <td>Male</td>\n",
       "      <td>93000</td>\n",
       "    </tr>\n",
       "    <tr>\n",
       "      <th>2</th>\n",
       "      <td>Prof</td>\n",
       "      <td>A</td>\n",
       "      <td>23</td>\n",
       "      <td>20</td>\n",
       "      <td>Male</td>\n",
       "      <td>110515</td>\n",
       "    </tr>\n",
       "    <tr>\n",
       "      <th>3</th>\n",
       "      <td>Prof</td>\n",
       "      <td>A</td>\n",
       "      <td>40</td>\n",
       "      <td>31</td>\n",
       "      <td>Male</td>\n",
       "      <td>131205</td>\n",
       "    </tr>\n",
       "    <tr>\n",
       "      <th>4</th>\n",
       "      <td>Prof</td>\n",
       "      <td>B</td>\n",
       "      <td>20</td>\n",
       "      <td>18</td>\n",
       "      <td>Male</td>\n",
       "      <td>104800</td>\n",
       "    </tr>\n",
       "  </tbody>\n",
       "</table>\n",
       "</div>"
      ],
      "text/plain": [
       "   rank discipline  phd  service   sex  salary\n",
       "0  Prof          B   56       49  Male  186960\n",
       "1  Prof          A   12        6  Male   93000\n",
       "2  Prof          A   23       20  Male  110515\n",
       "3  Prof          A   40       31  Male  131205\n",
       "4  Prof          B   20       18  Male  104800"
      ]
     },
     "execution_count": 5,
     "metadata": {},
     "output_type": "execute_result"
    }
   ],
   "source": [
    "df.head()"
   ]
  },
  {
   "cell_type": "markdown",
   "id": "88b73bd3-3d9e-479b-820c-aa91f02c0952",
   "metadata": {},
   "source": [
    "# a. Get the rank and salary of all staff that does not belong to discipline A"
   ]
  },
  {
   "cell_type": "code",
   "execution_count": 14,
   "id": "47c69618-ff33-429b-9bca-a36482fa526b",
   "metadata": {},
   "outputs": [
    {
     "name": "stdout",
     "output_type": "stream",
     "text": [
      "         rank  salary\n",
      "0        Prof  186960\n",
      "4        Prof  104800\n",
      "10       Prof  128250\n",
      "11       Prof  134778\n",
      "12   AsstProf   88000\n",
      "13       Prof  162200\n",
      "14       Prof  153750\n",
      "15       Prof  150480\n",
      "16   AsstProf   75044\n",
      "17   AsstProf   92000\n",
      "20   AsstProf   92000\n",
      "25       Prof   99418\n",
      "28   AsstProf   91300\n",
      "29       Prof  123683\n",
      "30  AssocProf  107008\n",
      "31       Prof  155750\n",
      "33       Prof  120000\n",
      "34  AssocProf  119800\n",
      "35       Prof  126933\n",
      "36       Prof  146856\n",
      "38   AsstProf   91000\n",
      "39       Prof  129000\n",
      "42   AsstProf   80225\n",
      "43   AsstProf   77000\n",
      "44       Prof  151768\n",
      "45       Prof  140096\n",
      "46   AsstProf   74692\n",
      "47  AssocProf  103613\n",
      "48       Prof  111512\n",
      "49       Prof  122960\n",
      "50   AsstProf   97032\n",
      "51       Prof  127512\n",
      "58       Prof  144651\n",
      "59  AssocProf  103994\n",
      "60   AsstProf   92000\n",
      "61  AssocProf  103750\n",
      "62  AssocProf  109650\n",
      "71  AssocProf   71065\n",
      "72       Prof  161101\n",
      "73       Prof  105450\n",
      "74  AssocProf  104542\n",
      "75       Prof  124312\n"
     ]
    }
   ],
   "source": [
    "result_a = df[df['discipline'] != 'A'][['rank', 'salary']]\n",
    "print(result_a)"
   ]
  },
  {
   "cell_type": "markdown",
   "id": "b512ec01-9889-4154-98c6-e407396e6c3f",
   "metadata": {},
   "source": [
    "# b. Get rank, salary, and years of service of all male staff and only female professors"
   ]
  },
  {
   "cell_type": "code",
   "execution_count": 16,
   "id": "80f77ebd-1ade-46ea-a85b-66d6378fbe1d",
   "metadata": {},
   "outputs": [],
   "source": [
    "male_staff = df[df['sex'] == 'Male'][['rank', 'salary', 'service']]\n",
    "female_professors = df[(df['sex'] == 'Female') & (df['rank'] == 'Prof')][['rank', 'salary', 'service']]"
   ]
  },
  {
   "cell_type": "code",
   "execution_count": 18,
   "id": "7e7376e7-3c4e-4e4e-a559-d9f216c433f4",
   "metadata": {},
   "outputs": [
    {
     "name": "stdout",
     "output_type": "stream",
     "text": [
      "         rank  salary  service\n",
      "0        Prof  186960       49\n",
      "1        Prof   93000        6\n",
      "2        Prof  110515       20\n",
      "3        Prof  131205       31\n",
      "4        Prof  104800       18\n",
      "5        Prof  122400       20\n",
      "6   AssocProf   81285       17\n",
      "7        Prof  126300       18\n",
      "8        Prof   94350       19\n",
      "9        Prof   57800       51\n",
      "10       Prof  128250       33\n",
      "11       Prof  134778       23\n",
      "12   AsstProf   88000        0\n",
      "13       Prof  162200       33\n",
      "14       Prof  153750       19\n",
      "15       Prof  150480        3\n",
      "16   AsstProf   75044        3\n",
      "17   AsstProf   92000        0\n",
      "18       Prof  107300        7\n",
      "19       Prof  150500       27\n",
      "20   AsstProf   92000        4\n",
      "21       Prof  103106       30\n",
      "22   AsstProf   73000        2\n",
      "23   AsstProf   85000        0\n",
      "24       Prof   91100       23\n",
      "25       Prof   99418       31\n",
      "26       Prof  148750       19\n",
      "27       Prof  155865       43\n",
      "28   AsstProf   91300        2\n",
      "29       Prof  123683       20\n",
      "30  AssocProf  107008        7\n",
      "31       Prof  155750       21\n",
      "32       Prof  103275       19\n",
      "33       Prof  120000       18\n",
      "34  AssocProf  119800        8\n",
      "35       Prof  126933       23\n",
      "36       Prof  146856       45\n",
      "37       Prof  102000        8\n",
      "38   AsstProf   91000        3\n",
      "39       Prof  129000       18\n",
      "40       Prof  137000       36\n",
      "41       Prof  151768       19\n",
      "42       Prof  140096       25\n",
      "43       Prof  111512       17\n",
      "44       Prof  122960       18\n",
      "45       Prof  127512       14\n",
      "46       Prof  105000        0\n",
      "47       Prof  144651       26\n",
      "48       Prof   91000       27\n",
      "49       Prof  117555       19\n",
      "50       Prof   90450       11\n",
      "51       Prof  116450        7\n",
      "52       Prof  161101       15\n",
      "53       Prof  105450       10\n",
      "54       Prof  124312       17\n",
      "55       Prof  109954       14\n",
      "56       Prof  109646       15\n"
     ]
    }
   ],
   "source": [
    "result_b = pd.concat([male_staff, female_professors], ignore_index=True)\n",
    "print(result_b)"
   ]
  },
  {
   "cell_type": "markdown",
   "id": "3af4a9ac-ece7-4311-b7ea-283c49786e17",
   "metadata": {},
   "source": [
    "# c. Get all Female staff who are either Professors OR earning more than 75000"
   ]
  },
  {
   "cell_type": "code",
   "execution_count": 23,
   "id": "a89914cd-927b-44c3-9761-795509657d10",
   "metadata": {},
   "outputs": [
    {
     "name": "stdout",
     "output_type": "stream",
     "text": [
      "         rank discipline  phd  service     sex  salary\n",
      "39       Prof          B   18       18  Female  129000\n",
      "40       Prof          A   39       36  Female  137000\n",
      "42   AsstProf          B    4        2  Female   80225\n",
      "43   AsstProf          B    5        0  Female   77000\n",
      "44       Prof          B   23       19  Female  151768\n",
      "45       Prof          B   25       25  Female  140096\n",
      "47  AssocProf          B   11       11  Female  103613\n",
      "48       Prof          B   17       17  Female  111512\n",
      "49       Prof          B   17       18  Female  122960\n",
      "50   AsstProf          B   10        5  Female   97032\n",
      "51       Prof          B   20       14  Female  127512\n",
      "52       Prof          A   12        0  Female  105000\n",
      "56  AssocProf          A   10        8  Female   77500\n",
      "58       Prof          B   36       26  Female  144651\n",
      "59  AssocProf          B   12       10  Female  103994\n",
      "60   AsstProf          B    3        3  Female   92000\n",
      "61  AssocProf          B   13       10  Female  103750\n",
      "62  AssocProf          B   14        7  Female  109650\n",
      "63       Prof          A   29       27  Female   91000\n",
      "65       Prof          A   36       19  Female  117555\n",
      "67       Prof          A   17       11  Female   90450\n",
      "68   AsstProf          A    4        2  Female   77500\n",
      "69       Prof          A   28        7  Female  116450\n",
      "70   AsstProf          A    8        3  Female   78500\n",
      "72       Prof          B   24       15  Female  161101\n",
      "73       Prof          B   18       10  Female  105450\n",
      "74  AssocProf          B   19        6  Female  104542\n",
      "75       Prof          B   17       17  Female  124312\n",
      "76       Prof          A   28       14  Female  109954\n",
      "77       Prof          A   23       15  Female  109646\n"
     ]
    }
   ],
   "source": [
    "result_c = df[(df['sex'] == 'Female') & ((df['rank'] == 'Prof') | (df['salary'] > 75000))]\n",
    "print(result_c)"
   ]
  },
  {
   "cell_type": "markdown",
   "id": "bf84721a-54a1-4bbd-9dd5-7daa3ef77244",
   "metadata": {},
   "source": [
    "# d. Get the rank and salary of all staff other than Professors AND who are serving for at least 10 years"
   ]
  },
  {
   "cell_type": "code",
   "execution_count": 26,
   "id": "f099a5b8-d07a-4779-959a-57520bf44fa1",
   "metadata": {},
   "outputs": [
    {
     "name": "stdout",
     "output_type": "stream",
     "text": [
      "         rank  salary\n",
      "6   AssocProf   81285\n",
      "47  AssocProf  103613\n",
      "54  AssocProf   62884\n",
      "59  AssocProf  103994\n",
      "61  AssocProf  103750\n",
      "64  AssocProf   73300\n"
     ]
    }
   ],
   "source": [
    "result_d = df[(df['rank'] != 'Prof') & (df['service'] >= 10)][['rank', 'salary']]\n",
    "print(result_d)"
   ]
  },
  {
   "cell_type": "code",
   "execution_count": null,
   "id": "c99ec433-5d00-4b3d-b4a5-368b14a291ec",
   "metadata": {},
   "outputs": [],
   "source": []
  }
 ],
 "metadata": {
  "kernelspec": {
   "display_name": "Python 3 (ipykernel)",
   "language": "python",
   "name": "python3"
  },
  "language_info": {
   "codemirror_mode": {
    "name": "ipython",
    "version": 3
   },
   "file_extension": ".py",
   "mimetype": "text/x-python",
   "name": "python",
   "nbconvert_exporter": "python",
   "pygments_lexer": "ipython3",
   "version": "3.12.4"
  }
 },
 "nbformat": 4,
 "nbformat_minor": 5
}
