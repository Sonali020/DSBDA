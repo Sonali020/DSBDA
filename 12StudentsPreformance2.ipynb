{
 "cells": [
  {
   "cell_type": "markdown",
   "id": "0518e7ba-fb8c-4a1f-bf79-7b79f5edd30c",
   "metadata": {},
   "source": [
    "12.\tPerform the following operations in python on StudentsPerformance.csv Dataset\n",
    "a.\tCheck for and impute any missing test scores (math, reading, writing).\n",
    "b.\tCreate an overall AverageScore column.\n",
    "c.\tBucket students into performance bands (e.g., Excellent, Average, Poor).\n",
    "d.\tCheck for inconsistent or duplicate student records.\n",
    "e.\tEncode gender, lunch, and test preparation course using Label Encoding."
   ]
  },
  {
   "cell_type": "code",
   "execution_count": 1,
   "id": "d1271ff0-31a9-4583-b8aa-e2caed78cfc9",
   "metadata": {},
   "outputs": [],
   "source": [
    "import pandas as pd\n",
    "from sklearn.preprocessing import LabelEncoder"
   ]
  },
  {
   "cell_type": "code",
   "execution_count": 2,
   "id": "3e573f74-e0e4-4507-8132-2e7e6142d500",
   "metadata": {},
   "outputs": [],
   "source": [
    "df = pd.read_csv(\"StudentsPerformance.csv\")"
   ]
  },
  {
   "cell_type": "markdown",
   "id": "89a153e4-b2a2-4e40-934e-444aa8f7874e",
   "metadata": {},
   "source": [
    "# a. Impute missing test scores (math, reading, writing) using mean"
   ]
  },
  {
   "cell_type": "code",
   "execution_count": 4,
   "id": "44326d4d-f797-4f6f-9985-0f66ce0684c6",
   "metadata": {},
   "outputs": [],
   "source": [
    "df['math score'] = df['math score'].fillna(df['math score'].mean())\n",
    "df['reading score'] = df['reading score'].fillna(df['reading score'].mean())\n",
    "df['writing score'] = df['writing score'].fillna(df['writing score'].mean())"
   ]
  },
  {
   "cell_type": "markdown",
   "id": "45589255-8e74-47e0-8f23-fcca8b936010",
   "metadata": {},
   "source": [
    "# b. Create an overall AverageScore column"
   ]
  },
  {
   "cell_type": "code",
   "execution_count": 6,
   "id": "09397071-abd9-42dd-bc0d-ae9053a4e466",
   "metadata": {},
   "outputs": [],
   "source": [
    "df['AverageScore'] = df[['math score', 'reading score', 'writing score']].mean(axis=1)"
   ]
  },
  {
   "cell_type": "markdown",
   "id": "3d0bff6c-0ce0-4cb8-83eb-5e9b7bbb4048",
   "metadata": {},
   "source": [
    "# c. Bucket students into performance bands"
   ]
  },
  {
   "cell_type": "code",
   "execution_count": 10,
   "id": "acfc4745-9c0c-4159-bcd3-cb7723597a5a",
   "metadata": {},
   "outputs": [],
   "source": [
    "def performance_band(score):\n",
    "    if score >= 90:\n",
    "        return 'Excellent'\n",
    "    elif score >= 70:\n",
    "        return 'Average'\n",
    "    else:\n",
    "        return 'Poor'"
   ]
  },
  {
   "cell_type": "code",
   "execution_count": 12,
   "id": "373b1a27-ca22-43ed-95a0-b8db6405e69f",
   "metadata": {},
   "outputs": [],
   "source": [
    "df['PerformanceBand'] = df['AverageScore'].apply(performance_band)"
   ]
  },
  {
   "cell_type": "markdown",
   "id": "5dabbd45-199f-4a40-96ea-9a0d5f54157b",
   "metadata": {},
   "source": [
    "# d. Check for inconsistent or duplicate records"
   ]
  },
  {
   "cell_type": "code",
   "execution_count": 15,
   "id": "a064b73f-b3f3-45ec-8726-09de415b8a46",
   "metadata": {},
   "outputs": [
    {
     "name": "stdout",
     "output_type": "stream",
     "text": [
      "Number of duplicate rows: 0\n"
     ]
    }
   ],
   "source": [
    "duplicates = df.duplicated()\n",
    "print(\"Number of duplicate rows:\", duplicates.sum())"
   ]
  },
  {
   "cell_type": "markdown",
   "id": "6ce65d05-de1c-4cbd-979e-870afb597252",
   "metadata": {},
   "source": [
    "# e. Encode gender, lunch, and test preparation course using Label Encoding"
   ]
  },
  {
   "cell_type": "code",
   "execution_count": 18,
   "id": "a3523cd8-134d-4cce-b53b-0459d371e7c0",
   "metadata": {},
   "outputs": [],
   "source": [
    "le = LabelEncoder()\n",
    "df['gender_encoded'] = le.fit_transform(df['gender'])\n",
    "df['lunch_encoded'] = le.fit_transform(df['lunch'])\n",
    "df['test_prep_encoded'] = le.fit_transform(df['test preparation course'])"
   ]
  },
  {
   "cell_type": "code",
   "execution_count": 20,
   "id": "6998f2a1-7119-444a-b43c-501673cdd3f8",
   "metadata": {},
   "outputs": [
    {
     "name": "stdout",
     "output_type": "stream",
     "text": [
      "   math score  reading score  writing score  AverageScore PerformanceBand  \\\n",
      "0          72             72             74     72.666667         Average   \n",
      "1          69             90             88     82.333333         Average   \n",
      "2          90             95             93     92.666667       Excellent   \n",
      "3          47             57             44     49.333333            Poor   \n",
      "4          76             78             75     76.333333         Average   \n",
      "\n",
      "   gender  gender_encoded         lunch  lunch_encoded  \\\n",
      "0  female               0      standard              1   \n",
      "1  female               0      standard              1   \n",
      "2  female               0      standard              1   \n",
      "3    male               1  free/reduced              0   \n",
      "4    male               1      standard              1   \n",
      "\n",
      "  test preparation course  test_prep_encoded  \n",
      "0                    none                  1  \n",
      "1               completed                  0  \n",
      "2                    none                  1  \n",
      "3                    none                  1  \n",
      "4                    none                  1  \n"
     ]
    }
   ],
   "source": [
    "# Display the first few rows of the updated DataFrame\n",
    "print(df[['math score', 'reading score', 'writing score', 'AverageScore', 'PerformanceBand',\n",
    "          'gender', 'gender_encoded', 'lunch', 'lunch_encoded', 'test preparation course', 'test_prep_encoded']].head())\n"
   ]
  },
  {
   "cell_type": "code",
   "execution_count": null,
   "id": "75c3a8d1-1e57-4768-8286-20e5513f5246",
   "metadata": {},
   "outputs": [],
   "source": []
  },
  {
   "cell_type": "code",
   "execution_count": null,
   "id": "6be28534-6642-497c-935d-ffab9b2697f0",
   "metadata": {},
   "outputs": [],
   "source": []
  },
  {
   "cell_type": "code",
   "execution_count": null,
   "id": "727f428e-8a53-4425-b359-7ebe0f943cb2",
   "metadata": {},
   "outputs": [],
   "source": []
  },
  {
   "cell_type": "code",
   "execution_count": null,
   "id": "cb0c2515-5673-4320-b884-af781c1b5d95",
   "metadata": {},
   "outputs": [],
   "source": []
  }
 ],
 "metadata": {
  "kernelspec": {
   "display_name": "Python 3 (ipykernel)",
   "language": "python",
   "name": "python3"
  },
  "language_info": {
   "codemirror_mode": {
    "name": "ipython",
    "version": 3
   },
   "file_extension": ".py",
   "mimetype": "text/x-python",
   "name": "python",
   "nbconvert_exporter": "python",
   "pygments_lexer": "ipython3",
   "version": "3.12.4"
  }
 },
 "nbformat": 4,
 "nbformat_minor": 5
}
