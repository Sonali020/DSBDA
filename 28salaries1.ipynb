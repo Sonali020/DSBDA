{
 "cells": [
  {
   "cell_type": "markdown",
   "id": "1755340a-dc84-4150-98be-ed8000641ed1",
   "metadata": {},
   "source": [
    "28.\tPerform the following operations using Python on the Salaries.csv data set\n",
    "a. Create data subsets\n",
    "b. Merge Data\n",
    "c. Sort Data\n",
    "d. Transposing Data\n",
    "e. Shape and reshape Data"
   ]
  },
  {
   "cell_type": "code",
   "execution_count": 1,
   "id": "c62c25f2-6bf8-468c-99f2-dc79fc276e84",
   "metadata": {},
   "outputs": [],
   "source": [
    "import pandas as pd\n",
    "import numpy as np"
   ]
  },
  {
   "cell_type": "code",
   "execution_count": 3,
   "id": "59fa2de4-4586-44e7-bc91-b380a9ffd464",
   "metadata": {},
   "outputs": [
    {
     "data": {
      "text/html": [
       "<div>\n",
       "<style scoped>\n",
       "    .dataframe tbody tr th:only-of-type {\n",
       "        vertical-align: middle;\n",
       "    }\n",
       "\n",
       "    .dataframe tbody tr th {\n",
       "        vertical-align: top;\n",
       "    }\n",
       "\n",
       "    .dataframe thead th {\n",
       "        text-align: right;\n",
       "    }\n",
       "</style>\n",
       "<table border=\"1\" class=\"dataframe\">\n",
       "  <thead>\n",
       "    <tr style=\"text-align: right;\">\n",
       "      <th></th>\n",
       "      <th>rank</th>\n",
       "      <th>discipline</th>\n",
       "      <th>phd</th>\n",
       "      <th>service</th>\n",
       "      <th>sex</th>\n",
       "      <th>salary</th>\n",
       "    </tr>\n",
       "  </thead>\n",
       "  <tbody>\n",
       "    <tr>\n",
       "      <th>0</th>\n",
       "      <td>Prof</td>\n",
       "      <td>B</td>\n",
       "      <td>56</td>\n",
       "      <td>49</td>\n",
       "      <td>Male</td>\n",
       "      <td>186960</td>\n",
       "    </tr>\n",
       "    <tr>\n",
       "      <th>1</th>\n",
       "      <td>Prof</td>\n",
       "      <td>A</td>\n",
       "      <td>12</td>\n",
       "      <td>6</td>\n",
       "      <td>Male</td>\n",
       "      <td>93000</td>\n",
       "    </tr>\n",
       "    <tr>\n",
       "      <th>2</th>\n",
       "      <td>Prof</td>\n",
       "      <td>A</td>\n",
       "      <td>23</td>\n",
       "      <td>20</td>\n",
       "      <td>Male</td>\n",
       "      <td>110515</td>\n",
       "    </tr>\n",
       "    <tr>\n",
       "      <th>3</th>\n",
       "      <td>Prof</td>\n",
       "      <td>A</td>\n",
       "      <td>40</td>\n",
       "      <td>31</td>\n",
       "      <td>Male</td>\n",
       "      <td>131205</td>\n",
       "    </tr>\n",
       "    <tr>\n",
       "      <th>4</th>\n",
       "      <td>Prof</td>\n",
       "      <td>B</td>\n",
       "      <td>20</td>\n",
       "      <td>18</td>\n",
       "      <td>Male</td>\n",
       "      <td>104800</td>\n",
       "    </tr>\n",
       "  </tbody>\n",
       "</table>\n",
       "</div>"
      ],
      "text/plain": [
       "   rank discipline  phd  service   sex  salary\n",
       "0  Prof          B   56       49  Male  186960\n",
       "1  Prof          A   12        6  Male   93000\n",
       "2  Prof          A   23       20  Male  110515\n",
       "3  Prof          A   40       31  Male  131205\n",
       "4  Prof          B   20       18  Male  104800"
      ]
     },
     "execution_count": 3,
     "metadata": {},
     "output_type": "execute_result"
    }
   ],
   "source": [
    "df = pd.read_csv(\"Salaries.csv\")\n",
    "df.head()"
   ]
  },
  {
   "cell_type": "markdown",
   "id": "74a7a2aa-d088-4ae6-9cb0-577bbf923cfa",
   "metadata": {},
   "source": [
    "# a. Create Data Subsets"
   ]
  },
  {
   "cell_type": "code",
   "execution_count": 6,
   "id": "a45d5957-152c-4b18-8083-cd8098e4ceff",
   "metadata": {},
   "outputs": [],
   "source": [
    "# Selecting specific columns\n",
    "subset_columns = df[['rank', 'discipline', 'salary']]"
   ]
  },
  {
   "cell_type": "code",
   "execution_count": 8,
   "id": "4fd74e14-9d2b-42ca-9bcb-49a9cf6acfff",
   "metadata": {},
   "outputs": [],
   "source": [
    "# Selecting first 10 rows\n",
    "subset_rows = df.iloc[:10]"
   ]
  },
  {
   "cell_type": "code",
   "execution_count": 10,
   "id": "ccf0af91-cec7-468f-801b-30fd222d2497",
   "metadata": {},
   "outputs": [],
   "source": [
    "# Condition-based subset: Salaries > 100000\n",
    "high_salary = df[df['salary'] > 100000]"
   ]
  },
  {
   "cell_type": "markdown",
   "id": "667718f1-b756-4850-846e-5533f7cd5860",
   "metadata": {},
   "source": [
    "# b. Merge Data"
   ]
  },
  {
   "cell_type": "code",
   "execution_count": 13,
   "id": "aad61380-29ac-4022-91dd-e8553d0a80f2",
   "metadata": {},
   "outputs": [],
   "source": [
    "# Splitting into two subsets\n",
    "df1 = df.iloc[:5]\n",
    "df2 = df.iloc[5:10]"
   ]
  },
  {
   "cell_type": "code",
   "execution_count": 15,
   "id": "38c1b05a-bf44-478b-93c1-35e0bc7a05a7",
   "metadata": {},
   "outputs": [],
   "source": [
    "# Merge vertically (row-wise)\n",
    "merged_df = pd.concat([df1, df2], ignore_index=True)"
   ]
  },
  {
   "cell_type": "code",
   "execution_count": 17,
   "id": "aece2f63-b11a-4463-99bc-d8a3c53d6f79",
   "metadata": {},
   "outputs": [],
   "source": [
    "# Merge horizontally (column-wise)\n",
    "merged_columns = pd.concat([df1.reset_index(drop=True), df2.reset_index(drop=True)], axis=1)"
   ]
  },
  {
   "cell_type": "markdown",
   "id": "4ad66e84-bea7-4615-8f1b-7d2bd05d6e88",
   "metadata": {},
   "source": [
    "# c. Sort Data"
   ]
  },
  {
   "cell_type": "code",
   "execution_count": 27,
   "id": "218d853a-ee06-4ef9-b1f6-5bfcb7f1670b",
   "metadata": {},
   "outputs": [
    {
     "name": "stdout",
     "output_type": "stream",
     "text": [
      "         rank  salary\n",
      "0        Prof  186960\n",
      "13       Prof  162200\n",
      "72       Prof  161101\n",
      "27       Prof  155865\n",
      "31       Prof  155750\n",
      "..        ...     ...\n",
      "55   AsstProf   72500\n",
      "71  AssocProf   71065\n",
      "66   AsstProf   63100\n",
      "54  AssocProf   62884\n",
      "9        Prof   57800\n",
      "\n",
      "[78 rows x 2 columns]\n"
     ]
    }
   ],
   "source": [
    "sorted_df = df.sort_values(by='salary', ascending=False)\n",
    "print(sorted_df[['rank', 'salary']])"
   ]
  },
  {
   "cell_type": "markdown",
   "id": "36ffd997-867f-44a1-bd6f-c500944302fa",
   "metadata": {},
   "source": [
    "# d. Transpose Data"
   ]
  },
  {
   "cell_type": "code",
   "execution_count": 30,
   "id": "45879524-9b7f-4d04-aa60-e841fc178a08",
   "metadata": {},
   "outputs": [
    {
     "data": {
      "text/html": [
       "<div>\n",
       "<style scoped>\n",
       "    .dataframe tbody tr th:only-of-type {\n",
       "        vertical-align: middle;\n",
       "    }\n",
       "\n",
       "    .dataframe tbody tr th {\n",
       "        vertical-align: top;\n",
       "    }\n",
       "\n",
       "    .dataframe thead th {\n",
       "        text-align: right;\n",
       "    }\n",
       "</style>\n",
       "<table border=\"1\" class=\"dataframe\">\n",
       "  <thead>\n",
       "    <tr style=\"text-align: right;\">\n",
       "      <th></th>\n",
       "      <th>0</th>\n",
       "      <th>1</th>\n",
       "      <th>2</th>\n",
       "      <th>3</th>\n",
       "      <th>4</th>\n",
       "    </tr>\n",
       "  </thead>\n",
       "  <tbody>\n",
       "    <tr>\n",
       "      <th>rank</th>\n",
       "      <td>Prof</td>\n",
       "      <td>Prof</td>\n",
       "      <td>Prof</td>\n",
       "      <td>Prof</td>\n",
       "      <td>Prof</td>\n",
       "    </tr>\n",
       "    <tr>\n",
       "      <th>discipline</th>\n",
       "      <td>B</td>\n",
       "      <td>A</td>\n",
       "      <td>A</td>\n",
       "      <td>A</td>\n",
       "      <td>B</td>\n",
       "    </tr>\n",
       "    <tr>\n",
       "      <th>phd</th>\n",
       "      <td>56</td>\n",
       "      <td>12</td>\n",
       "      <td>23</td>\n",
       "      <td>40</td>\n",
       "      <td>20</td>\n",
       "    </tr>\n",
       "    <tr>\n",
       "      <th>service</th>\n",
       "      <td>49</td>\n",
       "      <td>6</td>\n",
       "      <td>20</td>\n",
       "      <td>31</td>\n",
       "      <td>18</td>\n",
       "    </tr>\n",
       "    <tr>\n",
       "      <th>sex</th>\n",
       "      <td>Male</td>\n",
       "      <td>Male</td>\n",
       "      <td>Male</td>\n",
       "      <td>Male</td>\n",
       "      <td>Male</td>\n",
       "    </tr>\n",
       "    <tr>\n",
       "      <th>salary</th>\n",
       "      <td>186960</td>\n",
       "      <td>93000</td>\n",
       "      <td>110515</td>\n",
       "      <td>131205</td>\n",
       "      <td>104800</td>\n",
       "    </tr>\n",
       "  </tbody>\n",
       "</table>\n",
       "</div>"
      ],
      "text/plain": [
       "                 0      1       2       3       4\n",
       "rank          Prof   Prof    Prof    Prof    Prof\n",
       "discipline       B      A       A       A       B\n",
       "phd             56     12      23      40      20\n",
       "service         49      6      20      31      18\n",
       "sex           Male   Male    Male    Male    Male\n",
       "salary      186960  93000  110515  131205  104800"
      ]
     },
     "execution_count": 30,
     "metadata": {},
     "output_type": "execute_result"
    }
   ],
   "source": [
    "transposed = df.head().T\n",
    "transposed"
   ]
  },
  {
   "cell_type": "markdown",
   "id": "17b34d4f-2bca-4652-bce2-67096ea478aa",
   "metadata": {},
   "source": [
    "# e. Shape and Reshape Data"
   ]
  },
  {
   "cell_type": "code",
   "execution_count": 33,
   "id": "46e5fa5f-dd27-4d31-b949-887b8cf5b107",
   "metadata": {},
   "outputs": [
    {
     "name": "stdout",
     "output_type": "stream",
     "text": [
      "Shape: (78, 6)\n"
     ]
    }
   ],
   "source": [
    "# Shape of dataset\n",
    "print(\"Shape:\", df.shape)"
   ]
  },
  {
   "cell_type": "code",
   "execution_count": 35,
   "id": "febcb65c-368f-4617-9457-e5e30d3b1d83",
   "metadata": {},
   "outputs": [
    {
     "name": "stdout",
     "output_type": "stream",
     "text": [
      "Reshaped Salary Data (4x3):\n",
      " [[186960  93000 110515]\n",
      " [131205 104800 122400]\n",
      " [ 81285 126300  94350]\n",
      " [ 57800 128250 134778]]\n"
     ]
    }
   ],
   "source": [
    "# Reshape example: Convert part of the data to numpy and reshape\n",
    "salary_array = df['salary'].head(12).values.reshape(4, 3)\n",
    "print(\"Reshaped Salary Data (4x3):\\n\", salary_array)"
   ]
  },
  {
   "cell_type": "code",
   "execution_count": null,
   "id": "47395eb2-d8df-455b-be4c-c9d48490919d",
   "metadata": {},
   "outputs": [],
   "source": []
  }
 ],
 "metadata": {
  "kernelspec": {
   "display_name": "Python 3 (ipykernel)",
   "language": "python",
   "name": "python3"
  },
  "language_info": {
   "codemirror_mode": {
    "name": "ipython",
    "version": 3
   },
   "file_extension": ".py",
   "mimetype": "text/x-python",
   "name": "python",
   "nbconvert_exporter": "python",
   "pygments_lexer": "ipython3",
   "version": "3.12.4"
  }
 },
 "nbformat": 4,
 "nbformat_minor": 5
}
