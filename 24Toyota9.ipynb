{
 "cells": [
  {
   "cell_type": "markdown",
   "id": "dbbd67a0-d7be-4094-8b1e-b9060a5a3216",
   "metadata": {},
   "source": [
    "24.\tPerform following operations on the given data set (Toyota.csv)\n",
    "a.\tAdd a new column ‘Revised’ to the dataset specifying 5% increase in old Price.\n",
    "b.\tCreate subset of cars’ data having Price greater than 15000 and Age less than 8\n",
    "c.\tSort observations in descending order of Revised Price\n",
    "d.\tApply ZScore_normalization on  HP column"
   ]
  },
  {
   "cell_type": "code",
   "execution_count": 1,
   "id": "63661fcd-4871-404b-9387-ca04c7cc896e",
   "metadata": {},
   "outputs": [],
   "source": [
    "import pandas as pd\n",
    "from scipy.stats import zscore"
   ]
  },
  {
   "cell_type": "code",
   "execution_count": 3,
   "id": "bd97ab9d-8d89-427a-b1f0-4fa34486d038",
   "metadata": {},
   "outputs": [],
   "source": [
    "df = pd.read_csv(\"Toyota.csv\")"
   ]
  },
  {
   "cell_type": "code",
   "execution_count": 5,
   "id": "f7ad3735-1271-46be-975d-961e47eb3414",
   "metadata": {},
   "outputs": [
    {
     "data": {
      "text/html": [
       "<div>\n",
       "<style scoped>\n",
       "    .dataframe tbody tr th:only-of-type {\n",
       "        vertical-align: middle;\n",
       "    }\n",
       "\n",
       "    .dataframe tbody tr th {\n",
       "        vertical-align: top;\n",
       "    }\n",
       "\n",
       "    .dataframe thead th {\n",
       "        text-align: right;\n",
       "    }\n",
       "</style>\n",
       "<table border=\"1\" class=\"dataframe\">\n",
       "  <thead>\n",
       "    <tr style=\"text-align: right;\">\n",
       "      <th></th>\n",
       "      <th>Unnamed: 0</th>\n",
       "      <th>Price</th>\n",
       "      <th>Age</th>\n",
       "      <th>KM</th>\n",
       "      <th>FuelType</th>\n",
       "      <th>HP</th>\n",
       "      <th>MetColor</th>\n",
       "      <th>Automatic</th>\n",
       "      <th>CC</th>\n",
       "      <th>Doors</th>\n",
       "      <th>Weight</th>\n",
       "    </tr>\n",
       "  </thead>\n",
       "  <tbody>\n",
       "    <tr>\n",
       "      <th>0</th>\n",
       "      <td>0</td>\n",
       "      <td>13500</td>\n",
       "      <td>23.0</td>\n",
       "      <td>46986</td>\n",
       "      <td>Diesel</td>\n",
       "      <td>90</td>\n",
       "      <td>1.0</td>\n",
       "      <td>0</td>\n",
       "      <td>2000</td>\n",
       "      <td>three</td>\n",
       "      <td>1165</td>\n",
       "    </tr>\n",
       "    <tr>\n",
       "      <th>1</th>\n",
       "      <td>1</td>\n",
       "      <td>13750</td>\n",
       "      <td>23.0</td>\n",
       "      <td>72937</td>\n",
       "      <td>Diesel</td>\n",
       "      <td>90</td>\n",
       "      <td>1.0</td>\n",
       "      <td>0</td>\n",
       "      <td>2000</td>\n",
       "      <td>3</td>\n",
       "      <td>1165</td>\n",
       "    </tr>\n",
       "    <tr>\n",
       "      <th>2</th>\n",
       "      <td>2</td>\n",
       "      <td>13950</td>\n",
       "      <td>24.0</td>\n",
       "      <td>41711</td>\n",
       "      <td>Diesel</td>\n",
       "      <td>90</td>\n",
       "      <td>NaN</td>\n",
       "      <td>0</td>\n",
       "      <td>2000</td>\n",
       "      <td>3</td>\n",
       "      <td>1165</td>\n",
       "    </tr>\n",
       "    <tr>\n",
       "      <th>3</th>\n",
       "      <td>3</td>\n",
       "      <td>14950</td>\n",
       "      <td>26.0</td>\n",
       "      <td>48000</td>\n",
       "      <td>Diesel</td>\n",
       "      <td>90</td>\n",
       "      <td>0.0</td>\n",
       "      <td>0</td>\n",
       "      <td>2000</td>\n",
       "      <td>3</td>\n",
       "      <td>1165</td>\n",
       "    </tr>\n",
       "    <tr>\n",
       "      <th>4</th>\n",
       "      <td>4</td>\n",
       "      <td>13750</td>\n",
       "      <td>30.0</td>\n",
       "      <td>38500</td>\n",
       "      <td>Diesel</td>\n",
       "      <td>90</td>\n",
       "      <td>0.0</td>\n",
       "      <td>0</td>\n",
       "      <td>2000</td>\n",
       "      <td>3</td>\n",
       "      <td>1170</td>\n",
       "    </tr>\n",
       "  </tbody>\n",
       "</table>\n",
       "</div>"
      ],
      "text/plain": [
       "   Unnamed: 0  Price   Age     KM FuelType  HP  MetColor  Automatic    CC  \\\n",
       "0           0  13500  23.0  46986   Diesel  90       1.0          0  2000   \n",
       "1           1  13750  23.0  72937   Diesel  90       1.0          0  2000   \n",
       "2           2  13950  24.0  41711   Diesel  90       NaN          0  2000   \n",
       "3           3  14950  26.0  48000   Diesel  90       0.0          0  2000   \n",
       "4           4  13750  30.0  38500   Diesel  90       0.0          0  2000   \n",
       "\n",
       "   Doors  Weight  \n",
       "0  three    1165  \n",
       "1      3    1165  \n",
       "2      3    1165  \n",
       "3      3    1165  \n",
       "4      3    1170  "
      ]
     },
     "execution_count": 5,
     "metadata": {},
     "output_type": "execute_result"
    }
   ],
   "source": [
    "df.head()"
   ]
  },
  {
   "cell_type": "code",
   "execution_count": 7,
   "id": "fb653ce7-2477-4532-9547-e8910976f711",
   "metadata": {},
   "outputs": [],
   "source": [
    "df['Price'] = pd.to_numeric(df['Price'], errors='coerce')\n",
    "df['HP'] = pd.to_numeric(df['HP'], errors='coerce')\n",
    "df['Age'] = pd.to_numeric(df['Age'], errors='coerce')"
   ]
  },
  {
   "cell_type": "markdown",
   "id": "02d77525-c1ca-42b9-8d77-e0e2a206db00",
   "metadata": {},
   "source": [
    "# a. Add a new column ‘Revised’ with 5% increase in Price"
   ]
  },
  {
   "cell_type": "code",
   "execution_count": 10,
   "id": "873b891c-de74-4de0-bac9-8943f83f48be",
   "metadata": {},
   "outputs": [
    {
     "name": "stdout",
     "output_type": "stream",
     "text": [
      "\n",
      "New 'Revised' Price column added:\n",
      "    Price  Revised\n",
      "0  13500  14175.0\n",
      "1  13750  14437.5\n",
      "2  13950  14647.5\n",
      "3  14950  15697.5\n",
      "4  13750  14437.5\n"
     ]
    }
   ],
   "source": [
    "df['Revised'] = df['Price'] * 1.05\n",
    "print(\"\\nNew 'Revised' Price column added:\\n\", df[['Price', 'Revised']].head())"
   ]
  },
  {
   "cell_type": "markdown",
   "id": "2623e42e-1ae7-411c-a545-00818c8f1b0b",
   "metadata": {},
   "source": [
    "# b. Create subset with Price > 15000 and Age < 8"
   ]
  },
  {
   "cell_type": "code",
   "execution_count": 13,
   "id": "b7a5777c-4bb0-4100-bc79-37d3dec907a1",
   "metadata": {},
   "outputs": [
    {
     "name": "stdout",
     "output_type": "stream",
     "text": [
      "\n",
      "Subset (Price > 15000 and Age < 8):\n",
      "      Price  Age\n",
      "110  31000  4.0\n",
      "111  31275  4.0\n",
      "114  22950  7.0\n",
      "177  19950  7.0\n",
      "179  22500  6.0\n"
     ]
    }
   ],
   "source": [
    "subset = df[(df['Price'] > 15000) & (df['Age'] < 8)]\n",
    "print(\"\\nSubset (Price > 15000 and Age < 8):\\n\", subset[['Price', 'Age']].head())"
   ]
  },
  {
   "cell_type": "markdown",
   "id": "2f215ed6-7b46-4c62-87c6-316146a1ee9e",
   "metadata": {},
   "source": [
    "# c. Sort by Revised Price in descending order"
   ]
  },
  {
   "cell_type": "code",
   "execution_count": 16,
   "id": "1626ffcf-4ea3-4d94-a380-40ff45174be6",
   "metadata": {},
   "outputs": [
    {
     "name": "stdout",
     "output_type": "stream",
     "text": [
      "\n",
      "Sorted by Revised Price (descending):\n",
      "      Price   Revised\n",
      "109  32500  34125.00\n",
      "111  31275  32838.75\n",
      "110  31000  32550.00\n",
      "115  24990  26239.50\n",
      "113  24950  26197.50\n"
     ]
    }
   ],
   "source": [
    "sorted_df = df.sort_values(by='Revised', ascending=False)\n",
    "print(\"\\nSorted by Revised Price (descending):\\n\", sorted_df[['Price', 'Revised']].head())"
   ]
  },
  {
   "cell_type": "markdown",
   "id": "a0dd8eab-a479-41e0-a9ed-7b66897dffa8",
   "metadata": {},
   "source": [
    "# d. Apply Z-Score normalization on HP column"
   ]
  },
  {
   "cell_type": "code",
   "execution_count": 19,
   "id": "b70cfb0b-e83c-4deb-9f2b-fd09f5b61860",
   "metadata": {},
   "outputs": [
    {
     "name": "stdout",
     "output_type": "stream",
     "text": [
      "\n",
      "HP Z-Score Normalization:\n",
      "      HP  HP_zscore\n",
      "0  90.0  -0.777501\n",
      "1  90.0  -0.777501\n",
      "2  90.0  -0.777501\n",
      "3  90.0  -0.777501\n",
      "4  90.0  -0.777501\n"
     ]
    }
   ],
   "source": [
    "df['HP_zscore'] = zscore(df['HP'], nan_policy='omit')\n",
    "print(\"\\nHP Z-Score Normalization:\\n\", df[['HP', 'HP_zscore']].head())"
   ]
  },
  {
   "cell_type": "code",
   "execution_count": null,
   "id": "735916ff-770a-4f25-b3ad-16d3f2206542",
   "metadata": {},
   "outputs": [],
   "source": []
  },
  {
   "cell_type": "code",
   "execution_count": null,
   "id": "dd158131-61cc-40e2-9c36-bb2a22dd928d",
   "metadata": {},
   "outputs": [],
   "source": []
  },
  {
   "cell_type": "code",
   "execution_count": null,
   "id": "8aad7fef-dc85-4025-a190-89c80d803e2f",
   "metadata": {},
   "outputs": [],
   "source": []
  },
  {
   "cell_type": "code",
   "execution_count": null,
   "id": "32301a12-f7e1-4fb7-bbb8-70fa733ec785",
   "metadata": {},
   "outputs": [],
   "source": []
  }
 ],
 "metadata": {
  "kernelspec": {
   "display_name": "Python 3 (ipykernel)",
   "language": "python",
   "name": "python3"
  },
  "language_info": {
   "codemirror_mode": {
    "name": "ipython",
    "version": 3
   },
   "file_extension": ".py",
   "mimetype": "text/x-python",
   "name": "python",
   "nbconvert_exporter": "python",
   "pygments_lexer": "ipython3",
   "version": "3.12.4"
  }
 },
 "nbformat": 4,
 "nbformat_minor": 5
}
