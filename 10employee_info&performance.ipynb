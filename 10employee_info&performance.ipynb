{
 "cells": [
  {
   "cell_type": "markdown",
   "id": "92ba8e1f-d0ff-4cab-9de1-a7ba40384947",
   "metadata": {},
   "source": [
    "10.\tPerform the following operations in python on given dataset \n",
    "[employee_info.csv: Contains employee demographic and department data\n",
    "performance.csv: Contains performance review scores]\n",
    "a.\tClean invalid ages, join dates, and department names.\n",
    "b.\tCombine datasets using EmployeeID.\n",
    "c.\tCreate performance average scores.\n",
    "d.\tBucket performance into categories (Low/Medium/High).\n",
    "e.\tCorrect mismatched or blank department entries."
   ]
  },
  {
   "cell_type": "code",
   "execution_count": 1,
   "id": "a8e2d68f-f4c8-4def-b8bb-dfda8a46e4df",
   "metadata": {},
   "outputs": [],
   "source": [
    "import pandas as pd\n",
    "import numpy as np"
   ]
  },
  {
   "cell_type": "code",
   "execution_count": 2,
   "id": "376391d0-11fb-49ab-a0fc-e4f9861fc077",
   "metadata": {},
   "outputs": [],
   "source": [
    "employee_df = pd.read_csv('employee_info.csv')\n",
    "performance_df = pd.read_csv('performance.csv')"
   ]
  },
  {
   "cell_type": "code",
   "execution_count": 19,
   "id": "901b093e-04d4-4bec-a972-38c06d0f94f3",
   "metadata": {},
   "outputs": [
    {
     "data": {
      "text/html": [
       "<div>\n",
       "<style scoped>\n",
       "    .dataframe tbody tr th:only-of-type {\n",
       "        vertical-align: middle;\n",
       "    }\n",
       "\n",
       "    .dataframe tbody tr th {\n",
       "        vertical-align: top;\n",
       "    }\n",
       "\n",
       "    .dataframe thead th {\n",
       "        text-align: right;\n",
       "    }\n",
       "</style>\n",
       "<table border=\"1\" class=\"dataframe\">\n",
       "  <thead>\n",
       "    <tr style=\"text-align: right;\">\n",
       "      <th></th>\n",
       "      <th>EmployeeID</th>\n",
       "      <th>Name</th>\n",
       "      <th>Department</th>\n",
       "      <th>Age</th>\n",
       "      <th>JoinDate</th>\n",
       "    </tr>\n",
       "  </thead>\n",
       "  <tbody>\n",
       "    <tr>\n",
       "      <th>0</th>\n",
       "      <td>301</td>\n",
       "      <td>John</td>\n",
       "      <td>Hr</td>\n",
       "      <td>34.0</td>\n",
       "      <td>2015-06-01</td>\n",
       "    </tr>\n",
       "    <tr>\n",
       "      <th>1</th>\n",
       "      <td>302</td>\n",
       "      <td>Jane</td>\n",
       "      <td>Engineering</td>\n",
       "      <td>29.0</td>\n",
       "      <td>2018-09-15</td>\n",
       "    </tr>\n",
       "    <tr>\n",
       "      <th>2</th>\n",
       "      <td>303</td>\n",
       "      <td>Mike</td>\n",
       "      <td>Sales</td>\n",
       "      <td>40.0</td>\n",
       "      <td>2016-01-20</td>\n",
       "    </tr>\n",
       "    <tr>\n",
       "      <th>3</th>\n",
       "      <td>304</td>\n",
       "      <td>Sara</td>\n",
       "      <td>Sales</td>\n",
       "      <td>26.0</td>\n",
       "      <td>2020-11-30</td>\n",
       "    </tr>\n",
       "  </tbody>\n",
       "</table>\n",
       "</div>"
      ],
      "text/plain": [
       "   EmployeeID  Name   Department   Age   JoinDate\n",
       "0         301  John           Hr  34.0 2015-06-01\n",
       "1         302  Jane  Engineering  29.0 2018-09-15\n",
       "2         303  Mike        Sales  40.0 2016-01-20\n",
       "3         304  Sara        Sales  26.0 2020-11-30"
      ]
     },
     "execution_count": 19,
     "metadata": {},
     "output_type": "execute_result"
    }
   ],
   "source": [
    "employee_df"
   ]
  },
  {
   "cell_type": "code",
   "execution_count": 21,
   "id": "99de49d1-6e17-4eb0-8986-d80610251ce3",
   "metadata": {},
   "outputs": [
    {
     "data": {
      "text/html": [
       "<div>\n",
       "<style scoped>\n",
       "    .dataframe tbody tr th:only-of-type {\n",
       "        vertical-align: middle;\n",
       "    }\n",
       "\n",
       "    .dataframe tbody tr th {\n",
       "        vertical-align: top;\n",
       "    }\n",
       "\n",
       "    .dataframe thead th {\n",
       "        text-align: right;\n",
       "    }\n",
       "</style>\n",
       "<table border=\"1\" class=\"dataframe\">\n",
       "  <thead>\n",
       "    <tr style=\"text-align: right;\">\n",
       "      <th></th>\n",
       "      <th>EmployeeID</th>\n",
       "      <th>ReviewScore1</th>\n",
       "      <th>ReviewScore2</th>\n",
       "      <th>EligiblePromotion</th>\n",
       "    </tr>\n",
       "  </thead>\n",
       "  <tbody>\n",
       "    <tr>\n",
       "      <th>0</th>\n",
       "      <td>301</td>\n",
       "      <td>3.5</td>\n",
       "      <td>3.8</td>\n",
       "      <td>1</td>\n",
       "    </tr>\n",
       "    <tr>\n",
       "      <th>1</th>\n",
       "      <td>302</td>\n",
       "      <td>4.2</td>\n",
       "      <td>4.5</td>\n",
       "      <td>1</td>\n",
       "    </tr>\n",
       "    <tr>\n",
       "      <th>2</th>\n",
       "      <td>303</td>\n",
       "      <td>2.8</td>\n",
       "      <td>2.5</td>\n",
       "      <td>0</td>\n",
       "    </tr>\n",
       "    <tr>\n",
       "      <th>3</th>\n",
       "      <td>304</td>\n",
       "      <td>4.5</td>\n",
       "      <td>4.7</td>\n",
       "      <td>1</td>\n",
       "    </tr>\n",
       "    <tr>\n",
       "      <th>4</th>\n",
       "      <td>306</td>\n",
       "      <td>3.0</td>\n",
       "      <td>3.1</td>\n",
       "      <td>0</td>\n",
       "    </tr>\n",
       "  </tbody>\n",
       "</table>\n",
       "</div>"
      ],
      "text/plain": [
       "   EmployeeID  ReviewScore1  ReviewScore2  EligiblePromotion\n",
       "0         301           3.5           3.8                  1\n",
       "1         302           4.2           4.5                  1\n",
       "2         303           2.8           2.5                  0\n",
       "3         304           4.5           4.7                  1\n",
       "4         306           3.0           3.1                  0"
      ]
     },
     "execution_count": 21,
     "metadata": {},
     "output_type": "execute_result"
    }
   ],
   "source": [
    "performance_df"
   ]
  },
  {
   "cell_type": "markdown",
   "id": "4e3b5498-11c4-42a8-adf1-eb10f0e6d039",
   "metadata": {},
   "source": [
    "# a. Clean invalid ages, join dates, and department names"
   ]
  },
  {
   "cell_type": "code",
   "execution_count": 23,
   "id": "f4159de3-cff6-4cde-ae58-7dafa659a3b3",
   "metadata": {},
   "outputs": [
    {
     "name": "stderr",
     "output_type": "stream",
     "text": [
      "C:\\Users\\Sonali\\AppData\\Local\\Temp\\ipykernel_35052\\3782032090.py:3: FutureWarning: A value is trying to be set on a copy of a DataFrame or Series through chained assignment using an inplace method.\n",
      "The behavior will change in pandas 3.0. This inplace method will never work because the intermediate object on which we are setting values always behaves as a copy.\n",
      "\n",
      "For example, when doing 'df[col].method(value, inplace=True)', try using 'df.method({col: value}, inplace=True)' or df[col] = df[col].method(value) instead, to perform the operation inplace on the original object.\n",
      "\n",
      "\n",
      "  employee_df['Age'].fillna(employee_df['Age'].median(), inplace=True)\n"
     ]
    }
   ],
   "source": [
    "employee_df['Age'] = pd.to_numeric(employee_df['Age'], errors='coerce')\n",
    "employee_df.loc[(employee_df['Age'] < 18) | (employee_df['Age'] > 70), 'Age'] = np.nan\n",
    "employee_df['Age'].fillna(employee_df['Age'].median(), inplace=True)"
   ]
  },
  {
   "cell_type": "code",
   "execution_count": 25,
   "id": "712bf146-803a-4165-ae2b-9339f0932948",
   "metadata": {},
   "outputs": [],
   "source": [
    "employee_df['JoinDate'] = pd.to_datetime(employee_df['JoinDate'], errors='coerce')\n",
    "employee_df.dropna(subset=['JoinDate'], inplace=True)"
   ]
  },
  {
   "cell_type": "code",
   "execution_count": 6,
   "id": "735c156a-b0c1-4f2c-91b4-9f1456fe5772",
   "metadata": {},
   "outputs": [],
   "source": [
    "employee_df['Department'] = employee_df['Department'].str.strip().str.title()"
   ]
  },
  {
   "cell_type": "markdown",
   "id": "cdfc884a-7764-4989-9fe4-3d10b0a1c378",
   "metadata": {},
   "source": [
    "# b. Combine datasets using EmployeeID"
   ]
  },
  {
   "cell_type": "code",
   "execution_count": 27,
   "id": "dc555e02-889f-45f8-ad02-72132c014ab0",
   "metadata": {},
   "outputs": [],
   "source": [
    "merged_df = pd.merge(employee_df, performance_df, on=\"EmployeeID\", how=\"inner\")"
   ]
  },
  {
   "cell_type": "markdown",
   "id": "d6d03af5-5c72-4ae9-8afb-001ddfb9a275",
   "metadata": {},
   "source": [
    "# c. Create performance average scores"
   ]
  },
  {
   "cell_type": "code",
   "execution_count": 29,
   "id": "f6115ed9-a299-488f-9960-4c4bdc912dbc",
   "metadata": {},
   "outputs": [],
   "source": [
    "merged_df['AvgScore'] = merged_df[['ReviewScore1', 'ReviewScore2']].mean(axis=1)"
   ]
  },
  {
   "cell_type": "markdown",
   "id": "3f7761f5-82fe-4b66-836d-fc2d9ca19726",
   "metadata": {},
   "source": [
    "# d. Bucket performance into categories"
   ]
  },
  {
   "cell_type": "code",
   "execution_count": 37,
   "id": "485c1438-fb0b-47af-95ff-49212b29b356",
   "metadata": {},
   "outputs": [],
   "source": [
    "def bucket_performance(score):\n",
    "    if score < 3.0:\n",
    "        return 'Low'\n",
    "    elif score < 4.0:\n",
    "        return 'Medium'\n",
    "    else:\n",
    "        return 'High'"
   ]
  },
  {
   "cell_type": "code",
   "execution_count": 39,
   "id": "4bf38c35-d3ca-4794-b920-13024c2c5cf6",
   "metadata": {},
   "outputs": [],
   "source": [
    "merged_df['PerformanceCategory'] = merged_df['AvgScore'].apply(bucket_performance)"
   ]
  },
  {
   "cell_type": "markdown",
   "id": "120138bb-20c6-4aaa-aced-a1f13f4900c2",
   "metadata": {},
   "source": [
    "# e. Correct mismatched or blank department entries"
   ]
  },
  {
   "cell_type": "code",
   "execution_count": 41,
   "id": "53f1547a-3cc4-44d3-95f2-2a65ecdaaaac",
   "metadata": {},
   "outputs": [],
   "source": [
    "valid_departments = ['Hr', 'Engineering', 'Sales', 'Marketing', 'Finance']\n",
    "merged_df['Department'] = merged_df['Department'].apply(lambda d: d if d in valid_departments else 'Other')"
   ]
  },
  {
   "cell_type": "code",
   "execution_count": 43,
   "id": "00eaf627-61c4-474e-b003-4040a32697d0",
   "metadata": {},
   "outputs": [
    {
     "name": "stdout",
     "output_type": "stream",
     "text": [
      "   EmployeeID  Name   Department   Age  AvgScore PerformanceCategory  \\\n",
      "0         301  John           Hr  34.0      3.65              Medium   \n",
      "1         302  Jane  Engineering  29.0      4.35                High   \n",
      "2         303  Mike        Sales  40.0      2.65                 Low   \n",
      "3         304  Sara        Sales  26.0      4.60                High   \n",
      "\n",
      "   EligiblePromotion  \n",
      "0                  1  \n",
      "1                  1  \n",
      "2                  0  \n",
      "3                  1  \n"
     ]
    }
   ],
   "source": [
    "print(merged_df[['EmployeeID', 'Name', 'Department', 'Age', 'AvgScore', 'PerformanceCategory', 'EligiblePromotion']])"
   ]
  },
  {
   "cell_type": "code",
   "execution_count": null,
   "id": "c1c066ad-347e-47d9-8dca-01490397a9aa",
   "metadata": {},
   "outputs": [],
   "source": []
  }
 ],
 "metadata": {
  "kernelspec": {
   "display_name": "Python 3 (ipykernel)",
   "language": "python",
   "name": "python3"
  },
  "language_info": {
   "codemirror_mode": {
    "name": "ipython",
    "version": 3
   },
   "file_extension": ".py",
   "mimetype": "text/x-python",
   "name": "python",
   "nbconvert_exporter": "python",
   "pygments_lexer": "ipython3",
   "version": "3.12.4"
  }
 },
 "nbformat": 4,
 "nbformat_minor": 5
}
