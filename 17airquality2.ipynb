{
 "cells": [
  {
   "cell_type": "markdown",
   "id": "56784d67-70c5-4007-bc3f-b24ac1b77a3d",
   "metadata": {},
   "source": [
    "17.\tPerform the following operations using Python on the airquality dataset\n",
    "a.\tCreate data subsets selecting specified columns (Ozone, Solar.R, Wind and Temp only) and index range\n",
    "b.\tRationally Replace nan values\n",
    "c.\tData transformation- Apply Min-max Normalization on Solar.R \n",
    "d.\tPlot Month wise Temperature using Matplotlib/ seaborn library"
   ]
  },
  {
   "cell_type": "code",
   "execution_count": 1,
   "id": "3aaaeaf4-a2d8-43e6-86fb-1dd56c4614e5",
   "metadata": {},
   "outputs": [],
   "source": [
    "import pandas as pd\n",
    "import numpy as np\n",
    "import matplotlib.pyplot as plt\n",
    "import seaborn as sns"
   ]
  },
  {
   "cell_type": "code",
   "execution_count": 5,
   "id": "80515e5b-c87f-420b-902e-a8f20b5b80c3",
   "metadata": {},
   "outputs": [],
   "source": [
    "df=pd.read_csv('airquality.csv')"
   ]
  },
  {
   "cell_type": "code",
   "execution_count": 9,
   "id": "9e8bc890-3535-448a-9681-0df54661592d",
   "metadata": {},
   "outputs": [
    {
     "data": {
      "text/html": [
       "<div>\n",
       "<style scoped>\n",
       "    .dataframe tbody tr th:only-of-type {\n",
       "        vertical-align: middle;\n",
       "    }\n",
       "\n",
       "    .dataframe tbody tr th {\n",
       "        vertical-align: top;\n",
       "    }\n",
       "\n",
       "    .dataframe thead th {\n",
       "        text-align: right;\n",
       "    }\n",
       "</style>\n",
       "<table border=\"1\" class=\"dataframe\">\n",
       "  <thead>\n",
       "    <tr style=\"text-align: right;\">\n",
       "      <th></th>\n",
       "      <th>Ozone</th>\n",
       "      <th>Solar.R</th>\n",
       "      <th>Wind</th>\n",
       "      <th>Temp</th>\n",
       "      <th>Month</th>\n",
       "      <th>Day</th>\n",
       "    </tr>\n",
       "  </thead>\n",
       "  <tbody>\n",
       "    <tr>\n",
       "      <th>0</th>\n",
       "      <td>41.0</td>\n",
       "      <td>190.0</td>\n",
       "      <td>7.4</td>\n",
       "      <td>67</td>\n",
       "      <td>5</td>\n",
       "      <td>1</td>\n",
       "    </tr>\n",
       "    <tr>\n",
       "      <th>1</th>\n",
       "      <td>36.0</td>\n",
       "      <td>118.0</td>\n",
       "      <td>8.0</td>\n",
       "      <td>72</td>\n",
       "      <td>5</td>\n",
       "      <td>2</td>\n",
       "    </tr>\n",
       "    <tr>\n",
       "      <th>2</th>\n",
       "      <td>12.0</td>\n",
       "      <td>149.0</td>\n",
       "      <td>12.6</td>\n",
       "      <td>74</td>\n",
       "      <td>5</td>\n",
       "      <td>3</td>\n",
       "    </tr>\n",
       "    <tr>\n",
       "      <th>3</th>\n",
       "      <td>18.0</td>\n",
       "      <td>313.0</td>\n",
       "      <td>11.5</td>\n",
       "      <td>62</td>\n",
       "      <td>5</td>\n",
       "      <td>4</td>\n",
       "    </tr>\n",
       "    <tr>\n",
       "      <th>4</th>\n",
       "      <td>NaN</td>\n",
       "      <td>NaN</td>\n",
       "      <td>14.3</td>\n",
       "      <td>56</td>\n",
       "      <td>5</td>\n",
       "      <td>5</td>\n",
       "    </tr>\n",
       "  </tbody>\n",
       "</table>\n",
       "</div>"
      ],
      "text/plain": [
       "   Ozone  Solar.R  Wind  Temp  Month  Day\n",
       "0   41.0    190.0   7.4    67      5    1\n",
       "1   36.0    118.0   8.0    72      5    2\n",
       "2   12.0    149.0  12.6    74      5    3\n",
       "3   18.0    313.0  11.5    62      5    4\n",
       "4    NaN      NaN  14.3    56      5    5"
      ]
     },
     "execution_count": 9,
     "metadata": {},
     "output_type": "execute_result"
    }
   ],
   "source": [
    "df.head()"
   ]
  },
  {
   "cell_type": "markdown",
   "id": "56b3a8c1-5daf-494a-bbe9-ead5f339ca2e",
   "metadata": {},
   "source": [
    "# a. Create data subset with selected columns and index range"
   ]
  },
  {
   "cell_type": "code",
   "execution_count": 7,
   "id": "b32f8fba-67f4-4558-bb6b-3c39eec25e67",
   "metadata": {},
   "outputs": [
    {
     "name": "stdout",
     "output_type": "stream",
     "text": [
      "   Ozone  Solar.R  Wind  Temp\n",
      "0   41.0    190.0   7.4    67\n",
      "1   36.0    118.0   8.0    72\n",
      "2   12.0    149.0  12.6    74\n",
      "3   18.0    313.0  11.5    62\n",
      "4    NaN      NaN  14.3    56\n",
      "5   28.0      NaN  14.9    66\n",
      "6   23.0    299.0   8.6    65\n",
      "7   19.0     99.0  13.8    59\n",
      "8    8.0     19.0  20.1    61\n",
      "9    NaN    194.0   8.6    69\n"
     ]
    }
   ],
   "source": [
    "subset_df = df.loc[0:9, ['Ozone', 'Solar.R', 'Wind', 'Temp']]\n",
    "print(subset_df)"
   ]
  },
  {
   "cell_type": "markdown",
   "id": "e24906c0-924b-4386-bac0-1f9f0b0cf57a",
   "metadata": {},
   "source": [
    "# b. Rationally Replace NaN values"
   ]
  },
  {
   "cell_type": "code",
   "execution_count": 18,
   "id": "e41b0ff0-b234-43f9-9cf9-8b47dde1b88c",
   "metadata": {},
   "outputs": [],
   "source": [
    "df['Ozone'] = df['Ozone'].fillna(df['Ozone'].mean())\n",
    "df['Solar.R'] = df['Solar.R'].fillna(df['Solar.R'].mean())"
   ]
  },
  {
   "cell_type": "markdown",
   "id": "82e8e185-1ece-4eb8-b8b9-d8ae1a9e5038",
   "metadata": {},
   "source": [
    "# c. Min-Max Normalization on Solar.R"
   ]
  },
  {
   "cell_type": "code",
   "execution_count": 20,
   "id": "64216482-7edf-48f2-aaa1-1808c7235fdc",
   "metadata": {},
   "outputs": [
    {
     "name": "stdout",
     "output_type": "stream",
     "text": [
      "Solar.R after Min-Max Normalization:\n",
      "         Solar.R  Solar.R_MinMax\n",
      "0    190.000000        0.559633\n",
      "1    118.000000        0.339450\n",
      "2    149.000000        0.434251\n",
      "3    313.000000        0.935780\n",
      "4    185.931507        0.547191\n",
      "..          ...             ...\n",
      "148  193.000000        0.568807\n",
      "149  145.000000        0.422018\n",
      "150  191.000000        0.562691\n",
      "151  131.000000        0.379205\n",
      "152  223.000000        0.660550\n",
      "\n",
      "[153 rows x 2 columns]\n"
     ]
    }
   ],
   "source": [
    "df['Solar.R_MinMax'] = (df['Solar.R'] - df['Solar.R'].min()) / (df['Solar.R'].max() - df['Solar.R'].min())\n",
    "print(\"Solar.R after Min-Max Normalization:\\n\", df[['Solar.R', 'Solar.R_MinMax']])"
   ]
  },
  {
   "cell_type": "markdown",
   "id": "89361eca-33bd-4dfb-be38-994f60156d32",
   "metadata": {},
   "source": [
    "# d. Plot Month-wise Temperature using Matplotlib / Seaborn"
   ]
  },
  {
   "cell_type": "code",
   "execution_count": 23,
   "id": "a1cf3505-4313-4082-8d94-a35341571d39",
   "metadata": {},
   "outputs": [
    {
     "data": {
      "image/png": "[encoded data removed]",
      "text/plain": [
       "<Figure size 800x500 with 1 Axes>"
      ]
     },
     "metadata": {},
     "output_type": "display_data"
    }
   ],
   "source": [
    "plt.figure(figsize=(8, 5))\n",
    "sns.boxplot(x='Month', y='Temp', data=df)\n",
    "plt.title('Month-wise Temperature')\n",
    "plt.xlabel('Month')\n",
    "plt.ylabel('Temperature')\n",
    "plt.grid(True)\n",
    "plt.tight_layout()\n",
    "plt.show()\n"
   ]
  },
  {
   "cell_type": "code",
   "execution_count": null,
   "id": "3d403986-74e4-4b56-997b-d52a265f87d4",
   "metadata": {},
   "outputs": [],
   "source": []
  },
  {
   "cell_type": "code",
   "execution_count": null,
   "id": "c0da98ce-536c-43df-9550-4b709622889a",
   "metadata": {},
   "outputs": [],
   "source": []
  },
  {
   "cell_type": "code",
   "execution_count": null,
   "id": "04934514-3510-48c2-9312-ca20eabfbad2",
   "metadata": {},
   "outputs": [],
   "source": []
  },
  {
   "cell_type": "code",
   "execution_count": null,
   "id": "37ee9db9-fddd-4617-aac6-832713ed65fe",
   "metadata": {},
   "outputs": [],
   "source": []
  },
  {
   "cell_type": "code",
   "execution_count": null,
   "id": "174781bd-c722-4f35-9711-b5e05029adc9",
   "metadata": {},
   "outputs": [],
   "source": []
  },
  {
   "cell_type": "code",
   "execution_count": null,
   "id": "341508f7-f15e-4fdf-9bbf-bcc17615f9a8",
   "metadata": {},
   "outputs": [],
   "source": []
  },
  {
   "cell_type": "code",
   "execution_count": null,
   "id": "53445673-aed7-4a5e-9f36-494c03107752",
   "metadata": {},
   "outputs": [],
   "source": []
  },
  {
   "cell_type": "code",
   "execution_count": null,
   "id": "959b5b95-da87-4805-8b1e-d2ef584f6136",
   "metadata": {},
   "outputs": [],
   "source": []
  }
 ],
 "metadata": {
  "kernelspec": {
   "display_name": "Python 3 (ipykernel)",
   "language": "python",
   "name": "python3"
  },
  "language_info": {
   "codemirror_mode": {
    "name": "ipython",
    "version": 3
   },
   "file_extension": ".py",
   "mimetype": "text/x-python",
   "name": "python",
   "nbconvert_exporter": "python",
   "pygments_lexer": "ipython3",
   "version": "3.12.4"
  }
 },
 "nbformat": 4,
 "nbformat_minor": 5
}
