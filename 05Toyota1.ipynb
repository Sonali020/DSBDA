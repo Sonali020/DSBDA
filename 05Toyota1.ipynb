{
 "cells": [
  {
   "cell_type": "markdown",
   "id": "d4d30eb8-8459-4d26-804b-e34e9b492047",
   "metadata": {},
   "source": [
    "5.\tPerform the following operations using Python on the given datasets (Toyota.csv)\n",
    "a.\tCreate data subsets  \n",
    "b.\tMerge Data \n",
    "c.\tSort Data on any specified column values\n",
    "d.\tTransposing Data\n",
    "e.\tShape and reshape Data"
   ]
  },
  {
   "cell_type": "code",
   "execution_count": 52,
   "id": "369d30e4-a2ea-4e71-80a2-628818a1f049",
   "metadata": {},
   "outputs": [],
   "source": [
    "import pandas as pd"
   ]
  },
  {
   "cell_type": "code",
   "execution_count": 54,
   "id": "7f02cea1-f0f8-42aa-a0e5-c90be91b7edf",
   "metadata": {},
   "outputs": [
    {
     "name": "stdout",
     "output_type": "stream",
     "text": [
      "   Unnamed: 0  Price   Age     KM FuelType  HP  MetColor  Automatic    CC  \\\n",
      "0           0  13500  23.0  46986   Diesel  90       1.0          0  2000   \n",
      "1           1  13750  23.0  72937   Diesel  90       1.0          0  2000   \n",
      "2           2  13950  24.0  41711   Diesel  90       NaN          0  2000   \n",
      "3           3  14950  26.0  48000   Diesel  90       0.0          0  2000   \n",
      "4           4  13750  30.0  38500   Diesel  90       0.0          0  2000   \n",
      "\n",
      "   Doors  Weight  \n",
      "0  three    1165  \n",
      "1      3    1165  \n",
      "2      3    1165  \n",
      "3      3    1165  \n",
      "4      3    1170  \n"
     ]
    }
   ],
   "source": [
    "df = pd.read_csv(\"Toyota.csv\")\n",
    "print(df.head())"
   ]
  },
  {
   "cell_type": "code",
   "execution_count": 56,
   "id": "6d355e4c-ac7a-41d2-92a2-022cf98487a4",
   "metadata": {},
   "outputs": [],
   "source": [
    "df = df.drop(columns=['Unnamed: 0'])"
   ]
  },
  {
   "cell_type": "markdown",
   "id": "29ac88e0-aac5-402b-9217-5ac4ebf18e20",
   "metadata": {},
   "source": [
    "# a. Create data subsets"
   ]
  },
  {
   "cell_type": "code",
   "execution_count": 59,
   "id": "b2bf2cea-ae17-4175-84f8-e5963de479c2",
   "metadata": {},
   "outputs": [
    {
     "name": "stdout",
     "output_type": "stream",
     "text": [
      "   Price   Age     KM FuelType  HP  MetColor  Automatic    CC  Doors  Weight\n",
      "0  13500  23.0  46986   Diesel  90       1.0          0  2000  three    1165\n",
      "1  13750  23.0  72937   Diesel  90       1.0          0  2000      3    1165\n",
      "2  13950  24.0  41711   Diesel  90       NaN          0  2000      3    1165\n",
      "3  14950  26.0  48000   Diesel  90       0.0          0  2000      3    1165\n",
      "4  13750  30.0  38500   Diesel  90       0.0          0  2000      3    1170\n"
     ]
    }
   ],
   "source": [
    "subset_df = df[(df['Price'] > 13000) & (df['FuelType'] == 'Diesel')]\n",
    "print(subset_df.head())"
   ]
  },
  {
   "cell_type": "markdown",
   "id": "f156f6e7-15ea-472b-8382-4cd8e80a91b7",
   "metadata": {},
   "source": [
    "# b.merge datasets"
   ]
  },
  {
   "cell_type": "code",
   "execution_count": 62,
   "id": "b50a2c6a-8d3d-4b29-8537-edf0967d5155",
   "metadata": {},
   "outputs": [],
   "source": [
    "service_df = pd.DataFrame({\n",
    "    'FuelType': ['Diesel', 'Petrol', 'CNG'],\n",
    "    'ServiceCost': [3000, 2500, 2000]\n",
    "})"
   ]
  },
  {
   "cell_type": "code",
   "execution_count": 64,
   "id": "98df309b-d38e-45ed-a51c-09f22926fd3c",
   "metadata": {},
   "outputs": [
    {
     "name": "stdout",
     "output_type": "stream",
     "text": [
      "   Price FuelType  ServiceCost\n",
      "0  13500   Diesel       3000.0\n",
      "1  13750   Diesel       3000.0\n",
      "2  13950   Diesel       3000.0\n",
      "3  14950   Diesel       3000.0\n",
      "4  13750   Diesel       3000.0\n"
     ]
    }
   ],
   "source": [
    "merged_df = pd.merge(df, service_df, on='FuelType', how='left')\n",
    "print(merged_df[['Price', 'FuelType', 'ServiceCost']].head())"
   ]
  },
  {
   "cell_type": "markdown",
   "id": "00e0ff29-4a09-4f83-9fa6-dcd172012c0c",
   "metadata": {},
   "source": [
    "# 3. Sort Data"
   ]
  },
  {
   "cell_type": "code",
   "execution_count": 67,
   "id": "f61e8ce8-130c-49db-9621-024c83293041",
   "metadata": {},
   "outputs": [
    {
     "name": "stdout",
     "output_type": "stream",
     "text": [
      "\n",
      "Sorted by Age (asc) and KM (desc):\n",
      "     Price  Age    KM\n",
      "184  17795  1.0     1\n",
      "185  18245  1.0     1\n",
      "182  21125  2.0   225\n",
      "110  31000  4.0  4000\n",
      "111  31275  4.0  1500\n"
     ]
    }
   ],
   "source": [
    "sorted_df = df.sort_values(by=['Age', 'KM'], ascending=[True, False])\n",
    "print(\"\\nSorted by Age (asc) and KM (desc):\")\n",
    "print(sorted_df[['Price', 'Age', 'KM']].head())"
   ]
  },
  {
   "cell_type": "markdown",
   "id": "0904f424-a7af-49b6-91e1-72504de0c5fa",
   "metadata": {},
   "source": [
    "#  4. Transpose Data"
   ]
  },
  {
   "cell_type": "code",
   "execution_count": 70,
   "id": "95c64ecc-900f-413c-9203-38b869aa63e1",
   "metadata": {},
   "outputs": [
    {
     "name": "stdout",
     "output_type": "stream",
     "text": [
      "                0       1       2       3       4\n",
      "Price       13500   13750   13950   14950   13750\n",
      "Age          23.0    23.0    24.0    26.0    30.0\n",
      "KM          46986   72937   41711   48000   38500\n",
      "FuelType   Diesel  Diesel  Diesel  Diesel  Diesel\n",
      "HP             90      90      90      90      90\n",
      "MetColor      1.0     1.0     NaN     0.0     0.0\n",
      "Automatic       0       0       0       0       0\n",
      "CC           2000    2000    2000    2000    2000\n",
      "Doors       three       3       3       3       3\n",
      "Weight       1165    1165    1165    1165    1170\n"
     ]
    }
   ],
   "source": [
    "transposed_df = df.head().transpose()\n",
    "print(transposed_df)"
   ]
  },
  {
   "cell_type": "markdown",
   "id": "6e8aaa97-1bae-4efa-ba26-2312a45cf313",
   "metadata": {},
   "source": [
    "# 5. Shape and Reshape Data"
   ]
  },
  {
   "cell_type": "code",
   "execution_count": 73,
   "id": "f2d548b5-b75e-4a9b-b478-b96c2fdb6239",
   "metadata": {},
   "outputs": [],
   "source": [
    "melted_df = pd.melt(df, id_vars=['FuelType'], value_vars=['Price', 'Age', 'KM'], \n",
    "                    var_name='Feature', value_name='Value')"
   ]
  },
  {
   "cell_type": "code",
   "execution_count": 75,
   "id": "30e7d2b7-ec1d-40c0-8773-8364e3a3d936",
   "metadata": {},
   "outputs": [
    {
     "name": "stdout",
     "output_type": "stream",
     "text": [
      "  FuelType Feature  Value\n",
      "0   Diesel   Price  13500\n",
      "1   Diesel   Price  13750\n",
      "2   Diesel   Price  13950\n",
      "3   Diesel   Price  14950\n",
      "4   Diesel   Price  13750\n"
     ]
    }
   ],
   "source": [
    "print(melted_df.head())"
   ]
  },
  {
   "cell_type": "code",
   "execution_count": 77,
   "id": "bb08c851-9642-40c8-8fba-8772037e29af",
   "metadata": {},
   "outputs": [],
   "source": [
    "melted_df['Value'] = pd.to_numeric(melted_df['Value'], errors='coerce')"
   ]
  },
  {
   "cell_type": "code",
   "execution_count": 79,
   "id": "153970a1-1f2d-4a3e-a881-0fe8f60bbc4b",
   "metadata": {},
   "outputs": [
    {
     "name": "stdout",
     "output_type": "stream",
     "text": [
      "Feature         Age             KM         Price\n",
      "FuelType                                        \n",
      "CNG       56.928571  121114.333333   9584.000000\n",
      "Diesel    51.795620  114927.878571  10889.277778\n",
      "Petrol    56.234432   62960.403599  10689.927782\n"
     ]
    }
   ],
   "source": [
    "pivot_df = melted_df.pivot_table(index='FuelType', columns='Feature', values='Value', aggfunc='mean')\n",
    "print(pivot_df)"
   ]
  },
  {
   "cell_type": "code",
   "execution_count": null,
   "id": "9ae0ad70-bcaf-473c-b174-ab41b0692b91",
   "metadata": {},
   "outputs": [],
   "source": []
  },
  {
   "cell_type": "code",
   "execution_count": null,
   "id": "f72c47cc-8a60-461f-862f-0cafef12d27d",
   "metadata": {},
   "outputs": [],
   "source": []
  },
  {
   "cell_type": "code",
   "execution_count": null,
   "id": "bf4ff8e6-54a2-475e-8593-0114edabace7",
   "metadata": {},
   "outputs": [],
   "source": []
  },
  {
   "cell_type": "code",
   "execution_count": null,
   "id": "dac62a10-e87f-4a94-92b0-1c2bc510b1e7",
   "metadata": {},
   "outputs": [],
   "source": []
  }
 ],
 "metadata": {
  "kernelspec": {
   "display_name": "Python 3 (ipykernel)",
   "language": "python",
   "name": "python3"
  },
  "language_info": {
   "codemirror_mode": {
    "name": "ipython",
    "version": 3
   },
   "file_extension": ".py",
   "mimetype": "text/x-python",
   "name": "python",
   "nbconvert_exporter": "python",
   "pygments_lexer": "ipython3",
   "version": "3.12.4"
  }
 },
 "nbformat": 4,
 "nbformat_minor": 5
}
