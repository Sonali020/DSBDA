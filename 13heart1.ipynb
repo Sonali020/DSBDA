{
 "cells": [
  {
   "cell_type": "markdown",
   "id": "45dc0b98-1575-4510-a465-1c1715677bfb",
   "metadata": {},
   "source": [
    "13. Perform the following operations in python on Heart Disease Dataset \\[ ]\n",
    "    a.\tFill missing values in cholesterol, restecg, and thal columns.\n",
    "    b.\tEncode categorical columns like sex, cp, thal using One-Hot Encoding.\n",
    "    c.\tCreate an AgeGroup column (young, middle-aged, elderly).\n",
    "    d.\tNormalize features like chol, thalach, and oldpeak.\n",
    "    e.\tBuild a classification model to predict presence of heart disease (target)."
   ]
  },
  {
   "cell_type": "code",
   "execution_count": 1,
   "id": "be852023-1900-4cb3-9cfd-b180052e6936",
   "metadata": {},
   "outputs": [],
   "source": [
    "import pandas as pd\n",
    "import numpy as np"
   ]
  },
  {
   "cell_type": "code",
   "execution_count": 2,
   "id": "8b525304-b06b-4cb2-9f79-1454fa74b38e",
   "metadata": {},
   "outputs": [],
   "source": [
    "from sklearn.model_selection import train_test_split\n",
    "from sklearn.preprocessing import OneHotEncoder, MinMaxScaler\n",
    "from sklearn.ensemble import RandomForestClassifier\n",
    "from sklearn.metrics import classification_report"
   ]
  },
  {
   "cell_type": "code",
   "execution_count": 10,
   "id": "288a3b75-969a-467c-a5a3-828936f45dc2",
   "metadata": {},
   "outputs": [],
   "source": [
    "# Load the dataset\n",
    "df = pd.read_csv(\"heart.csv\")  # Replace with the correct path to your dataset"
   ]
  },
  {
   "cell_type": "markdown",
   "id": "ebb1845a-f0fd-419a-8429-90bee88b990d",
   "metadata": {},
   "source": [
    "# a. Fill missing values in 'chol', 'restecg', and 'thal'"
   ]
  },
  {
   "cell_type": "code",
   "execution_count": 13,
   "id": "884ec8dd-4686-4baf-ab25-4b73fc6f67c9",
   "metadata": {},
   "outputs": [],
   "source": [
    "df['chol'] = df['chol'].fillna(df['chol'].median())\n",
    "df['restecg'] = df['restecg'].fillna(df['restecg'].mode()[0])\n",
    "df['thal'] = df['thal'].fillna(df['thal'].mode()[0])"
   ]
  },
  {
   "cell_type": "markdown",
   "id": "b4ac4a65-7f8c-459e-b0e3-d87e858e8146",
   "metadata": {},
   "source": [
    "# b. One-Hot Encode categorical columns: sex, cp (chest pain), thal"
   ]
  },
  {
   "cell_type": "code",
   "execution_count": 16,
   "id": "ee64d9ec-8a58-4c27-a101-76bba9352929",
   "metadata": {},
   "outputs": [],
   "source": [
    "categorical_cols = ['sex', 'cp', 'thal']\n",
    "df = pd.get_dummies(df, columns=categorical_cols, drop_first=True)"
   ]
  },
  {
   "cell_type": "markdown",
   "id": "305cbb30-2d80-4be7-b852-b675a24c7a6d",
   "metadata": {},
   "source": [
    "# c. Create AgeGroup column"
   ]
  },
  {
   "cell_type": "code",
   "execution_count": 19,
   "id": "a0688870-0e89-4140-8edc-fed8e312e883",
   "metadata": {},
   "outputs": [],
   "source": [
    "def age_group(age):\n",
    "    if age < 40:\n",
    "        return 'young'\n",
    "    elif age <= 60:\n",
    "        return 'middle-aged'\n",
    "    else:\n",
    "        return 'elderly'"
   ]
  },
  {
   "cell_type": "code",
   "execution_count": 21,
   "id": "f9ba4bb2-6660-4987-8595-c4f8d51add40",
   "metadata": {},
   "outputs": [],
   "source": [
    "df['AgeGroup'] = df['age'].apply(age_group)\n",
    "df = pd.get_dummies(df, columns=['AgeGroup'], drop_first=True)"
   ]
  },
  {
   "cell_type": "markdown",
   "id": "88df0975-09e6-4776-bd06-e754b392b5dd",
   "metadata": {},
   "source": [
    "# d. Normalize chol, thalach, oldpeak"
   ]
  },
  {
   "cell_type": "code",
   "execution_count": 24,
   "id": "fd1fd6f2-177b-4e45-82f9-860cb35a4bd2",
   "metadata": {},
   "outputs": [],
   "source": [
    "scaler = MinMaxScaler()\n",
    "df[['chol', 'thalach', 'oldpeak']] = scaler.fit_transform(df[['chol', 'thalach', 'oldpeak']])"
   ]
  },
  {
   "cell_type": "markdown",
   "id": "650b60a4-e25b-4597-be4b-0761a5bfb866",
   "metadata": {},
   "source": [
    "# e. Build a classification model to predict heart disease"
   ]
  },
  {
   "cell_type": "code",
   "execution_count": 27,
   "id": "72ee0cfd-db86-4cac-b882-a56755272a4f",
   "metadata": {},
   "outputs": [],
   "source": [
    "X = df.drop('target', axis=1)\n",
    "y = df['target']"
   ]
  },
  {
   "cell_type": "code",
   "execution_count": 29,
   "id": "46e5fb14-2d45-4ea3-be55-13c764a2ff59",
   "metadata": {},
   "outputs": [],
   "source": [
    "X_train, X_test, y_train, y_test = train_test_split(X, y, test_size=0.2, random_state=42)"
   ]
  },
  {
   "cell_type": "code",
   "execution_count": 31,
   "id": "aff58080-946e-46e5-aa05-e08f2f0da04f",
   "metadata": {},
   "outputs": [],
   "source": [
    "clf = RandomForestClassifier(random_state=42)\n",
    "clf.fit(X_train, y_train)\n",
    "y_pred = clf.predict(X_test)"
   ]
  },
  {
   "cell_type": "code",
   "execution_count": 32,
   "id": "3f0dff55-bce0-4771-90a2-b6a7757bec93",
   "metadata": {},
   "outputs": [
    {
     "name": "stdout",
     "output_type": "stream",
     "text": [
      "              precision    recall  f1-score   support\n",
      "\n",
      "           0       1.00      1.00      1.00       102\n",
      "           1       1.00      1.00      1.00       103\n",
      "\n",
      "    accuracy                           1.00       205\n",
      "   macro avg       1.00      1.00      1.00       205\n",
      "weighted avg       1.00      1.00      1.00       205\n",
      "\n"
     ]
    }
   ],
   "source": [
    "print(classification_report(y_test, y_pred))"
   ]
  },
  {
   "cell_type": "code",
   "execution_count": null,
   "id": "9e48fc66-7e70-4984-91c0-16afe74c1a81",
   "metadata": {},
   "outputs": [],
   "source": []
  },
  {
   "cell_type": "code",
   "execution_count": null,
   "id": "1cb28d1a-f6f0-458a-b7d3-51f5bdd38b4b",
   "metadata": {},
   "outputs": [],
   "source": []
  },
  {
   "cell_type": "code",
   "execution_count": null,
   "id": "e3eed021-a992-47e0-a60a-b42447657d2c",
   "metadata": {},
   "outputs": [],
   "source": []
  }
 ],
 "metadata": {
  "kernelspec": {
   "display_name": "Python 3 (ipykernel)",
   "language": "python",
   "name": "python3"
  },
  "language_info": {
   "codemirror_mode": {
    "name": "ipython",
    "version": 3
   },
   "file_extension": ".py",
   "mimetype": "text/x-python",
   "name": "python",
   "nbconvert_exporter": "python",
   "pygments_lexer": "ipython3",
   "version": "3.12.4"
  }
 },
 "nbformat": 4,
 "nbformat_minor": 5
}
