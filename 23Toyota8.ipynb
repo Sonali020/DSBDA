{
 "cells": [
  {
   "cell_type": "markdown",
   "id": "81a7aa41-5dd4-403e-8be5-2f26a329eecf",
   "metadata": {},
   "source": [
    "23.\tPerform following operations on the given data set (Toyota.csv)\n",
    "a.\tRemove duplicate records from dataset and display concise summary\n",
    "b.\tCreate Subset selecting columns 'Price', 'Age', 'FuelType' and initial 10 records.\n",
    "c.\tTranspose of this subset\n",
    "d.\tApply mean-max normalization on HP column"
   ]
  },
  {
   "cell_type": "code",
   "execution_count": 1,
   "id": "b3269582-3a2f-46c5-aab3-a13f45b8081b",
   "metadata": {},
   "outputs": [],
   "source": [
    "import pandas as pd"
   ]
  },
  {
   "cell_type": "code",
   "execution_count": 2,
   "id": "eb3f8990-ab8e-41a8-8306-6bdce150c808",
   "metadata": {},
   "outputs": [],
   "source": [
    "df = pd.read_csv(\"Toyota.csv\")"
   ]
  },
  {
   "cell_type": "code",
   "execution_count": 8,
   "id": "12e8fc15-ec01-46c7-a709-e2d70d77a817",
   "metadata": {},
   "outputs": [
    {
     "data": {
      "text/html": [
       "<div>\n",
       "<style scoped>\n",
       "    .dataframe tbody tr th:only-of-type {\n",
       "        vertical-align: middle;\n",
       "    }\n",
       "\n",
       "    .dataframe tbody tr th {\n",
       "        vertical-align: top;\n",
       "    }\n",
       "\n",
       "    .dataframe thead th {\n",
       "        text-align: right;\n",
       "    }\n",
       "</style>\n",
       "<table border=\"1\" class=\"dataframe\">\n",
       "  <thead>\n",
       "    <tr style=\"text-align: right;\">\n",
       "      <th></th>\n",
       "      <th>Unnamed: 0</th>\n",
       "      <th>Price</th>\n",
       "      <th>Age</th>\n",
       "      <th>KM</th>\n",
       "      <th>FuelType</th>\n",
       "      <th>HP</th>\n",
       "      <th>MetColor</th>\n",
       "      <th>Automatic</th>\n",
       "      <th>CC</th>\n",
       "      <th>Doors</th>\n",
       "      <th>Weight</th>\n",
       "    </tr>\n",
       "  </thead>\n",
       "  <tbody>\n",
       "    <tr>\n",
       "      <th>0</th>\n",
       "      <td>0</td>\n",
       "      <td>13500</td>\n",
       "      <td>23.0</td>\n",
       "      <td>46986</td>\n",
       "      <td>Diesel</td>\n",
       "      <td>90</td>\n",
       "      <td>1.0</td>\n",
       "      <td>0</td>\n",
       "      <td>2000</td>\n",
       "      <td>three</td>\n",
       "      <td>1165</td>\n",
       "    </tr>\n",
       "    <tr>\n",
       "      <th>1</th>\n",
       "      <td>1</td>\n",
       "      <td>13750</td>\n",
       "      <td>23.0</td>\n",
       "      <td>72937</td>\n",
       "      <td>Diesel</td>\n",
       "      <td>90</td>\n",
       "      <td>1.0</td>\n",
       "      <td>0</td>\n",
       "      <td>2000</td>\n",
       "      <td>3</td>\n",
       "      <td>1165</td>\n",
       "    </tr>\n",
       "    <tr>\n",
       "      <th>2</th>\n",
       "      <td>2</td>\n",
       "      <td>13950</td>\n",
       "      <td>24.0</td>\n",
       "      <td>41711</td>\n",
       "      <td>Diesel</td>\n",
       "      <td>90</td>\n",
       "      <td>NaN</td>\n",
       "      <td>0</td>\n",
       "      <td>2000</td>\n",
       "      <td>3</td>\n",
       "      <td>1165</td>\n",
       "    </tr>\n",
       "    <tr>\n",
       "      <th>3</th>\n",
       "      <td>3</td>\n",
       "      <td>14950</td>\n",
       "      <td>26.0</td>\n",
       "      <td>48000</td>\n",
       "      <td>Diesel</td>\n",
       "      <td>90</td>\n",
       "      <td>0.0</td>\n",
       "      <td>0</td>\n",
       "      <td>2000</td>\n",
       "      <td>3</td>\n",
       "      <td>1165</td>\n",
       "    </tr>\n",
       "    <tr>\n",
       "      <th>4</th>\n",
       "      <td>4</td>\n",
       "      <td>13750</td>\n",
       "      <td>30.0</td>\n",
       "      <td>38500</td>\n",
       "      <td>Diesel</td>\n",
       "      <td>90</td>\n",
       "      <td>0.0</td>\n",
       "      <td>0</td>\n",
       "      <td>2000</td>\n",
       "      <td>3</td>\n",
       "      <td>1170</td>\n",
       "    </tr>\n",
       "  </tbody>\n",
       "</table>\n",
       "</div>"
      ],
      "text/plain": [
       "   Unnamed: 0  Price   Age     KM FuelType  HP  MetColor  Automatic    CC  \\\n",
       "0           0  13500  23.0  46986   Diesel  90       1.0          0  2000   \n",
       "1           1  13750  23.0  72937   Diesel  90       1.0          0  2000   \n",
       "2           2  13950  24.0  41711   Diesel  90       NaN          0  2000   \n",
       "3           3  14950  26.0  48000   Diesel  90       0.0          0  2000   \n",
       "4           4  13750  30.0  38500   Diesel  90       0.0          0  2000   \n",
       "\n",
       "   Doors  Weight  \n",
       "0  three    1165  \n",
       "1      3    1165  \n",
       "2      3    1165  \n",
       "3      3    1165  \n",
       "4      3    1170  "
      ]
     },
     "execution_count": 8,
     "metadata": {},
     "output_type": "execute_result"
    }
   ],
   "source": [
    "df.head()"
   ]
  },
  {
   "cell_type": "markdown",
   "id": "388331fb-2c26-4bb6-8c7e-b96fe43893b8",
   "metadata": {},
   "source": [
    "# a. Remove duplicate records and display concise summary"
   ]
  },
  {
   "cell_type": "code",
   "execution_count": 10,
   "id": "463b8e96-936b-432d-94d7-2290ff2e55f7",
   "metadata": {},
   "outputs": [
    {
     "name": "stdout",
     "output_type": "stream",
     "text": [
      "\n",
      "Summary After Removing Duplicates:\n",
      "<class 'pandas.core.frame.DataFrame'>\n",
      "RangeIndex: 1436 entries, 0 to 1435\n",
      "Data columns (total 11 columns):\n",
      " #   Column      Non-Null Count  Dtype  \n",
      "---  ------      --------------  -----  \n",
      " 0   Unnamed: 0  1436 non-null   int64  \n",
      " 1   Price       1436 non-null   int64  \n",
      " 2   Age         1336 non-null   float64\n",
      " 3   KM          1436 non-null   object \n",
      " 4   FuelType    1336 non-null   object \n",
      " 5   HP          1436 non-null   object \n",
      " 6   MetColor    1286 non-null   float64\n",
      " 7   Automatic   1436 non-null   int64  \n",
      " 8   CC          1436 non-null   int64  \n",
      " 9   Doors       1436 non-null   object \n",
      " 10  Weight      1436 non-null   int64  \n",
      "dtypes: float64(2), int64(5), object(4)\n",
      "memory usage: 123.5+ KB\n",
      "None\n"
     ]
    }
   ],
   "source": [
    "df = df.drop_duplicates()\n",
    "print(\"\\nSummary After Removing Duplicates:\")\n",
    "print(df.info())"
   ]
  },
  {
   "cell_type": "markdown",
   "id": "78a52200-2d9f-4961-9335-eb597368365b",
   "metadata": {},
   "source": [
    "# b. Create subset with columns 'Price', 'Age', 'FuelType' and first 10 records"
   ]
  },
  {
   "cell_type": "code",
   "execution_count": 13,
   "id": "340ae58d-38a6-45e4-8639-818febd85578",
   "metadata": {},
   "outputs": [
    {
     "name": "stdout",
     "output_type": "stream",
     "text": [
      "\n",
      "Subset (first 10 rows):\n",
      "    Price   Age FuelType\n",
      "0  13500  23.0   Diesel\n",
      "1  13750  23.0   Diesel\n",
      "2  13950  24.0   Diesel\n",
      "3  14950  26.0   Diesel\n",
      "4  13750  30.0   Diesel\n",
      "5  12950  32.0   Diesel\n",
      "6  16900  27.0   Diesel\n",
      "7  18600  30.0      NaN\n",
      "8  21500  27.0   Petrol\n",
      "9  12950  23.0   Diesel\n"
     ]
    }
   ],
   "source": [
    "subset = df[['Price', 'Age', 'FuelType']].head(10)\n",
    "print(\"\\nSubset (first 10 rows):\\n\", subset)"
   ]
  },
  {
   "cell_type": "markdown",
   "id": "6fea9797-294b-4ba6-95d8-3ec5204b7059",
   "metadata": {},
   "source": [
    "# c. Transpose of this subset"
   ]
  },
  {
   "cell_type": "code",
   "execution_count": 16,
   "id": "f294939f-021c-4131-9f79-eac6f267d4a4",
   "metadata": {},
   "outputs": [
    {
     "data": {
      "text/html": [
       "<div>\n",
       "<style scoped>\n",
       "    .dataframe tbody tr th:only-of-type {\n",
       "        vertical-align: middle;\n",
       "    }\n",
       "\n",
       "    .dataframe tbody tr th {\n",
       "        vertical-align: top;\n",
       "    }\n",
       "\n",
       "    .dataframe thead th {\n",
       "        text-align: right;\n",
       "    }\n",
       "</style>\n",
       "<table border=\"1\" class=\"dataframe\">\n",
       "  <thead>\n",
       "    <tr style=\"text-align: right;\">\n",
       "      <th></th>\n",
       "      <th>0</th>\n",
       "      <th>1</th>\n",
       "      <th>2</th>\n",
       "      <th>3</th>\n",
       "      <th>4</th>\n",
       "      <th>5</th>\n",
       "      <th>6</th>\n",
       "      <th>7</th>\n",
       "      <th>8</th>\n",
       "      <th>9</th>\n",
       "    </tr>\n",
       "  </thead>\n",
       "  <tbody>\n",
       "    <tr>\n",
       "      <th>Price</th>\n",
       "      <td>13500</td>\n",
       "      <td>13750</td>\n",
       "      <td>13950</td>\n",
       "      <td>14950</td>\n",
       "      <td>13750</td>\n",
       "      <td>12950</td>\n",
       "      <td>16900</td>\n",
       "      <td>18600</td>\n",
       "      <td>21500</td>\n",
       "      <td>12950</td>\n",
       "    </tr>\n",
       "    <tr>\n",
       "      <th>Age</th>\n",
       "      <td>23.0</td>\n",
       "      <td>23.0</td>\n",
       "      <td>24.0</td>\n",
       "      <td>26.0</td>\n",
       "      <td>30.0</td>\n",
       "      <td>32.0</td>\n",
       "      <td>27.0</td>\n",
       "      <td>30.0</td>\n",
       "      <td>27.0</td>\n",
       "      <td>23.0</td>\n",
       "    </tr>\n",
       "    <tr>\n",
       "      <th>FuelType</th>\n",
       "      <td>Diesel</td>\n",
       "      <td>Diesel</td>\n",
       "      <td>Diesel</td>\n",
       "      <td>Diesel</td>\n",
       "      <td>Diesel</td>\n",
       "      <td>Diesel</td>\n",
       "      <td>Diesel</td>\n",
       "      <td>NaN</td>\n",
       "      <td>Petrol</td>\n",
       "      <td>Diesel</td>\n",
       "    </tr>\n",
       "  </tbody>\n",
       "</table>\n",
       "</div>"
      ],
      "text/plain": [
       "               0       1       2       3       4       5       6      7  \\\n",
       "Price      13500   13750   13950   14950   13750   12950   16900  18600   \n",
       "Age         23.0    23.0    24.0    26.0    30.0    32.0    27.0   30.0   \n",
       "FuelType  Diesel  Diesel  Diesel  Diesel  Diesel  Diesel  Diesel    NaN   \n",
       "\n",
       "               8       9  \n",
       "Price      21500   12950  \n",
       "Age         27.0    23.0  \n",
       "FuelType  Petrol  Diesel  "
      ]
     },
     "execution_count": 16,
     "metadata": {},
     "output_type": "execute_result"
    }
   ],
   "source": [
    "transposed = subset.transpose()\n",
    "transposed"
   ]
  },
  {
   "cell_type": "markdown",
   "id": "e758782c-bb5d-44f8-a91c-6c2569dc47b2",
   "metadata": {},
   "source": [
    "# d. Apply Mean-Max Normalization on HP column"
   ]
  },
  {
   "cell_type": "code",
   "execution_count": 19,
   "id": "a16cfc29-6ea2-4d2e-b7ce-13995a948f67",
   "metadata": {},
   "outputs": [],
   "source": [
    "# Formula: (x - mean) / (max - min)"
   ]
  },
  {
   "cell_type": "code",
   "execution_count": 20,
   "id": "f3e1ce6d-95a7-452e-bbf1-9952dd3d65ec",
   "metadata": {},
   "outputs": [],
   "source": [
    "df['HP'] = pd.to_numeric(df['HP'], errors='coerce')"
   ]
  },
  {
   "cell_type": "code",
   "execution_count": 21,
   "id": "3368000f-f50b-4d53-9dcf-74f88ed4920f",
   "metadata": {},
   "outputs": [],
   "source": [
    "mean_hp = df['HP'].mean()\n",
    "max_hp = df['HP'].max()\n",
    "min_hp = df['HP'].min()"
   ]
  },
  {
   "cell_type": "code",
   "execution_count": 22,
   "id": "7a8f45ec-99df-4e1b-af37-b71c6ef34c55",
   "metadata": {},
   "outputs": [
    {
     "name": "stdout",
     "output_type": "stream",
     "text": [
      "\n",
      "Sample of HP after Mean-Max Normalization:\n",
      "      HP  HP_mean_max_normalized\n",
      "0  90.0                -0.09332\n",
      "1  90.0                -0.09332\n",
      "2  90.0                -0.09332\n",
      "3  90.0                -0.09332\n",
      "4  90.0                -0.09332\n"
     ]
    }
   ],
   "source": [
    "df['HP_mean_max_normalized'] = (df['HP'] - mean_hp) / (max_hp - min_hp)\n",
    "print(\"\\nSample of HP after Mean-Max Normalization:\\n\", df[['HP', 'HP_mean_max_normalized']].head())"
   ]
  },
  {
   "cell_type": "code",
   "execution_count": null,
   "id": "c51ba89b-006b-410c-849f-e2b63b646378",
   "metadata": {},
   "outputs": [],
   "source": []
  },
  {
   "cell_type": "code",
   "execution_count": null,
   "id": "3ff1c6b6-e577-40c4-a872-6b95a1c59252",
   "metadata": {},
   "outputs": [],
   "source": []
  }
 ],
 "metadata": {
  "kernelspec": {
   "display_name": "Python 3 (ipykernel)",
   "language": "python",
   "name": "python3"
  },
  "language_info": {
   "codemirror_mode": {
    "name": "ipython",
    "version": 3
   },
   "file_extension": ".py",
   "mimetype": "text/x-python",
   "name": "python",
   "nbconvert_exporter": "python",
   "pygments_lexer": "ipython3",
   "version": "3.12.4"
  }
 },
 "nbformat": 4,
 "nbformat_minor": 5
}
