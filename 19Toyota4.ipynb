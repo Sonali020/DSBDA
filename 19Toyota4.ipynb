{
 "cells": [
  {
   "cell_type": "markdown",
   "id": "71a7a14e-46f0-41c2-84e4-fb1a8c3daf2c",
   "metadata": {},
   "source": [
    "19.\tPerform the following operations using Python on the given data sets (Toyota.csv)\n",
    "a.\tSort observations on Price values order\n",
    "b.\tCreate Subset by Selecting columns, selecting rows and columns, \n",
    "c.\tCreate subset of cars data having Price greater than 15000 and Age less than 8\n",
    "d.\tCreate subset of cars data consuming Petrol\n",
    "e.\tApply decimal normalization on Price column "
   ]
  },
  {
   "cell_type": "code",
   "execution_count": 1,
   "id": "63b68957-af17-45c8-9f98-6f4e06313b48",
   "metadata": {},
   "outputs": [],
   "source": [
    "import pandas as pd"
   ]
  },
  {
   "cell_type": "code",
   "execution_count": 2,
   "id": "6f34bd59-59d1-4c00-846f-341dbad7255e",
   "metadata": {},
   "outputs": [],
   "source": [
    "df = pd.read_csv(\"Toyota.csv\")"
   ]
  },
  {
   "cell_type": "code",
   "execution_count": 17,
   "id": "dd4a7915-23e8-41a9-a6f2-482f08299560",
   "metadata": {},
   "outputs": [],
   "source": [
    "# Standardize 'Doors' column for consistency before any filtering\n",
    "df['Doors'] = df['Doors'].replace({'three': 3, 'Four': 4, 'five': 5})\n",
    "df['Doors'] = pd.to_numeric(df['Doors'], errors='coerce')"
   ]
  },
  {
   "cell_type": "markdown",
   "id": "e44d713f-0c5d-4e78-95e0-1a5d9ee39722",
   "metadata": {},
   "source": [
    "# a. Sort observations on Price values order"
   ]
  },
  {
   "cell_type": "code",
   "execution_count": 20,
   "id": "de5cd3b7-afc4-4241-aa8d-db581471a8e0",
   "metadata": {},
   "outputs": [
    {
     "name": "stdout",
     "output_type": "stream",
     "text": [
      "\n",
      "Sorted by Price:\n",
      "       Unnamed: 0  Price   Age      KM FuelType  HP  MetColor  Automatic    CC  \\\n",
      "191          191   4350  44.0  158320   Diesel  69       0.0          0  1800   \n",
      "1048        1048   4400  74.0  203254   Diesel  72       1.0          0  2000   \n",
      "393          393   4450  56.0  129155   Diesel  69       0.0          0  1800   \n",
      "192          192   4750  44.0  131273   Diesel  69       1.0          0  1800   \n",
      "402          402   5150  56.0  113997   Diesel  72       1.0          0  2000   \n",
      "\n",
      "      Doors  Weight  Price_Normalized  \n",
      "191     5.0    1110            0.0435  \n",
      "1048    3.0    1135            0.0440  \n",
      "393     5.0    1110            0.0445  \n",
      "192     5.0    1110            0.0475  \n",
      "402     5.0    1135            0.0515  \n"
     ]
    }
   ],
   "source": [
    "sorted_df = df.sort_values(by='Price')\n",
    "print(\"\\nSorted by Price:\\n\", sorted_df.head())"
   ]
  },
  {
   "cell_type": "markdown",
   "id": "64909d71-4fd0-4c56-a162-d15fcd1b1897",
   "metadata": {},
   "source": [
    "# b. Create Subset by:\n",
    "#    - Selecting columns\n",
    "#    - Selecting rows and columns"
   ]
  },
  {
   "cell_type": "code",
   "execution_count": 23,
   "id": "babe40f1-d8e2-40ba-82f3-959414e03d94",
   "metadata": {},
   "outputs": [
    {
     "name": "stdout",
     "output_type": "stream",
     "text": [
      "\n",
      "Subset of Columns:\n",
      "    Price   Age FuelType\n",
      "0  13500  23.0   Diesel\n",
      "1  13750  23.0   Diesel\n",
      "2  13950  24.0   Diesel\n",
      "3  14950  26.0   Diesel\n",
      "4  13750  30.0   Diesel\n"
     ]
    }
   ],
   "source": [
    "subset_columns = df[['Price', 'Age', 'FuelType']]  # selecting specific columns\n",
    "print(\"\\nSubset of Columns:\\n\", subset_columns.head())"
   ]
  },
  {
   "cell_type": "code",
   "execution_count": 25,
   "id": "a7d55b5c-9403-44e9-9e46-dce72c62f692",
   "metadata": {},
   "outputs": [
    {
     "name": "stdout",
     "output_type": "stream",
     "text": [
      "\n",
      "Subset of Rows and Columns:\n",
      "    Price   Age FuelType\n",
      "0  13500  23.0   Diesel\n",
      "1  13750  23.0   Diesel\n",
      "2  13950  24.0   Diesel\n",
      "3  14950  26.0   Diesel\n",
      "4  13750  30.0   Diesel\n"
     ]
    }
   ],
   "source": [
    "subset_rows_cols = df.loc[0:4, ['Price', 'Age', 'FuelType']]  # rows 0 to 4 & selected cols\n",
    "print(\"\\nSubset of Rows and Columns:\\n\", subset_rows_cols)"
   ]
  },
  {
   "cell_type": "markdown",
   "id": "8ffaee80-f159-4c29-9e70-42cbf645ca01",
   "metadata": {},
   "source": [
    "# c. Subset of cars with Price > 15000 and Age < 8"
   ]
  },
  {
   "cell_type": "code",
   "execution_count": 28,
   "id": "a84f35fc-4c9a-45c2-900f-5e7b0c9c3001",
   "metadata": {},
   "outputs": [
    {
     "name": "stdout",
     "output_type": "stream",
     "text": [
      "\n",
      "Cars with Price > 15000 and Age < 8:\n",
      "      Unnamed: 0  Price  Age     KM FuelType   HP  MetColor  Automatic    CC  \\\n",
      "110         110  31000  4.0   4000   Diesel  116       1.0          0  2000   \n",
      "111         111  31275  4.0   1500   Diesel  116       1.0          0  2000   \n",
      "114         114  22950  7.0  10000   Diesel  116       1.0          0  2000   \n",
      "177         177  19950  7.0   6250   Petrol  110       1.0          0  1600   \n",
      "179         179  22500  6.0   3000   Petrol  110       0.0          0  1600   \n",
      "180         180  18500  7.0   2000   Petrol  110       0.0          0  1600   \n",
      "181         181  18700  7.0    450   Petrol   97       1.0          0  1400   \n",
      "182         182  21125  2.0    225   Petrol   97       1.0          0  1400   \n",
      "184         184  17795  1.0      1   Petrol   98       1.0          0  1400   \n",
      "185         185  18245  1.0      1   Petrol  110       1.0          0  1600   \n",
      "\n",
      "     Doors  Weight  Price_Normalized  \n",
      "110    5.0    1480           0.31000  \n",
      "111    5.0    1480           0.31275  \n",
      "114    5.0    1270           0.22950  \n",
      "177    5.0    1115           0.19950  \n",
      "179    5.0    1130           0.22500  \n",
      "180    5.0    1075           0.18500  \n",
      "181    5.0    1110           0.18700  \n",
      "182    5.0    1110           0.21125  \n",
      "184    4.0    1100           0.17795  \n",
      "185    5.0    1075           0.18245  \n"
     ]
    }
   ],
   "source": [
    "subset_expensive_young = df[(df['Price'] > 15000) & (df['Age'] < 8)]\n",
    "print(\"\\nCars with Price > 15000 and Age < 8:\\n\", subset_expensive_young)"
   ]
  },
  {
   "cell_type": "markdown",
   "id": "3b8ff359-e6a5-47ba-824d-17e30c68f3fe",
   "metadata": {},
   "source": [
    "# d. Subset of cars that consume Petrol"
   ]
  },
  {
   "cell_type": "code",
   "execution_count": 31,
   "id": "80fc5f04-24f4-41ef-a321-87ec4faee4a2",
   "metadata": {},
   "outputs": [
    {
     "name": "stdout",
     "output_type": "stream",
     "text": [
      "\n",
      "Cars consuming Petrol:\n",
      "       Unnamed: 0  Price   Age     KM FuelType   HP  MetColor  Automatic    CC  \\\n",
      "8              8  21500  27.0  19700   Petrol  192       0.0          0  1800   \n",
      "10            10  20950  25.0  31461   Petrol  192       0.0          0  1800   \n",
      "11            11  19950  22.0  43610   Petrol  192       0.0          0  1800   \n",
      "12            12  19600  25.0  32189   Petrol  192       0.0          0  1800   \n",
      "13            13  21500  31.0  23000   Petrol  192       1.0          0  1800   \n",
      "...          ...    ...   ...    ...      ...  ...       ...        ...   ...   \n",
      "1430        1430   8450  80.0  23000   Petrol   86       0.0          0  1300   \n",
      "1431        1431   7500   NaN  20544   Petrol   86       1.0          0  1300   \n",
      "1432        1432  10845  72.0     ??   Petrol   86       0.0          0  1300   \n",
      "1433        1433   8500   NaN  17016   Petrol   86       0.0          0  1300   \n",
      "1435        1435   6950  76.0      1   Petrol  110       0.0          0  1600   \n",
      "\n",
      "      Doors  Weight  Price_Normalized  \n",
      "8       3.0    1185           0.21500  \n",
      "10      3.0    1185           0.20950  \n",
      "11      3.0    1185           0.19950  \n",
      "12      3.0    1185           0.19600  \n",
      "13      3.0    1185           0.21500  \n",
      "...     ...     ...               ...  \n",
      "1430    3.0    1015           0.08450  \n",
      "1431    3.0    1025           0.07500  \n",
      "1432    3.0    1015           0.10845  \n",
      "1433    3.0    1015           0.08500  \n",
      "1435    5.0    1114           0.06950  \n",
      "\n",
      "[1177 rows x 12 columns]\n"
     ]
    }
   ],
   "source": [
    "subset_petrol = df[df['FuelType'].str.lower() == 'petrol']\n",
    "print(\"\\nCars consuming Petrol:\\n\", subset_petrol)"
   ]
  },
  {
   "cell_type": "markdown",
   "id": "4c7e39eb-f5c3-49d8-abdc-84735dc58668",
   "metadata": {},
   "source": [
    "# e. Apply decimal normalization on Price column"
   ]
  },
  {
   "cell_type": "code",
   "execution_count": 34,
   "id": "7f99e026-80ac-475a-bbb3-a68324620106",
   "metadata": {},
   "outputs": [
    {
     "name": "stdout",
     "output_type": "stream",
     "text": [
      "\n",
      "Price with Decimal Normalization:\n",
      "    Price  Price_Normalized\n",
      "0  13500            0.1350\n",
      "1  13750            0.1375\n",
      "2  13950            0.1395\n",
      "3  14950            0.1495\n",
      "4  13750            0.1375\n"
     ]
    }
   ],
   "source": [
    "# Decimal normalization by dividing by max power of 10 in Price\n",
    "max_price = df['Price'].max()\n",
    "divisor = 10 ** len(str(int(max_price)))\n",
    "df['Price_Normalized'] = df['Price'] / divisor\n",
    "print(\"\\nPrice with Decimal Normalization:\\n\", df[['Price', 'Price_Normalized']].head())"
   ]
  },
  {
   "cell_type": "code",
   "execution_count": null,
   "id": "336e6847-383b-499b-92be-45cb39f5116d",
   "metadata": {},
   "outputs": [],
   "source": []
  },
  {
   "cell_type": "code",
   "execution_count": null,
   "id": "4e49676b-ab1e-42f0-adc4-b57fd5161daf",
   "metadata": {},
   "outputs": [],
   "source": []
  },
  {
   "cell_type": "code",
   "execution_count": null,
   "id": "7047aa0f-1943-4405-b99d-7fd5da4f2317",
   "metadata": {},
   "outputs": [],
   "source": []
  },
  {
   "cell_type": "code",
   "execution_count": null,
   "id": "743c57f2-e742-4b15-abcb-5973a910e6ab",
   "metadata": {},
   "outputs": [],
   "source": []
  },
  {
   "cell_type": "code",
   "execution_count": null,
   "id": "a0cf3a46-dc2e-4ba4-be95-b1b8d7a2807a",
   "metadata": {},
   "outputs": [],
   "source": []
  },
  {
   "cell_type": "code",
   "execution_count": null,
   "id": "2361c6ef-bacb-4f15-bcd3-390feadfb34d",
   "metadata": {},
   "outputs": [],
   "source": []
  },
  {
   "cell_type": "code",
   "execution_count": null,
   "id": "f3780dfd-df06-4622-a96e-19882f3f0e2b",
   "metadata": {},
   "outputs": [],
   "source": []
  }
 ],
 "metadata": {
  "kernelspec": {
   "display_name": "Python 3 (ipykernel)",
   "language": "python",
   "name": "python3"
  },
  "language_info": {
   "codemirror_mode": {
    "name": "ipython",
    "version": 3
   },
   "file_extension": ".py",
   "mimetype": "text/x-python",
   "name": "python",
   "nbconvert_exporter": "python",
   "pygments_lexer": "ipython3",
   "version": "3.12.4"
  }
 },
 "nbformat": 4,
 "nbformat_minor": 5
}
