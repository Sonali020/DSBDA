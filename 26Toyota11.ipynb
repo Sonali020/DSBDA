{
 "cells": [
  {
   "cell_type": "markdown",
   "id": "712d55cb-217c-4e8b-a00b-6d83c06e7103",
   "metadata": {},
   "source": [
    "26.\tPerform the following operations using Pyth on on the given data sets (Toyota.csv)\n",
    "a.\tSort observations on Price values order\n",
    "b.\tCreate Subset by Selecting columns, selecting rows and columns, \n",
    "c.\tCreate subset of cars data having Price greater than 15000 and Age less than 8\n",
    "d.\tCreate subset of cars data consuming Petrol\n",
    "e.\tApply decimal normalization on Price column "
   ]
  },
  {
   "cell_type": "code",
   "execution_count": 3,
   "id": "0b66c6f4-c156-455e-abed-1038aeed9f9d",
   "metadata": {},
   "outputs": [],
   "source": [
    "import pandas as pd"
   ]
  },
  {
   "cell_type": "code",
   "execution_count": 5,
   "id": "e2f318dc-072b-4739-992a-05e1fcd4c0e2",
   "metadata": {},
   "outputs": [],
   "source": [
    "df = pd.read_csv(\"Toyota.csv\")"
   ]
  },
  {
   "cell_type": "code",
   "execution_count": 7,
   "id": "f9b37040-961e-41f1-87a8-44b24503caec",
   "metadata": {},
   "outputs": [],
   "source": [
    "df['Price'] = pd.to_numeric(df['Price'], errors='coerce')\n",
    "df['Age'] = pd.to_numeric(df['Age'], errors='coerce')"
   ]
  },
  {
   "cell_type": "markdown",
   "id": "8d4aab61-df7b-4f42-a43f-269b17e312cf",
   "metadata": {},
   "source": [
    "# a. Sort observations on Price values order (ascending)"
   ]
  },
  {
   "cell_type": "code",
   "execution_count": 10,
   "id": "1a079550-54c4-4e0f-a1f7-e97b7b61c52d",
   "metadata": {},
   "outputs": [
    {
     "name": "stdout",
     "output_type": "stream",
     "text": [
      "\n",
      "Sorted by Price:\n",
      "       Price\n",
      "191    4350\n",
      "1048   4400\n",
      "393    4450\n",
      "192    4750\n",
      "402    5150\n"
     ]
    }
   ],
   "source": [
    "sorted_df = df.sort_values(by='Price')\n",
    "print(\"\\nSorted by Price:\\n\", sorted_df[['Price']].head())"
   ]
  },
  {
   "cell_type": "markdown",
   "id": "9643413d-24c3-4065-b67a-999405240bcc",
   "metadata": {},
   "source": [
    "# b. Create Subset by selecting columns and rows"
   ]
  },
  {
   "cell_type": "code",
   "execution_count": 13,
   "id": "b4f30e83-9d19-4c36-b9dc-21e99d1113db",
   "metadata": {},
   "outputs": [
    {
     "name": "stdout",
     "output_type": "stream",
     "text": [
      "\n",
      "Subset of rows and columns:\n",
      "    Price   Age FuelType\n",
      "0  13500  23.0   Diesel\n",
      "1  13750  23.0   Diesel\n",
      "2  13950  24.0   Diesel\n",
      "3  14950  26.0   Diesel\n",
      "4  13750  30.0   Diesel\n",
      "5  12950  32.0   Diesel\n",
      "6  16900  27.0   Diesel\n",
      "7  18600  30.0      NaN\n",
      "8  21500  27.0   Petrol\n",
      "9  12950  23.0   Diesel\n"
     ]
    }
   ],
   "source": [
    "subset_rows_cols = df.loc[0:9, ['Price', 'Age', 'FuelType']]\n",
    "print(\"\\nSubset of rows and columns:\\n\", subset_rows_cols)"
   ]
  },
  {
   "cell_type": "markdown",
   "id": "dce8c749-7f26-49d3-8253-ee53c422df00",
   "metadata": {},
   "source": [
    "# c. Subset: Price > 15000 and Age < 8"
   ]
  },
  {
   "cell_type": "code",
   "execution_count": 16,
   "id": "15f86715-8b62-4e94-8368-30af1fdbcd02",
   "metadata": {},
   "outputs": [
    {
     "name": "stdout",
     "output_type": "stream",
     "text": [
      "\n",
      "Cars with Price > 15000 and Age < 8:\n",
      "      Price  Age\n",
      "110  31000  4.0\n",
      "111  31275  4.0\n",
      "114  22950  7.0\n",
      "177  19950  7.0\n",
      "179  22500  6.0\n"
     ]
    }
   ],
   "source": [
    "subset_price_age = df[(df['Price'] > 15000) & (df['Age'] < 8)]\n",
    "print(\"\\nCars with Price > 15000 and Age < 8:\\n\", subset_price_age[['Price', 'Age']].head())"
   ]
  },
  {
   "cell_type": "markdown",
   "id": "c22bcec5-0c07-49c4-bb24-79b4737435c3",
   "metadata": {},
   "source": [
    "# d. Subset of Petrol cars"
   ]
  },
  {
   "cell_type": "code",
   "execution_count": 19,
   "id": "fdd795da-d302-46e2-827c-89da5a202c7f",
   "metadata": {},
   "outputs": [
    {
     "name": "stdout",
     "output_type": "stream",
     "text": [
      "\n",
      "Subset of Petrol cars:\n",
      "     Price FuelType\n",
      "8   21500   Petrol\n",
      "10  20950   Petrol\n",
      "11  19950   Petrol\n",
      "12  19600   Petrol\n",
      "13  21500   Petrol\n"
     ]
    }
   ],
   "source": [
    "subset_petrol = df[df['FuelType'].str.lower() == 'petrol']\n",
    "print(\"\\nSubset of Petrol cars:\\n\", subset_petrol[['Price', 'FuelType']].head())"
   ]
  },
  {
   "cell_type": "markdown",
   "id": "782d640b-7071-4a9b-b4e3-1b7e6941843a",
   "metadata": {},
   "source": [
    "# e. Apply Decimal Normalization on Price column"
   ]
  },
  {
   "cell_type": "code",
   "execution_count": 22,
   "id": "d4e022f4-c877-4ef3-a59f-519be922d4dc",
   "metadata": {},
   "outputs": [
    {
     "name": "stdout",
     "output_type": "stream",
     "text": [
      "\n",
      "Decimal Normalized Price:\n",
      "    Price  Price_Normalized\n",
      "0  13500            0.1350\n",
      "1  13750            0.1375\n",
      "2  13950            0.1395\n",
      "3  14950            0.1495\n",
      "4  13750            0.1375\n"
     ]
    }
   ],
   "source": [
    "max_price = df['Price'].max()\n",
    "scaling_factor = 10 ** len(str(int(max_price)))  # get 10^N\n",
    "df['Price_Normalized'] = df['Price'] / scaling_factor\n",
    "print(\"\\nDecimal Normalized Price:\\n\", df[['Price', 'Price_Normalized']].head())"
   ]
  },
  {
   "cell_type": "code",
   "execution_count": null,
   "id": "1afb8ef3-346a-442d-a631-c7ff88fdc1ff",
   "metadata": {},
   "outputs": [],
   "source": []
  }
 ],
 "metadata": {
  "kernelspec": {
   "display_name": "Python 3 (ipykernel)",
   "language": "python",
   "name": "python3"
  },
  "language_info": {
   "codemirror_mode": {
    "name": "ipython",
    "version": 3
   },
   "file_extension": ".py",
   "mimetype": "text/x-python",
   "name": "python",
   "nbconvert_exporter": "python",
   "pygments_lexer": "ipython3",
   "version": "3.12.4"
  }
 },
 "nbformat": 4,
 "nbformat_minor": 5
}
