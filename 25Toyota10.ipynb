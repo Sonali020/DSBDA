{
 "cells": [
  {
   "cell_type": "markdown",
   "id": "9881908b-8aad-4339-bca1-e81d9b9fb4c9",
   "metadata": {},
   "source": [
    "25.\tPerform following operations on the given data set (Toyota.csv)\n",
    "a.\tCreate Subset selecting columns 'Price', 'Age', 'FuelType', 'Automatic'\n",
    "b.\tCreate subset having records of all Petrol vehicles \n",
    "c.\tCreate subset of cars’ data having Price greater than 15000 and Age less than 8 years\n",
    "d.\tMerge records the above two data subsets"
   ]
  },
  {
   "cell_type": "code",
   "execution_count": 1,
   "id": "015d39a1-d916-46bf-a528-321c430a5242",
   "metadata": {},
   "outputs": [],
   "source": [
    "import pandas as pd"
   ]
  },
  {
   "cell_type": "code",
   "execution_count": 3,
   "id": "1d177420-395d-4810-b05c-cb002b8d1a11",
   "metadata": {},
   "outputs": [],
   "source": [
    "df = pd.read_csv(\"Toyota.csv\")"
   ]
  },
  {
   "cell_type": "code",
   "execution_count": 5,
   "id": "57cb5bac-3a5b-4d6c-b25e-08eaf2364e4d",
   "metadata": {},
   "outputs": [
    {
     "data": {
      "text/html": [
       "<div>\n",
       "<style scoped>\n",
       "    .dataframe tbody tr th:only-of-type {\n",
       "        vertical-align: middle;\n",
       "    }\n",
       "\n",
       "    .dataframe tbody tr th {\n",
       "        vertical-align: top;\n",
       "    }\n",
       "\n",
       "    .dataframe thead th {\n",
       "        text-align: right;\n",
       "    }\n",
       "</style>\n",
       "<table border=\"1\" class=\"dataframe\">\n",
       "  <thead>\n",
       "    <tr style=\"text-align: right;\">\n",
       "      <th></th>\n",
       "      <th>Unnamed: 0</th>\n",
       "      <th>Price</th>\n",
       "      <th>Age</th>\n",
       "      <th>KM</th>\n",
       "      <th>FuelType</th>\n",
       "      <th>HP</th>\n",
       "      <th>MetColor</th>\n",
       "      <th>Automatic</th>\n",
       "      <th>CC</th>\n",
       "      <th>Doors</th>\n",
       "      <th>Weight</th>\n",
       "    </tr>\n",
       "  </thead>\n",
       "  <tbody>\n",
       "    <tr>\n",
       "      <th>0</th>\n",
       "      <td>0</td>\n",
       "      <td>13500</td>\n",
       "      <td>23.0</td>\n",
       "      <td>46986</td>\n",
       "      <td>Diesel</td>\n",
       "      <td>90</td>\n",
       "      <td>1.0</td>\n",
       "      <td>0</td>\n",
       "      <td>2000</td>\n",
       "      <td>three</td>\n",
       "      <td>1165</td>\n",
       "    </tr>\n",
       "    <tr>\n",
       "      <th>1</th>\n",
       "      <td>1</td>\n",
       "      <td>13750</td>\n",
       "      <td>23.0</td>\n",
       "      <td>72937</td>\n",
       "      <td>Diesel</td>\n",
       "      <td>90</td>\n",
       "      <td>1.0</td>\n",
       "      <td>0</td>\n",
       "      <td>2000</td>\n",
       "      <td>3</td>\n",
       "      <td>1165</td>\n",
       "    </tr>\n",
       "    <tr>\n",
       "      <th>2</th>\n",
       "      <td>2</td>\n",
       "      <td>13950</td>\n",
       "      <td>24.0</td>\n",
       "      <td>41711</td>\n",
       "      <td>Diesel</td>\n",
       "      <td>90</td>\n",
       "      <td>NaN</td>\n",
       "      <td>0</td>\n",
       "      <td>2000</td>\n",
       "      <td>3</td>\n",
       "      <td>1165</td>\n",
       "    </tr>\n",
       "    <tr>\n",
       "      <th>3</th>\n",
       "      <td>3</td>\n",
       "      <td>14950</td>\n",
       "      <td>26.0</td>\n",
       "      <td>48000</td>\n",
       "      <td>Diesel</td>\n",
       "      <td>90</td>\n",
       "      <td>0.0</td>\n",
       "      <td>0</td>\n",
       "      <td>2000</td>\n",
       "      <td>3</td>\n",
       "      <td>1165</td>\n",
       "    </tr>\n",
       "    <tr>\n",
       "      <th>4</th>\n",
       "      <td>4</td>\n",
       "      <td>13750</td>\n",
       "      <td>30.0</td>\n",
       "      <td>38500</td>\n",
       "      <td>Diesel</td>\n",
       "      <td>90</td>\n",
       "      <td>0.0</td>\n",
       "      <td>0</td>\n",
       "      <td>2000</td>\n",
       "      <td>3</td>\n",
       "      <td>1170</td>\n",
       "    </tr>\n",
       "  </tbody>\n",
       "</table>\n",
       "</div>"
      ],
      "text/plain": [
       "   Unnamed: 0  Price   Age     KM FuelType  HP  MetColor  Automatic    CC  \\\n",
       "0           0  13500  23.0  46986   Diesel  90       1.0          0  2000   \n",
       "1           1  13750  23.0  72937   Diesel  90       1.0          0  2000   \n",
       "2           2  13950  24.0  41711   Diesel  90       NaN          0  2000   \n",
       "3           3  14950  26.0  48000   Diesel  90       0.0          0  2000   \n",
       "4           4  13750  30.0  38500   Diesel  90       0.0          0  2000   \n",
       "\n",
       "   Doors  Weight  \n",
       "0  three    1165  \n",
       "1      3    1165  \n",
       "2      3    1165  \n",
       "3      3    1165  \n",
       "4      3    1170  "
      ]
     },
     "execution_count": 5,
     "metadata": {},
     "output_type": "execute_result"
    }
   ],
   "source": [
    "df.head()"
   ]
  },
  {
   "cell_type": "code",
   "execution_count": 7,
   "id": "e309861f-8eff-4692-b0de-8ecce49aa6e7",
   "metadata": {},
   "outputs": [],
   "source": [
    "df['Price'] = pd.to_numeric(df['Price'], errors='coerce')\n",
    "df['Age'] = pd.to_numeric(df['Age'], errors='coerce')"
   ]
  },
  {
   "cell_type": "markdown",
   "id": "4d0be2aa-4df0-45ea-82e1-3b169c13d609",
   "metadata": {},
   "source": [
    "# a. Create Subset selecting columns 'Price', 'Age', 'FuelType', 'Automatic'"
   ]
  },
  {
   "cell_type": "code",
   "execution_count": 10,
   "id": "452723b1-ea30-47b7-8ae5-c71e61e4614b",
   "metadata": {},
   "outputs": [
    {
     "name": "stdout",
     "output_type": "stream",
     "text": [
      "\n",
      "Subset A:\n",
      "    Price   Age FuelType  Automatic\n",
      "0  13500  23.0   Diesel          0\n",
      "1  13750  23.0   Diesel          0\n",
      "2  13950  24.0   Diesel          0\n",
      "3  14950  26.0   Diesel          0\n",
      "4  13750  30.0   Diesel          0\n"
     ]
    }
   ],
   "source": [
    "subset_a = df[['Price', 'Age', 'FuelType', 'Automatic']]\n",
    "print(\"\\nSubset A:\\n\", subset_a.head())"
   ]
  },
  {
   "cell_type": "markdown",
   "id": "ad64708f-8040-4dff-b294-08c746c12908",
   "metadata": {},
   "source": [
    "# b. Create subset having records of all Petrol vehicles "
   ]
  },
  {
   "cell_type": "code",
   "execution_count": 13,
   "id": "f109f0a9-df39-437d-ab6d-4822d6c0e99d",
   "metadata": {},
   "outputs": [
    {
     "name": "stdout",
     "output_type": "stream",
     "text": [
      "\n",
      "Subset of Petrol vehicles:\n",
      "     Price FuelType\n",
      "8   21500   Petrol\n",
      "10  20950   Petrol\n",
      "11  19950   Petrol\n",
      "12  19600   Petrol\n",
      "13  21500   Petrol\n"
     ]
    }
   ],
   "source": [
    "subset_petrol = df[df['FuelType'].str.lower() == 'petrol']\n",
    "print(\"\\nSubset of Petrol vehicles:\\n\", subset_petrol[['Price', 'FuelType']].head())"
   ]
  },
  {
   "cell_type": "markdown",
   "id": "36b52ba1-42f8-46f3-9e3a-cc9f0d26759c",
   "metadata": {},
   "source": [
    "# c. Subset of cars with Price > 15000 and Age < 8"
   ]
  },
  {
   "cell_type": "code",
   "execution_count": 16,
   "id": "ad548dd8-b919-458c-9033-4a4bfc379d59",
   "metadata": {},
   "outputs": [
    {
     "name": "stdout",
     "output_type": "stream",
     "text": [
      "\n",
      "Subset (Price > 15000 and Age < 8):\n",
      "      Price  Age\n",
      "110  31000  4.0\n",
      "111  31275  4.0\n",
      "114  22950  7.0\n",
      "177  19950  7.0\n",
      "179  22500  6.0\n"
     ]
    }
   ],
   "source": [
    "subset_price_age = df[(df['Price'] > 15000) & (df['Age'] < 8)]\n",
    "print(\"\\nSubset (Price > 15000 and Age < 8):\\n\", subset_price_age[['Price', 'Age']].head())"
   ]
  },
  {
   "cell_type": "markdown",
   "id": "825d1ac9-b0eb-43b5-a5f6-88f556f45af1",
   "metadata": {},
   "source": [
    "# d. Merge the two subsets created above"
   ]
  },
  {
   "cell_type": "code",
   "execution_count": 19,
   "id": "42b5f5d3-c4b4-4e8f-aeac-3db45382de97",
   "metadata": {},
   "outputs": [
    {
     "name": "stdout",
     "output_type": "stream",
     "text": [
      "\n",
      "Merged Subset of Petrol cars with Price > 15000 and Age < 8:\n",
      "    Unnamed: 0  Price  Age    KM FuelType   HP  MetColor  Automatic    CC  \\\n",
      "0         177  19950  7.0  6250   Petrol  110       1.0          0  1600   \n",
      "1         179  22500  6.0  3000   Petrol  110       0.0          0  1600   \n",
      "2         180  18500  7.0  2000   Petrol  110       0.0          0  1600   \n",
      "3         181  18700  7.0   450   Petrol   97       1.0          0  1400   \n",
      "4         182  21125  2.0   225   Petrol   97       1.0          0  1400   \n",
      "\n",
      "  Doors  Weight  \n",
      "0     5    1115  \n",
      "1     5    1130  \n",
      "2     5    1075  \n",
      "3     5    1110  \n",
      "4     5    1110  \n"
     ]
    }
   ],
   "source": [
    "merged_subset = pd.merge(subset_petrol, subset_price_age, how='inner')\n",
    "print(\"\\nMerged Subset of Petrol cars with Price > 15000 and Age < 8:\\n\", merged_subset.head())"
   ]
  },
  {
   "cell_type": "code",
   "execution_count": null,
   "id": "0ce0910e-e249-4ae2-b6c0-9ffddf225ec3",
   "metadata": {},
   "outputs": [],
   "source": []
  }
 ],
 "metadata": {
  "kernelspec": {
   "display_name": "Python 3 (ipykernel)",
   "language": "python",
   "name": "python3"
  },
  "language_info": {
   "codemirror_mode": {
    "name": "ipython",
    "version": 3
   },
   "file_extension": ".py",
   "mimetype": "text/x-python",
   "name": "python",
   "nbconvert_exporter": "python",
   "pygments_lexer": "ipython3",
   "version": "3.12.4"
  }
 },
 "nbformat": 4,
 "nbformat_minor": 5
}
