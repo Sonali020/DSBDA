{
 "cells": [
  {
   "cell_type": "markdown",
   "id": "6ef4528b-124f-4bab-80ad-81f6c09cc4e5",
   "metadata": {},
   "source": [
    "16.\tPerform the following operations using Python on the airquality dataset\n",
    "a.\tRead data set and display summary  \n",
    "b.\tCreate data subsets having observations in range 11 to 49 and another subset having temperature value less than 60 \n",
    "c.\tMerge observations of any two subsets\n",
    "d.\tApply Sort Data on Temp values"
   ]
  },
  {
   "cell_type": "code",
   "execution_count": 1,
   "id": "8bccb349-6112-492b-999f-36f639c69833",
   "metadata": {},
   "outputs": [],
   "source": [
    "import pandas as pd"
   ]
  },
  {
   "cell_type": "code",
   "execution_count": 3,
   "id": "efcb091d-df5f-4884-bf8b-d20070747333",
   "metadata": {},
   "outputs": [],
   "source": [
    "df=pd.read_csv('airquality.csv')"
   ]
  },
  {
   "cell_type": "code",
   "execution_count": 5,
   "id": "ef8fdd1a-3aa4-433f-b087-133f0113cca8",
   "metadata": {},
   "outputs": [
    {
     "data": {
      "text/html": [
       "<div>\n",
       "<style scoped>\n",
       "    .dataframe tbody tr th:only-of-type {\n",
       "        vertical-align: middle;\n",
       "    }\n",
       "\n",
       "    .dataframe tbody tr th {\n",
       "        vertical-align: top;\n",
       "    }\n",
       "\n",
       "    .dataframe thead th {\n",
       "        text-align: right;\n",
       "    }\n",
       "</style>\n",
       "<table border=\"1\" class=\"dataframe\">\n",
       "  <thead>\n",
       "    <tr style=\"text-align: right;\">\n",
       "      <th></th>\n",
       "      <th>Ozone</th>\n",
       "      <th>Solar.R</th>\n",
       "      <th>Wind</th>\n",
       "      <th>Temp</th>\n",
       "      <th>Month</th>\n",
       "      <th>Day</th>\n",
       "    </tr>\n",
       "  </thead>\n",
       "  <tbody>\n",
       "    <tr>\n",
       "      <th>0</th>\n",
       "      <td>41.0</td>\n",
       "      <td>190.0</td>\n",
       "      <td>7.4</td>\n",
       "      <td>67</td>\n",
       "      <td>5</td>\n",
       "      <td>1</td>\n",
       "    </tr>\n",
       "    <tr>\n",
       "      <th>1</th>\n",
       "      <td>36.0</td>\n",
       "      <td>118.0</td>\n",
       "      <td>8.0</td>\n",
       "      <td>72</td>\n",
       "      <td>5</td>\n",
       "      <td>2</td>\n",
       "    </tr>\n",
       "    <tr>\n",
       "      <th>2</th>\n",
       "      <td>12.0</td>\n",
       "      <td>149.0</td>\n",
       "      <td>12.6</td>\n",
       "      <td>74</td>\n",
       "      <td>5</td>\n",
       "      <td>3</td>\n",
       "    </tr>\n",
       "    <tr>\n",
       "      <th>3</th>\n",
       "      <td>18.0</td>\n",
       "      <td>313.0</td>\n",
       "      <td>11.5</td>\n",
       "      <td>62</td>\n",
       "      <td>5</td>\n",
       "      <td>4</td>\n",
       "    </tr>\n",
       "    <tr>\n",
       "      <th>4</th>\n",
       "      <td>NaN</td>\n",
       "      <td>NaN</td>\n",
       "      <td>14.3</td>\n",
       "      <td>56</td>\n",
       "      <td>5</td>\n",
       "      <td>5</td>\n",
       "    </tr>\n",
       "  </tbody>\n",
       "</table>\n",
       "</div>"
      ],
      "text/plain": [
       "   Ozone  Solar.R  Wind  Temp  Month  Day\n",
       "0   41.0    190.0   7.4    67      5    1\n",
       "1   36.0    118.0   8.0    72      5    2\n",
       "2   12.0    149.0  12.6    74      5    3\n",
       "3   18.0    313.0  11.5    62      5    4\n",
       "4    NaN      NaN  14.3    56      5    5"
      ]
     },
     "execution_count": 5,
     "metadata": {},
     "output_type": "execute_result"
    }
   ],
   "source": [
    "df.head()"
   ]
  },
  {
   "cell_type": "markdown",
   "id": "4fd91fd0-f60e-4c49-86db-c42d92f8ba79",
   "metadata": {},
   "source": [
    "#  a. Read data set and display summary"
   ]
  },
  {
   "cell_type": "code",
   "execution_count": 8,
   "id": "35c02789-2051-425f-a067-6672717b1fa7",
   "metadata": {},
   "outputs": [
    {
     "name": "stdout",
     "output_type": "stream",
     "text": [
      "            Ozone     Solar.R        Wind        Temp       Month         Day\n",
      "count  116.000000  146.000000  153.000000  153.000000  153.000000  153.000000\n",
      "mean    42.129310  185.931507    9.957516   77.882353    6.993464   15.803922\n",
      "std     32.987885   90.058422    3.523001    9.465270    1.416522    8.864520\n",
      "min      1.000000    7.000000    1.700000   56.000000    5.000000    1.000000\n",
      "25%     18.000000  115.750000    7.400000   72.000000    6.000000    8.000000\n",
      "50%     31.500000  205.000000    9.700000   79.000000    7.000000   16.000000\n",
      "75%     63.250000  258.750000   11.500000   85.000000    8.000000   23.000000\n",
      "max    168.000000  334.000000   20.700000   97.000000    9.000000   31.000000\n"
     ]
    }
   ],
   "source": [
    "# Summary statistics\n",
    "print(df.describe(include='all'))"
   ]
  },
  {
   "cell_type": "code",
   "execution_count": 10,
   "id": "555642c8-c911-49fb-9766-f75761187904",
   "metadata": {},
   "outputs": [
    {
     "name": "stdout",
     "output_type": "stream",
     "text": [
      "<class 'pandas.core.frame.DataFrame'>\n",
      "RangeIndex: 153 entries, 0 to 152\n",
      "Data columns (total 6 columns):\n",
      " #   Column   Non-Null Count  Dtype  \n",
      "---  ------   --------------  -----  \n",
      " 0   Ozone    116 non-null    float64\n",
      " 1   Solar.R  146 non-null    float64\n",
      " 2   Wind     153 non-null    float64\n",
      " 3   Temp     153 non-null    int64  \n",
      " 4   Month    153 non-null    int64  \n",
      " 5   Day      153 non-null    int64  \n",
      "dtypes: float64(3), int64(3)\n",
      "memory usage: 7.3 KB\n",
      "None\n"
     ]
    }
   ],
   "source": [
    "# Check info\n",
    "print(df.info())"
   ]
  },
  {
   "cell_type": "markdown",
   "id": "d09ff680-37c0-45f6-817f-a926ac2a0385",
   "metadata": {},
   "source": [
    "#  b. Create data subsets"
   ]
  },
  {
   "cell_type": "code",
   "execution_count": 15,
   "id": "ad51f3ae-60dc-4c57-88c0-803cc658280d",
   "metadata": {},
   "outputs": [],
   "source": [
    "subset_range = df.iloc[11:50]  # Adjusted based on actual data length\n",
    "subset_temp = df[df['Temp'] < 60]"
   ]
  },
  {
   "cell_type": "markdown",
   "id": "36807894-e4d3-4395-b442-5069a4f4b278",
   "metadata": {},
   "source": [
    "# c. Merge observations of two subsets"
   ]
  },
  {
   "cell_type": "code",
   "execution_count": 20,
   "id": "b5095840-291b-4def-bb74-fe149d97d85d",
   "metadata": {},
   "outputs": [],
   "source": [
    "merged_df = pd.concat([subset_range, subset_temp], ignore_index=True)"
   ]
  },
  {
   "cell_type": "markdown",
   "id": "304c6013-4189-459d-98fa-ff4e431bd094",
   "metadata": {},
   "source": [
    "# d. Sort Data on Temp values"
   ]
  },
  {
   "cell_type": "code",
   "execution_count": 24,
   "id": "7d7d6bc3-f39d-45b6-bbac-5e1c45f2ef15",
   "metadata": {},
   "outputs": [],
   "source": [
    "sorted_df = df.sort_values(by='Temp')"
   ]
  },
  {
   "cell_type": "code",
   "execution_count": 28,
   "id": "c741ebe9-571d-4f85-a512-63ea2d650d76",
   "metadata": {},
   "outputs": [
    {
     "name": "stdout",
     "output_type": "stream",
     "text": [
      "Subset (Index 11 to 49):\n",
      "     Ozone  Solar.R  Wind  Temp  Month  Day\n",
      "11   16.0    256.0   9.7    69      5   12\n",
      "12   11.0    290.0   9.2    66      5   13\n",
      "13   14.0    274.0  10.9    68      5   14\n",
      "14   18.0     65.0  13.2    58      5   15\n",
      "15   14.0    334.0  11.5    64      5   16\n",
      "16   34.0    307.0  12.0    66      5   17\n",
      "17    6.0     78.0  18.4    57      5   18\n",
      "18   30.0    322.0  11.5    68      5   19\n",
      "19   11.0     44.0   9.7    62      5   20\n",
      "20    1.0      8.0   9.7    59      5   21\n",
      "21   11.0    320.0  16.6    73      5   22\n",
      "22    4.0     25.0   9.7    61      5   23\n",
      "23   32.0     92.0  12.0    61      5   24\n",
      "24    NaN     66.0  16.6    57      5   25\n",
      "25    NaN    266.0  14.9    58      5   26\n",
      "26    NaN      NaN   8.0    57      5   27\n",
      "27   23.0     13.0  12.0    67      5   28\n",
      "28   45.0    252.0  14.9    81      5   29\n",
      "29  115.0    223.0   5.7    79      5   30\n",
      "30   37.0    279.0   7.4    76      5   31\n",
      "31    NaN    286.0   8.6    78      6    1\n",
      "32    NaN    287.0   9.7    74      6    2\n",
      "33    NaN    242.0  16.1    67      6    3\n",
      "34    NaN    186.0   9.2    84      6    4\n",
      "35    NaN    220.0   8.6    85      6    5\n",
      "36    NaN    264.0  14.3    79      6    6\n",
      "37   29.0    127.0   9.7    82      6    7\n",
      "38    NaN    273.0   6.9    87      6    8\n",
      "39   71.0    291.0  13.8    90      6    9\n",
      "40   39.0    323.0  11.5    87      6   10\n",
      "41    NaN    259.0  10.9    93      6   11\n",
      "42    NaN    250.0   9.2    92      6   12\n",
      "43   23.0    148.0   8.0    82      6   13\n",
      "44    NaN    332.0  13.8    80      6   14\n",
      "45    NaN    322.0  11.5    79      6   15\n",
      "46   21.0    191.0  14.9    77      6   16\n",
      "47   37.0    284.0  20.7    72      6   17\n",
      "48   20.0     37.0   9.2    65      6   18\n",
      "49   12.0    120.0  11.5    73      6   19\n"
     ]
    }
   ],
   "source": [
    "print(\"Subset (Index 11 to 49):\\n\", subset_range)"
   ]
  },
  {
   "cell_type": "code",
   "execution_count": 30,
   "id": "3ff61e8d-6585-4761-830b-8c144a83e64f",
   "metadata": {},
   "outputs": [
    {
     "name": "stdout",
     "output_type": "stream",
     "text": [
      "\n",
      "Subset (Temp < 60):\n",
      "     Ozone  Solar.R  Wind  Temp  Month  Day\n",
      "4     NaN      NaN  14.3    56      5    5\n",
      "7    19.0     99.0  13.8    59      5    8\n",
      "14   18.0     65.0  13.2    58      5   15\n",
      "17    6.0     78.0  18.4    57      5   18\n",
      "20    1.0      8.0   9.7    59      5   21\n",
      "24    NaN     66.0  16.6    57      5   25\n",
      "25    NaN    266.0  14.9    58      5   26\n",
      "26    NaN      NaN   8.0    57      5   27\n"
     ]
    }
   ],
   "source": [
    "print(\"\\nSubset (Temp < 60):\\n\", subset_temp)"
   ]
  },
  {
   "cell_type": "code",
   "execution_count": 32,
   "id": "81c9c45b-e96e-4b07-9f9d-53cf99b26ced",
   "metadata": {},
   "outputs": [
    {
     "name": "stdout",
     "output_type": "stream",
     "text": [
      "\n",
      "Merged Subset:\n",
      "     Ozone  Solar.R  Wind  Temp  Month  Day\n",
      "0    16.0    256.0   9.7    69      5   12\n",
      "1    11.0    290.0   9.2    66      5   13\n",
      "2    14.0    274.0  10.9    68      5   14\n",
      "3    18.0     65.0  13.2    58      5   15\n",
      "4    14.0    334.0  11.5    64      5   16\n",
      "5    34.0    307.0  12.0    66      5   17\n",
      "6     6.0     78.0  18.4    57      5   18\n",
      "7    30.0    322.0  11.5    68      5   19\n",
      "8    11.0     44.0   9.7    62      5   20\n",
      "9     1.0      8.0   9.7    59      5   21\n",
      "10   11.0    320.0  16.6    73      5   22\n",
      "11    4.0     25.0   9.7    61      5   23\n",
      "12   32.0     92.0  12.0    61      5   24\n",
      "13    NaN     66.0  16.6    57      5   25\n",
      "14    NaN    266.0  14.9    58      5   26\n",
      "15    NaN      NaN   8.0    57      5   27\n",
      "16   23.0     13.0  12.0    67      5   28\n",
      "17   45.0    252.0  14.9    81      5   29\n",
      "18  115.0    223.0   5.7    79      5   30\n",
      "19   37.0    279.0   7.4    76      5   31\n",
      "20    NaN    286.0   8.6    78      6    1\n",
      "21    NaN    287.0   9.7    74      6    2\n",
      "22    NaN    242.0  16.1    67      6    3\n",
      "23    NaN    186.0   9.2    84      6    4\n",
      "24    NaN    220.0   8.6    85      6    5\n",
      "25    NaN    264.0  14.3    79      6    6\n",
      "26   29.0    127.0   9.7    82      6    7\n",
      "27    NaN    273.0   6.9    87      6    8\n",
      "28   71.0    291.0  13.8    90      6    9\n",
      "29   39.0    323.0  11.5    87      6   10\n",
      "30    NaN    259.0  10.9    93      6   11\n",
      "31    NaN    250.0   9.2    92      6   12\n",
      "32   23.0    148.0   8.0    82      6   13\n",
      "33    NaN    332.0  13.8    80      6   14\n",
      "34    NaN    322.0  11.5    79      6   15\n",
      "35   21.0    191.0  14.9    77      6   16\n",
      "36   37.0    284.0  20.7    72      6   17\n",
      "37   20.0     37.0   9.2    65      6   18\n",
      "38   12.0    120.0  11.5    73      6   19\n",
      "39    NaN      NaN  14.3    56      5    5\n",
      "40   19.0     99.0  13.8    59      5    8\n",
      "41   18.0     65.0  13.2    58      5   15\n",
      "42    6.0     78.0  18.4    57      5   18\n",
      "43    1.0      8.0   9.7    59      5   21\n",
      "44    NaN     66.0  16.6    57      5   25\n",
      "45    NaN    266.0  14.9    58      5   26\n",
      "46    NaN      NaN   8.0    57      5   27\n"
     ]
    }
   ],
   "source": [
    "print(\"\\nMerged Subset:\\n\", merged_df)"
   ]
  },
  {
   "cell_type": "code",
   "execution_count": 34,
   "id": "11bef789-b05d-4c13-81be-b3910a5b7442",
   "metadata": {},
   "outputs": [
    {
     "name": "stdout",
     "output_type": "stream",
     "text": [
      "\n",
      "Sorted by Temperature:\n",
      "      Ozone  Solar.R  Wind  Temp  Month  Day\n",
      "4      NaN      NaN  14.3    56      5    5\n",
      "17     6.0     78.0  18.4    57      5   18\n",
      "24     NaN     66.0  16.6    57      5   25\n",
      "26     NaN      NaN   8.0    57      5   27\n",
      "14    18.0     65.0  13.2    58      5   15\n",
      "..     ...      ...   ...   ...    ...  ...\n",
      "41     NaN    259.0  10.9    93      6   11\n",
      "122   85.0    188.0   6.3    94      8   31\n",
      "120  118.0    225.0   2.3    94      8   29\n",
      "121   84.0    237.0   6.3    96      8   30\n",
      "119   76.0    203.0   9.7    97      8   28\n",
      "\n",
      "[153 rows x 6 columns]\n"
     ]
    }
   ],
   "source": [
    "print(\"\\nSorted by Temperature:\\n\", sorted_df)"
   ]
  }
 ],
 "metadata": {
  "kernelspec": {
   "display_name": "Python 3 (ipykernel)",
   "language": "python",
   "name": "python3"
  },
  "language_info": {
   "codemirror_mode": {
    "name": "ipython",
    "version": 3
   },
   "file_extension": ".py",
   "mimetype": "text/x-python",
   "name": "python",
   "nbconvert_exporter": "python",
   "pygments_lexer": "ipython3",
   "version": "3.12.4"
  }
 },
 "nbformat": 4,
 "nbformat_minor": 5
}
