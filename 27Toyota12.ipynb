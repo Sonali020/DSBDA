{
 "cells": [
  {
   "cell_type": "markdown",
   "id": "4c64243d-21dc-4d5f-b1c1-0c4fac2e2c1e",
   "metadata": {},
   "source": [
    "27.\tPerform the following operations using Python on the given data sets (Toyota.csv)\n",
    "a.\tRemove missing values\n",
    "b.\tdisplay datatypes and concise summary of all numeric variables\n",
    "c.\tRemove All duplicate records \n",
    "d.\tApply Z-score Normalization on Price Column"
   ]
  },
  {
   "cell_type": "code",
   "execution_count": 1,
   "id": "86241918-e24b-4ad1-b51f-e924e6549d1d",
   "metadata": {},
   "outputs": [],
   "source": [
    "import pandas as pd\n",
    "from scipy.stats import zscore"
   ]
  },
  {
   "cell_type": "code",
   "execution_count": 3,
   "id": "9d31a8c6-7937-4911-ac9d-7f128fb570a1",
   "metadata": {},
   "outputs": [],
   "source": [
    "df = pd.read_csv(\"Toyota.csv\")"
   ]
  },
  {
   "cell_type": "code",
   "execution_count": 5,
   "id": "d4d137a7-62d4-4a72-82d7-d190f993c302",
   "metadata": {},
   "outputs": [
    {
     "data": {
      "text/html": [
       "<div>\n",
       "<style scoped>\n",
       "    .dataframe tbody tr th:only-of-type {\n",
       "        vertical-align: middle;\n",
       "    }\n",
       "\n",
       "    .dataframe tbody tr th {\n",
       "        vertical-align: top;\n",
       "    }\n",
       "\n",
       "    .dataframe thead th {\n",
       "        text-align: right;\n",
       "    }\n",
       "</style>\n",
       "<table border=\"1\" class=\"dataframe\">\n",
       "  <thead>\n",
       "    <tr style=\"text-align: right;\">\n",
       "      <th></th>\n",
       "      <th>Unnamed: 0</th>\n",
       "      <th>Price</th>\n",
       "      <th>Age</th>\n",
       "      <th>KM</th>\n",
       "      <th>FuelType</th>\n",
       "      <th>HP</th>\n",
       "      <th>MetColor</th>\n",
       "      <th>Automatic</th>\n",
       "      <th>CC</th>\n",
       "      <th>Doors</th>\n",
       "      <th>Weight</th>\n",
       "    </tr>\n",
       "  </thead>\n",
       "  <tbody>\n",
       "    <tr>\n",
       "      <th>0</th>\n",
       "      <td>0</td>\n",
       "      <td>13500</td>\n",
       "      <td>23.0</td>\n",
       "      <td>46986</td>\n",
       "      <td>Diesel</td>\n",
       "      <td>90</td>\n",
       "      <td>1.0</td>\n",
       "      <td>0</td>\n",
       "      <td>2000</td>\n",
       "      <td>three</td>\n",
       "      <td>1165</td>\n",
       "    </tr>\n",
       "    <tr>\n",
       "      <th>1</th>\n",
       "      <td>1</td>\n",
       "      <td>13750</td>\n",
       "      <td>23.0</td>\n",
       "      <td>72937</td>\n",
       "      <td>Diesel</td>\n",
       "      <td>90</td>\n",
       "      <td>1.0</td>\n",
       "      <td>0</td>\n",
       "      <td>2000</td>\n",
       "      <td>3</td>\n",
       "      <td>1165</td>\n",
       "    </tr>\n",
       "    <tr>\n",
       "      <th>2</th>\n",
       "      <td>2</td>\n",
       "      <td>13950</td>\n",
       "      <td>24.0</td>\n",
       "      <td>41711</td>\n",
       "      <td>Diesel</td>\n",
       "      <td>90</td>\n",
       "      <td>NaN</td>\n",
       "      <td>0</td>\n",
       "      <td>2000</td>\n",
       "      <td>3</td>\n",
       "      <td>1165</td>\n",
       "    </tr>\n",
       "    <tr>\n",
       "      <th>3</th>\n",
       "      <td>3</td>\n",
       "      <td>14950</td>\n",
       "      <td>26.0</td>\n",
       "      <td>48000</td>\n",
       "      <td>Diesel</td>\n",
       "      <td>90</td>\n",
       "      <td>0.0</td>\n",
       "      <td>0</td>\n",
       "      <td>2000</td>\n",
       "      <td>3</td>\n",
       "      <td>1165</td>\n",
       "    </tr>\n",
       "    <tr>\n",
       "      <th>4</th>\n",
       "      <td>4</td>\n",
       "      <td>13750</td>\n",
       "      <td>30.0</td>\n",
       "      <td>38500</td>\n",
       "      <td>Diesel</td>\n",
       "      <td>90</td>\n",
       "      <td>0.0</td>\n",
       "      <td>0</td>\n",
       "      <td>2000</td>\n",
       "      <td>3</td>\n",
       "      <td>1170</td>\n",
       "    </tr>\n",
       "  </tbody>\n",
       "</table>\n",
       "</div>"
      ],
      "text/plain": [
       "   Unnamed: 0  Price   Age     KM FuelType  HP  MetColor  Automatic    CC  \\\n",
       "0           0  13500  23.0  46986   Diesel  90       1.0          0  2000   \n",
       "1           1  13750  23.0  72937   Diesel  90       1.0          0  2000   \n",
       "2           2  13950  24.0  41711   Diesel  90       NaN          0  2000   \n",
       "3           3  14950  26.0  48000   Diesel  90       0.0          0  2000   \n",
       "4           4  13750  30.0  38500   Diesel  90       0.0          0  2000   \n",
       "\n",
       "   Doors  Weight  \n",
       "0  three    1165  \n",
       "1      3    1165  \n",
       "2      3    1165  \n",
       "3      3    1165  \n",
       "4      3    1170  "
      ]
     },
     "execution_count": 5,
     "metadata": {},
     "output_type": "execute_result"
    }
   ],
   "source": [
    "df.head()"
   ]
  },
  {
   "cell_type": "markdown",
   "id": "ad1881e7-088a-4b6d-ba5a-31fe2a4be9a8",
   "metadata": {},
   "source": [
    "# a. Remove missing values"
   ]
  },
  {
   "cell_type": "code",
   "execution_count": 8,
   "id": "793b9210-4cd4-4d17-a5a2-217fd901df78",
   "metadata": {},
   "outputs": [
    {
     "name": "stdout",
     "output_type": "stream",
     "text": [
      "Missing values removed. New shape: (1111, 11)\n"
     ]
    }
   ],
   "source": [
    "df_cleaned = df.dropna()\n",
    "print(\"Missing values removed. New shape:\", df_cleaned.shape)"
   ]
  },
  {
   "cell_type": "markdown",
   "id": "74eaa81f-dfd5-47e4-824f-a7c33a02d6df",
   "metadata": {},
   "source": [
    "# b. Display datatypes and concise summary of numeric variables"
   ]
  },
  {
   "cell_type": "code",
   "execution_count": 11,
   "id": "7abab3ed-51f7-4444-8168-0d0797dcd973",
   "metadata": {},
   "outputs": [
    {
     "name": "stdout",
     "output_type": "stream",
     "text": [
      "\n",
      "Data Types:\n",
      " Unnamed: 0      int64\n",
      "Price           int64\n",
      "Age           float64\n",
      "KM             object\n",
      "FuelType       object\n",
      "HP             object\n",
      "MetColor      float64\n",
      "Automatic       int64\n",
      "CC              int64\n",
      "Doors          object\n",
      "Weight          int64\n",
      "dtype: object\n",
      "\n",
      "Summary of numeric columns:\n",
      "         Unnamed: 0         Price          Age     MetColor    Automatic  \\\n",
      "count  1111.000000   1111.000000  1111.000000  1111.000000  1111.000000   \n",
      "mean    707.868587  10774.997300    55.585959     0.675068     0.053105   \n",
      "std     414.023750   3699.695538    18.829188     0.468561     0.224344   \n",
      "min       0.000000   4350.000000     1.000000     0.000000     0.000000   \n",
      "25%     347.500000   8450.000000    43.000000     0.000000     0.000000   \n",
      "50%     703.000000   9900.000000    60.000000     1.000000     0.000000   \n",
      "75%    1069.500000  11950.000000    70.000000     1.000000     0.000000   \n",
      "max    1435.000000  31275.000000    80.000000     1.000000     1.000000   \n",
      "\n",
      "                CC       Weight  \n",
      "count  1111.000000  1111.000000  \n",
      "mean   1569.463546  1073.870387  \n",
      "std     185.935691    52.610513  \n",
      "min    1300.000000  1000.000000  \n",
      "25%    1400.000000  1045.000000  \n",
      "50%    1600.000000  1070.000000  \n",
      "75%    1600.000000  1090.000000  \n",
      "max    2000.000000  1615.000000  \n"
     ]
    }
   ],
   "source": [
    "print(\"\\nData Types:\\n\", df_cleaned.dtypes)\n",
    "print(\"\\nSummary of numeric columns:\\n\", df_cleaned.describe())"
   ]
  },
  {
   "cell_type": "markdown",
   "id": "b5cdb053-a52c-460d-a460-d74c8bc1ab9e",
   "metadata": {},
   "source": [
    "# c. Remove all duplicate records"
   ]
  },
  {
   "cell_type": "code",
   "execution_count": 14,
   "id": "14b54450-cbd0-471b-93be-8a27613daff1",
   "metadata": {},
   "outputs": [
    {
     "name": "stdout",
     "output_type": "stream",
     "text": [
      "\n",
      "After removing duplicates. New shape: (1111, 11)\n"
     ]
    }
   ],
   "source": [
    "df_cleaned = df_cleaned.drop_duplicates()\n",
    "print(\"\\nAfter removing duplicates. New shape:\", df_cleaned.shape)"
   ]
  },
  {
   "cell_type": "markdown",
   "id": "a7d1a767-c993-4e43-8281-6574f0b39275",
   "metadata": {},
   "source": [
    "# d. Apply Z-score Normalization on Price Column"
   ]
  },
  {
   "cell_type": "code",
   "execution_count": 27,
   "id": "06b21931-ccbf-401c-9170-4a6beb32b1b2",
   "metadata": {},
   "outputs": [
    {
     "name": "stdout",
     "output_type": "stream",
     "text": [
      "\n",
      "Z-score normalized Price:\n",
      "    Price  Price_Zscore\n",
      "0  13500      0.736880\n",
      "1  13750      0.804483\n",
      "3  14950      1.128980\n",
      "4  13750      0.804483\n",
      "5  12950      0.588152\n"
     ]
    }
   ],
   "source": [
    "df_cleaned['Price_Zscore'] = zscore(df_cleaned['Price'])\n",
    "print(\"\\nZ-score normalized Price:\\n\", df_cleaned[['Price', 'Price_Zscore']].head())"
   ]
  },
  {
   "cell_type": "markdown",
   "id": "a12b7571-9e15-41d8-a31e-90b7792c6595",
   "metadata": {},
   "source": [
    "# e. Shape and reshape using pivot_table"
   ]
  },
  {
   "cell_type": "code",
   "execution_count": 32,
   "id": "e20baf31-0215-4cf5-a456-e36a72678e82",
   "metadata": {},
   "outputs": [
    {
     "name": "stdout",
     "output_type": "stream",
     "text": [
      "\n",
      "Pivot Table (FuelType vs Automatic - Avg Price):\n",
      " Automatic             0        1\n",
      "FuelType                        \n",
      "CNG         8950.833333      NaN\n",
      "Diesel     10723.425000      NaN\n",
      "Petrol     10766.718478  11380.0\n"
     ]
    }
   ],
   "source": [
    "pivot = df_cleaned.pivot_table(values='Price', index='FuelType', columns='Automatic', aggfunc='mean')\n",
    "print(\"\\nPivot Table (FuelType vs Automatic - Avg Price):\\n\", pivot)"
   ]
  },
  {
   "cell_type": "code",
   "execution_count": null,
   "id": "7ccf054a-4f8e-432a-be52-84b98194faf3",
   "metadata": {},
   "outputs": [],
   "source": []
  }
 ],
 "metadata": {
  "kernelspec": {
   "display_name": "Python 3 (ipykernel)",
   "language": "python",
   "name": "python3"
  },
  "language_info": {
   "codemirror_mode": {
    "name": "ipython",
    "version": 3
   },
   "file_extension": ".py",
   "mimetype": "text/x-python",
   "name": "python",
   "nbconvert_exporter": "python",
   "pygments_lexer": "ipython3",
   "version": "3.12.4"
  }
 },
 "nbformat": 4,
 "nbformat_minor": 5
}
