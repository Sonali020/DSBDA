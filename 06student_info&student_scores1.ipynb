{
 "cells": [
  {
   "cell_type": "markdown",
   "id": "0e08dcb9-a68c-47c8-84b0-f00c8a6cd3d3",
   "metadata": {},
   "source": [
    "6.\tPerform the following operations in python on given dataset [student_info.csv and student_scores.csv]\n",
    "a.\tClean both datasets to handle missing values, incorrect formats, and inconsistent entries.\n",
    "b.\tRemove invalid scores (e.g., -1 in Science).\n",
    "c.\tConvert Grade to string format like \"Grade 10\" instead of just a number.\n",
    "d.\tPerform an inner join and analyze which students are present in both datasets.\n",
    "e.\tHandle any mismatches (e.g., StudentID = 106 is not in student_info.csv)."
   ]
  },
  {
   "cell_type": "code",
   "execution_count": 13,
   "id": "b445eda1-8bb2-402f-8127-acfb2454a197",
   "metadata": {},
   "outputs": [],
   "source": [
    "import pandas as pd"
   ]
  },
  {
   "cell_type": "code",
   "execution_count": 33,
   "id": "2ea5e3e3-42f1-470c-a86d-a784e5cd55a7",
   "metadata": {},
   "outputs": [],
   "source": [
    "scores_df = pd.read_csv(\"students.csv\")\n",
    "info_df = pd.read_csv(\"StudentsPerformance.csv\")"
   ]
  },
  {
   "cell_type": "markdown",
   "id": "2b361863-5102-4648-99b8-f199a0403b43",
   "metadata": {},
   "source": [
    "# a. Clean datasets: handle missing values, incorrect formats, and inconsistent entries"
   ]
  },
  {
   "cell_type": "code",
   "execution_count": 36,
   "id": "ae8b3972-df85-4928-8fb7-8d8f1278777d",
   "metadata": {},
   "outputs": [],
   "source": [
    "info_df_cleaned = info_df.dropna()\n",
    "scores_df_cleaned = scores_df.dropna()"
   ]
  },
  {
   "cell_type": "markdown",
   "id": "ea80f334-7ca1-4fef-af1c-6ac35eb82f5e",
   "metadata": {},
   "source": [
    "# b. Remove invalid scores (e.g., -1 in science)"
   ]
  },
  {
   "cell_type": "code",
   "execution_count": 39,
   "id": "87fc62d1-0dc3-4e39-a65a-6c69051e4305",
   "metadata": {},
   "outputs": [
    {
     "name": "stdout",
     "output_type": "stream",
     "text": [
      "'science' column not found in StudentsPerformance.csv\n"
     ]
    }
   ],
   "source": [
    "if 'science' in scores_df.columns:\n",
    "    scores_df = scores_df[scores_df['Science'] != -1]\n",
    "else:\n",
    "    print(\"'science' column not found in StudentsPerformance.csv\")"
   ]
  },
  {
   "cell_type": "markdown",
   "id": "d5b9f785-e5ca-4884-8f6d-ccafdfe7ca9c",
   "metadata": {},
   "source": [
    "# c. Convert Grade to \"Grade 10\" format"
   ]
  },
  {
   "cell_type": "code",
   "execution_count": 42,
   "id": "a5d8a750-c7f2-477b-a538-3e597a3a782e",
   "metadata": {},
   "outputs": [
    {
     "name": "stdout",
     "output_type": "stream",
     "text": [
      "'grade' column not found in students.csv\n"
     ]
    }
   ],
   "source": [
    "if 'grade' in info_df.columns:\n",
    "    info_df['grade'] = info_df['grade'].astype(int).apply(lambda x: f\"Grade {x}\")\n",
    "else:\n",
    "    print(\"'grade' column not found in students.csv\") "
   ]
  },
  {
   "cell_type": "markdown",
   "id": "f32b2143-d1f8-4da0-8164-4ccd8f405557",
   "metadata": {},
   "source": [
    "# d. Perform inner join on common column (assume 'studentid')"
   ]
  },
  {
   "cell_type": "code",
   "execution_count": 45,
   "id": "72d371c2-454c-431a-915b-d55d2ad1e3bc",
   "metadata": {},
   "outputs": [
    {
     "name": "stdout",
     "output_type": "stream",
     "text": [
      "'studentid' column not found in one of the datasets.\n"
     ]
    }
   ],
   "source": [
    "if 'studentid' in info_df.columns and 'studentid' in scores_df.columns:\n",
    "    merged_df = pd.merge(info_df, scores_df, on='studentid', how='inner')\n",
    "    print(merged_df[['studentid']].drop_duplicates())\n",
    "else:\n",
    "    print(\"'studentid' column not found in one of the datasets.\")"
   ]
  },
  {
   "cell_type": "markdown",
   "id": "c47ff8dc-07f9-4f29-9a99-ae5d936d05dc",
   "metadata": {},
   "source": [
    "# e. Handle mismatches (students present in one file but not the other)"
   ]
  },
  {
   "cell_type": "code",
   "execution_count": 48,
   "id": "979dc0fd-c93b-45e6-99bd-afaf6d873fe7",
   "metadata": {},
   "outputs": [
    {
     "name": "stdout",
     "output_type": "stream",
     "text": [
      "Cannot compare mismatches without 'studentid' in both files.\n"
     ]
    }
   ],
   "source": [
    "if 'studentid' in info_df.columns and 'studentid' in scores_df.columns:\n",
    "    info_ids = set(info_df['studentid'])\n",
    "    scores_ids = set(scores_df['studentid'])\n",
    "\n",
    "    only_in_info = info_ids - scores_ids\n",
    "    only_in_scores = scores_ids - info_ids\n",
    "\n",
    "    print(\"\\n Students in students.csv but NOT in StudentsPerformance.csv:\")\n",
    "    print(info_df[info_df['studentid'].isin(only_in_info)])\n",
    "\n",
    "    print(\"\\n Students in StudentsPerformance.csv but NOT in students.csv:\")\n",
    "    print(scores_df[scores_df['studentid'].isin(only_in_scores)])\n",
    "else:\n",
    "    print(\"Cannot compare mismatches without 'studentid' in both files.\")\n",
    "\n"
   ]
  },
  {
   "cell_type": "code",
   "execution_count": null,
   "id": "c9501518-f423-4a51-94bc-f2e5972b80a0",
   "metadata": {},
   "outputs": [],
   "source": []
  },
  {
   "cell_type": "code",
   "execution_count": null,
   "id": "05c6ad0b-19b6-4f51-8b81-04aa2cbc8add",
   "metadata": {},
   "outputs": [],
   "source": []
  },
  {
   "cell_type": "code",
   "execution_count": null,
   "id": "38af5dea-b17b-4141-ba30-979ad356a068",
   "metadata": {},
   "outputs": [],
   "source": []
  },
  {
   "cell_type": "code",
   "execution_count": null,
   "id": "0535a108-61dd-4cd8-8bc9-b6f4b19f4580",
   "metadata": {},
   "outputs": [],
   "source": []
  }
 ],
 "metadata": {
  "kernelspec": {
   "display_name": "Python 3 (ipykernel)",
   "language": "python",
   "name": "python3"
  },
  "language_info": {
   "codemirror_mode": {
    "name": "ipython",
    "version": 3
   },
   "file_extension": ".py",
   "mimetype": "text/x-python",
   "name": "python",
   "nbconvert_exporter": "python",
   "pygments_lexer": "ipython3",
   "version": "3.12.4"
  }
 },
 "nbformat": 4,
 "nbformat_minor": 5
}
